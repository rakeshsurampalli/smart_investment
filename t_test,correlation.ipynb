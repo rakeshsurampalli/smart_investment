{
  "nbformat": 4,
  "nbformat_minor": 0,
  "metadata": {
    "colab": {
      "name": "t test,correlation.ipynb",
      "provenance": [],
      "authorship_tag": "ABX9TyNZPvwbvr2n3BmnOiuMpKCZ",
      "include_colab_link": true
    },
    "kernelspec": {
      "name": "python3",
      "display_name": "Python 3"
    }
  },
  "cells": [
    {
      "cell_type": "markdown",
      "metadata": {
        "id": "view-in-github",
        "colab_type": "text"
      },
      "source": [
        "<a href=\"https://colab.research.google.com/github/rakeshsurampalli/smart_investment/blob/master/t_test%2Ccorrelation.ipynb\" target=\"_parent\"><img src=\"https://colab.research.google.com/assets/colab-badge.svg\" alt=\"Open In Colab\"/></a>"
      ]
    },
    {
      "cell_type": "code",
      "metadata": {
        "id": "gkhQiJ6PtZle",
        "colab_type": "code",
        "colab": {}
      },
      "source": [
        "import numpy as np\n",
        "import pandas as pd\n",
        "import pandas_datareader as pdr\n",
        "import matplotlib.pyplot as plt\n"
      ],
      "execution_count": 0,
      "outputs": []
    },
    {
      "cell_type": "code",
      "metadata": {
        "id": "dfE80GqRzS-r",
        "colab_type": "code",
        "colab": {
          "base_uri": "https://localhost:8080/",
          "height": 390
        },
        "outputId": "4762bb30-da01-493b-fb44-28df4a99d91c"
      },
      "source": [
        "gld = pdr.get_data_yahoo(\"GLD\",\"2018-11-08\")\n",
        "gld.head(10)\n"
      ],
      "execution_count": 4,
      "outputs": [
        {
          "output_type": "execute_result",
          "data": {
            "text/html": [
              "<div>\n",
              "<style scoped>\n",
              "    .dataframe tbody tr th:only-of-type {\n",
              "        vertical-align: middle;\n",
              "    }\n",
              "\n",
              "    .dataframe tbody tr th {\n",
              "        vertical-align: top;\n",
              "    }\n",
              "\n",
              "    .dataframe thead th {\n",
              "        text-align: right;\n",
              "    }\n",
              "</style>\n",
              "<table border=\"1\" class=\"dataframe\">\n",
              "  <thead>\n",
              "    <tr style=\"text-align: right;\">\n",
              "      <th></th>\n",
              "      <th>High</th>\n",
              "      <th>Low</th>\n",
              "      <th>Open</th>\n",
              "      <th>Close</th>\n",
              "      <th>Volume</th>\n",
              "      <th>Adj Close</th>\n",
              "    </tr>\n",
              "    <tr>\n",
              "      <th>Date</th>\n",
              "      <th></th>\n",
              "      <th></th>\n",
              "      <th></th>\n",
              "      <th></th>\n",
              "      <th></th>\n",
              "      <th></th>\n",
              "    </tr>\n",
              "  </thead>\n",
              "  <tbody>\n",
              "    <tr>\n",
              "      <th>2018-11-08</th>\n",
              "      <td>116.150002</td>\n",
              "      <td>115.500000</td>\n",
              "      <td>115.769997</td>\n",
              "      <td>115.779999</td>\n",
              "      <td>7638800</td>\n",
              "      <td>115.779999</td>\n",
              "    </tr>\n",
              "    <tr>\n",
              "      <th>2018-11-09</th>\n",
              "      <td>114.750000</td>\n",
              "      <td>114.139999</td>\n",
              "      <td>114.599998</td>\n",
              "      <td>114.480003</td>\n",
              "      <td>14159200</td>\n",
              "      <td>114.480003</td>\n",
              "    </tr>\n",
              "    <tr>\n",
              "      <th>2018-11-12</th>\n",
              "      <td>114.050003</td>\n",
              "      <td>113.580002</td>\n",
              "      <td>114.010002</td>\n",
              "      <td>113.660004</td>\n",
              "      <td>7498600</td>\n",
              "      <td>113.660004</td>\n",
              "    </tr>\n",
              "    <tr>\n",
              "      <th>2018-11-13</th>\n",
              "      <td>113.930000</td>\n",
              "      <td>113.419998</td>\n",
              "      <td>113.720001</td>\n",
              "      <td>113.699997</td>\n",
              "      <td>9309000</td>\n",
              "      <td>113.699997</td>\n",
              "    </tr>\n",
              "    <tr>\n",
              "      <th>2018-11-14</th>\n",
              "      <td>115.059998</td>\n",
              "      <td>113.459999</td>\n",
              "      <td>113.529999</td>\n",
              "      <td>114.639999</td>\n",
              "      <td>13950200</td>\n",
              "      <td>114.639999</td>\n",
              "    </tr>\n",
              "    <tr>\n",
              "      <th>2018-11-15</th>\n",
              "      <td>114.989998</td>\n",
              "      <td>114.559998</td>\n",
              "      <td>114.830002</td>\n",
              "      <td>114.769997</td>\n",
              "      <td>8910600</td>\n",
              "      <td>114.769997</td>\n",
              "    </tr>\n",
              "    <tr>\n",
              "      <th>2018-11-16</th>\n",
              "      <td>115.879997</td>\n",
              "      <td>115.370003</td>\n",
              "      <td>115.830002</td>\n",
              "      <td>115.620003</td>\n",
              "      <td>8577000</td>\n",
              "      <td>115.620003</td>\n",
              "    </tr>\n",
              "    <tr>\n",
              "      <th>2018-11-19</th>\n",
              "      <td>115.919998</td>\n",
              "      <td>115.370003</td>\n",
              "      <td>115.449997</td>\n",
              "      <td>115.669998</td>\n",
              "      <td>8508300</td>\n",
              "      <td>115.669998</td>\n",
              "    </tr>\n",
              "    <tr>\n",
              "      <th>2018-11-20</th>\n",
              "      <td>115.949997</td>\n",
              "      <td>115.370003</td>\n",
              "      <td>115.940002</td>\n",
              "      <td>115.669998</td>\n",
              "      <td>9075100</td>\n",
              "      <td>115.669998</td>\n",
              "    </tr>\n",
              "    <tr>\n",
              "      <th>2018-11-21</th>\n",
              "      <td>116.349998</td>\n",
              "      <td>115.860001</td>\n",
              "      <td>115.940002</td>\n",
              "      <td>115.860001</td>\n",
              "      <td>8834200</td>\n",
              "      <td>115.860001</td>\n",
              "    </tr>\n",
              "  </tbody>\n",
              "</table>\n",
              "</div>"
            ],
            "text/plain": [
              "                  High         Low  ...    Volume   Adj Close\n",
              "Date                                ...                      \n",
              "2018-11-08  116.150002  115.500000  ...   7638800  115.779999\n",
              "2018-11-09  114.750000  114.139999  ...  14159200  114.480003\n",
              "2018-11-12  114.050003  113.580002  ...   7498600  113.660004\n",
              "2018-11-13  113.930000  113.419998  ...   9309000  113.699997\n",
              "2018-11-14  115.059998  113.459999  ...  13950200  114.639999\n",
              "2018-11-15  114.989998  114.559998  ...   8910600  114.769997\n",
              "2018-11-16  115.879997  115.370003  ...   8577000  115.620003\n",
              "2018-11-19  115.919998  115.370003  ...   8508300  115.669998\n",
              "2018-11-20  115.949997  115.370003  ...   9075100  115.669998\n",
              "2018-11-21  116.349998  115.860001  ...   8834200  115.860001\n",
              "\n",
              "[10 rows x 6 columns]"
            ]
          },
          "metadata": {
            "tags": []
          },
          "execution_count": 4
        }
      ]
    },
    {
      "cell_type": "code",
      "metadata": {
        "id": "_BJy6lorzwq7",
        "colab_type": "code",
        "colab": {}
      },
      "source": [
        "gld_close = pd.DataFrame(gld.Close)\n",
        "gld_open = pd.DataFrame(gld[\"Open\"])"
      ],
      "execution_count": 0,
      "outputs": []
    },
    {
      "cell_type": "code",
      "metadata": {
        "id": "EYtR4CSa0IUn",
        "colab_type": "code",
        "colab": {
          "base_uri": "https://localhost:8080/",
          "height": 51
        },
        "outputId": "7fdc3d44-4949-42d1-8878-27758b48563c"
      },
      "source": [
        "gld_mean = np.mean(gld_close)\n",
        "gld_mean.head()"
      ],
      "execution_count": 8,
      "outputs": [
        {
          "output_type": "execute_result",
          "data": {
            "text/plain": [
              "Close    132.930724\n",
              "dtype: float64"
            ]
          },
          "metadata": {
            "tags": []
          },
          "execution_count": 8
        }
      ]
    },
    {
      "cell_type": "code",
      "metadata": {
        "id": "Vs_LN5HU2KSU",
        "colab_type": "code",
        "colab": {}
      },
      "source": [
        "gld_sample = gld_close.sample(10)"
      ],
      "execution_count": 0,
      "outputs": []
    },
    {
      "cell_type": "markdown",
      "metadata": {
        "id": "p47q7O5I5e85",
        "colab_type": "text"
      },
      "source": [
        "1 SAMPLE T TEST"
      ]
    },
    {
      "cell_type": "code",
      "metadata": {
        "id": "gJ-yI9oz4Bba",
        "colab_type": "code",
        "colab": {}
      },
      "source": [
        "from scipy.stats import ttest_1samp"
      ],
      "execution_count": 0,
      "outputs": []
    },
    {
      "cell_type": "code",
      "metadata": {
        "id": "A8Mz3kQx4IxP",
        "colab_type": "code",
        "colab": {
          "base_uri": "https://localhost:8080/",
          "height": 34
        },
        "outputId": "d0f556ba-7aa6-429f-b10d-1f6f4a03745a"
      },
      "source": [
        "ttest,p_value = ttest_1samp(gld_sample,132.9)\n",
        "print(p_value)\n"
      ],
      "execution_count": 20,
      "outputs": [
        {
          "output_type": "stream",
          "text": [
            "[0.30723579]\n"
          ],
          "name": "stdout"
        }
      ]
    },
    {
      "cell_type": "code",
      "metadata": {
        "id": "0F_ml_EW4j0G",
        "colab_type": "code",
        "colab": {
          "base_uri": "https://localhost:8080/",
          "height": 34
        },
        "outputId": "b4a9a199-44d3-4754-f991-f69915f39562"
      },
      "source": [
        "if p_value < 0.05:\n",
        "  print(\"we are rejecting null hypotisis\")\n",
        "else:\n",
        "  print(\"we are accepting null hypotisis\")"
      ],
      "execution_count": 21,
      "outputs": [
        {
          "output_type": "stream",
          "text": [
            "we are accepting null hypotisis\n"
          ],
          "name": "stdout"
        }
      ]
    },
    {
      "cell_type": "markdown",
      "metadata": {
        "id": "pDQi4rh16uGN",
        "colab_type": "text"
      },
      "source": [
        "2 SAMPLE T TEST"
      ]
    },
    {
      "cell_type": "code",
      "metadata": {
        "id": "mnSBZdoH67yc",
        "colab_type": "code",
        "colab": {
          "base_uri": "https://localhost:8080/",
          "height": 34
        },
        "outputId": "f4265d8c-6ddf-4541-97fc-4b95d570892e"
      },
      "source": [
        "from scipy.stats import ttest_ind\n",
        "_,p_value = ttest_ind(a = gld_open,b = gld_close,equal_var=False)\n",
        "print(p_value)"
      ],
      "execution_count": 48,
      "outputs": [
        {
          "output_type": "stream",
          "text": [
            "[0.98360928]\n"
          ],
          "name": "stdout"
        }
      ]
    },
    {
      "cell_type": "code",
      "metadata": {
        "id": "2HK0Wntb9gkZ",
        "colab_type": "code",
        "colab": {
          "base_uri": "https://localhost:8080/",
          "height": 34
        },
        "outputId": "29f67ba0-c541-43a1-e460-f3b9bb1fd92a"
      },
      "source": [
        "if p_value < 0.05:\n",
        "  print(\"we are rejecting null hypotisis\")\n",
        "else:\n",
        "  print(\"we are accepting null hypotisis\")"
      ],
      "execution_count": 46,
      "outputs": [
        {
          "output_type": "stream",
          "text": [
            "we are accepting null hypotisis\n"
          ],
          "name": "stdout"
        }
      ]
    },
    {
      "cell_type": "markdown",
      "metadata": {
        "id": "6_TU7VTs5hzh",
        "colab_type": "text"
      },
      "source": [
        "CORRELATIION\n"
      ]
    },
    {
      "cell_type": "code",
      "metadata": {
        "id": "ui1s1H985jvk",
        "colab_type": "code",
        "colab": {
          "base_uri": "https://localhost:8080/",
          "height": 235
        },
        "outputId": "666aec7f-e214-4fd7-9a2a-19988545737d"
      },
      "source": [
        "gld_correlation = gld.corr()\n",
        "gld.corr()"
      ],
      "execution_count": 26,
      "outputs": [
        {
          "output_type": "execute_result",
          "data": {
            "text/html": [
              "<div>\n",
              "<style scoped>\n",
              "    .dataframe tbody tr th:only-of-type {\n",
              "        vertical-align: middle;\n",
              "    }\n",
              "\n",
              "    .dataframe tbody tr th {\n",
              "        vertical-align: top;\n",
              "    }\n",
              "\n",
              "    .dataframe thead th {\n",
              "        text-align: right;\n",
              "    }\n",
              "</style>\n",
              "<table border=\"1\" class=\"dataframe\">\n",
              "  <thead>\n",
              "    <tr style=\"text-align: right;\">\n",
              "      <th></th>\n",
              "      <th>High</th>\n",
              "      <th>Low</th>\n",
              "      <th>Open</th>\n",
              "      <th>Close</th>\n",
              "      <th>Volume</th>\n",
              "      <th>Adj Close</th>\n",
              "    </tr>\n",
              "  </thead>\n",
              "  <tbody>\n",
              "    <tr>\n",
              "      <th>High</th>\n",
              "      <td>1.000000</td>\n",
              "      <td>0.996937</td>\n",
              "      <td>0.998319</td>\n",
              "      <td>0.998458</td>\n",
              "      <td>0.392144</td>\n",
              "      <td>0.998458</td>\n",
              "    </tr>\n",
              "    <tr>\n",
              "      <th>Low</th>\n",
              "      <td>0.996937</td>\n",
              "      <td>1.000000</td>\n",
              "      <td>0.997719</td>\n",
              "      <td>0.998546</td>\n",
              "      <td>0.333202</td>\n",
              "      <td>0.998546</td>\n",
              "    </tr>\n",
              "    <tr>\n",
              "      <th>Open</th>\n",
              "      <td>0.998319</td>\n",
              "      <td>0.997719</td>\n",
              "      <td>1.000000</td>\n",
              "      <td>0.996719</td>\n",
              "      <td>0.371316</td>\n",
              "      <td>0.996719</td>\n",
              "    </tr>\n",
              "    <tr>\n",
              "      <th>Close</th>\n",
              "      <td>0.998458</td>\n",
              "      <td>0.998546</td>\n",
              "      <td>0.996719</td>\n",
              "      <td>1.000000</td>\n",
              "      <td>0.358688</td>\n",
              "      <td>1.000000</td>\n",
              "    </tr>\n",
              "    <tr>\n",
              "      <th>Volume</th>\n",
              "      <td>0.392144</td>\n",
              "      <td>0.333202</td>\n",
              "      <td>0.371316</td>\n",
              "      <td>0.358688</td>\n",
              "      <td>1.000000</td>\n",
              "      <td>0.358688</td>\n",
              "    </tr>\n",
              "    <tr>\n",
              "      <th>Adj Close</th>\n",
              "      <td>0.998458</td>\n",
              "      <td>0.998546</td>\n",
              "      <td>0.996719</td>\n",
              "      <td>1.000000</td>\n",
              "      <td>0.358688</td>\n",
              "      <td>1.000000</td>\n",
              "    </tr>\n",
              "  </tbody>\n",
              "</table>\n",
              "</div>"
            ],
            "text/plain": [
              "               High       Low      Open     Close    Volume  Adj Close\n",
              "High       1.000000  0.996937  0.998319  0.998458  0.392144   0.998458\n",
              "Low        0.996937  1.000000  0.997719  0.998546  0.333202   0.998546\n",
              "Open       0.998319  0.997719  1.000000  0.996719  0.371316   0.996719\n",
              "Close      0.998458  0.998546  0.996719  1.000000  0.358688   1.000000\n",
              "Volume     0.392144  0.333202  0.371316  0.358688  1.000000   0.358688\n",
              "Adj Close  0.998458  0.998546  0.996719  1.000000  0.358688   1.000000"
            ]
          },
          "metadata": {
            "tags": []
          },
          "execution_count": 26
        }
      ]
    },
    {
      "cell_type": "code",
      "metadata": {
        "id": "6JmG_s8-5rLn",
        "colab_type": "code",
        "colab": {
          "base_uri": "https://localhost:8080/",
          "height": 282
        },
        "outputId": "3438c790-3960-40a1-ce75-057ecb029d69"
      },
      "source": [
        "plt.plot(gld_correlation[\"High\"])\n",
        "plt.plot(gld_correlation[\"Adj Close\"])"
      ],
      "execution_count": 31,
      "outputs": [
        {
          "output_type": "execute_result",
          "data": {
            "text/plain": [
              "[<matplotlib.lines.Line2D at 0x7f32dd944b00>]"
            ]
          },
          "metadata": {
            "tags": []
          },
          "execution_count": 31
        },
        {
          "output_type": "display_data",
          "data": {
            "image/png": "[encoded data removed]",
            "text/plain": [
              "<Figure size 432x288 with 1 Axes>"
            ]
          },
          "metadata": {
            "tags": []
          }
        }
      ]
    }
  ]
}