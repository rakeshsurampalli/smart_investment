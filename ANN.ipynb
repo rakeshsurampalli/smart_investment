{
  "nbformat": 4,
  "nbformat_minor": 0,
  "metadata": {
    "colab": {
      "name": "ANN.ipynb",
      "provenance": [],
      "include_colab_link": true
    },
    "kernelspec": {
      "name": "python3",
      "display_name": "Python 3"
    },
    "accelerator": "GPU"
  },
  "cells": [
    {
      "cell_type": "markdown",
      "metadata": {
        "id": "view-in-github",
        "colab_type": "text"
      },
      "source": [
        "<a href=\"https://colab.research.google.com/github/rakeshsurampalli/smart_investment/blob/master/ANN.ipynb\" target=\"_parent\"><img src=\"https://colab.research.google.com/assets/colab-badge.svg\" alt=\"Open In Colab\"/></a>"
      ]
    },
    {
      "cell_type": "code",
      "metadata": {
        "id": "lhNo8EHFDO0i",
        "colab_type": "code",
        "colab": {}
      },
      "source": [
        "try:\n",
        "  # %tensorflow_version only exists in Colab.\n",
        "  %tensorflow_version 2.x\n",
        "except Exception:\n",
        "  pass\n"
      ],
      "execution_count": 23,
      "outputs": []
    },
    {
      "cell_type": "code",
      "metadata": {
        "id": "jLSMbyHCbkVN",
        "colab_type": "code",
        "colab": {}
      },
      "source": [
        ""
      ],
      "execution_count": null,
      "outputs": []
    },
    {
      "cell_type": "code",
      "metadata": {
        "id": "HXjgIS0TAjrE",
        "colab_type": "code",
        "colab": {
          "base_uri": "https://localhost:8080/",
          "height": 34
        },
        "outputId": "26bfaccd-fb15-4c1b-92d7-b62ecea008ad"
      },
      "source": [
        "import tensorflow as tf\n",
        "from tensorflow import keras\n",
        "import matplotlib.pyplot as plt\n",
        "print(tf.__version__)"
      ],
      "execution_count": 24,
      "outputs": [
        {
          "output_type": "stream",
          "text": [
            "2.2.0\n"
          ],
          "name": "stdout"
        }
      ]
    },
    {
      "cell_type": "code",
      "metadata": {
        "id": "Yf-Iq3t3Am33",
        "colab_type": "code",
        "colab": {}
      },
      "source": [
        "import pandas as pd\n",
        "import numpy as np\n",
        "from google.colab import files\n",
        "from pandas import datetime\n",
        "import matplotlib.pyplot as plt\n"
      ],
      "execution_count": 8,
      "outputs": []
    },
    {
      "cell_type": "code",
      "metadata": {
        "id": "d135lTR9Iw8P",
        "colab_type": "code",
        "colab": {}
      },
      "source": [
        "import numpy as np\n",
        "import matplotlib.pyplot as plt\n",
        "def plot_series(time, series, format=\"-\", start=0, end=None):\n",
        "    plt.plot(time[start:end], series[start:end], format)\n",
        "    plt.xlabel(\"Time\")\n",
        "    plt.ylabel(\"Value\")\n",
        "    plt.grid(True)"
      ],
      "execution_count": 9,
      "outputs": []
    },
    {
      "cell_type": "code",
      "metadata": {
        "id": "Y5JcQDL8XEXT",
        "colab_type": "code",
        "colab": {}
      },
      "source": [
        "!pip install -U -q PyDrive\n",
        "from pydrive.auth import GoogleAuth\n",
        "from pydrive.drive import GoogleDrive\n",
        "from google.colab import auth\n",
        "from oauth2client.client import GoogleCredentials"
      ],
      "execution_count": 10,
      "outputs": []
    },
    {
      "cell_type": "code",
      "metadata": {
        "id": "mE4iBAOVXIk7",
        "colab_type": "code",
        "colab": {}
      },
      "source": [
        "\n",
        "# 1. Authenticate and create the PyDrive client.\n",
        "auth.authenticate_user()\n",
        "gauth = GoogleAuth()\n",
        "gauth.credentials = GoogleCredentials.get_application_default()\n",
        "drive = GoogleDrive(gauth)"
      ],
      "execution_count": 11,
      "outputs": []
    },
    {
      "cell_type": "code",
      "metadata": {
        "id": "8c0tgJ69XIq7",
        "colab_type": "code",
        "colab": {}
      },
      "source": [
        "\n",
        "#2. Get the file\n",
        "downloaded = drive.CreateFile({'id':'1uXnme3jK0iwMN6tBujDWVU1Td2fj2k3T'}) # replace the id with id of file you want to access\n",
        "downloaded.GetContentFile('RELIANCE20.csv')"
      ],
      "execution_count": 12,
      "outputs": []
    },
    {
      "cell_type": "code",
      "metadata": {
        "id": "umsOxL4pXIxF",
        "colab_type": "code",
        "colab": {}
      },
      "source": [
        "import pandas as pd\n",
        "sales = pd.read_csv('RELIANCE20.csv')"
      ],
      "execution_count": 13,
      "outputs": []
    },
    {
      "cell_type": "code",
      "metadata": {
        "id": "u0fA5g_8XiMr",
        "colab_type": "code",
        "colab": {
          "base_uri": "https://localhost:8080/",
          "height": 204
        },
        "outputId": "2747202e-a994-4835-d2e2-96272e600c30"
      },
      "source": [
        "sales.head()"
      ],
      "execution_count": 14,
      "outputs": [
        {
          "output_type": "execute_result",
          "data": {
            "text/html": [
              "<div>\n",
              "<style scoped>\n",
              "    .dataframe tbody tr th:only-of-type {\n",
              "        vertical-align: middle;\n",
              "    }\n",
              "\n",
              "    .dataframe tbody tr th {\n",
              "        vertical-align: top;\n",
              "    }\n",
              "\n",
              "    .dataframe thead th {\n",
              "        text-align: right;\n",
              "    }\n",
              "</style>\n",
              "<table border=\"1\" class=\"dataframe\">\n",
              "  <thead>\n",
              "    <tr style=\"text-align: right;\">\n",
              "      <th></th>\n",
              "      <th>Date</th>\n",
              "      <th>Open</th>\n",
              "      <th>High</th>\n",
              "      <th>Low</th>\n",
              "      <th>Close</th>\n",
              "      <th>Adj Close</th>\n",
              "      <th>Volume</th>\n",
              "    </tr>\n",
              "  </thead>\n",
              "  <tbody>\n",
              "    <tr>\n",
              "      <th>0</th>\n",
              "      <td>1996-01-01</td>\n",
              "      <td>16.009800</td>\n",
              "      <td>16.095699</td>\n",
              "      <td>15.904300</td>\n",
              "      <td>16.0683</td>\n",
              "      <td>2.412877</td>\n",
              "      <td>47600787.0</td>\n",
              "    </tr>\n",
              "    <tr>\n",
              "      <th>1</th>\n",
              "      <td>1996-01-02</td>\n",
              "      <td>16.029301</td>\n",
              "      <td>16.107401</td>\n",
              "      <td>15.826200</td>\n",
              "      <td>15.9434</td>\n",
              "      <td>2.394122</td>\n",
              "      <td>77143764.0</td>\n",
              "    </tr>\n",
              "    <tr>\n",
              "      <th>2</th>\n",
              "      <td>1996-01-03</td>\n",
              "      <td>16.205000</td>\n",
              "      <td>16.943001</td>\n",
              "      <td>16.029301</td>\n",
              "      <td>16.0644</td>\n",
              "      <td>2.412292</td>\n",
              "      <td>95695836.0</td>\n",
              "    </tr>\n",
              "    <tr>\n",
              "      <th>3</th>\n",
              "      <td>1996-01-04</td>\n",
              "      <td>15.912100</td>\n",
              "      <td>15.962900</td>\n",
              "      <td>15.701300</td>\n",
              "      <td>15.9160</td>\n",
              "      <td>2.390007</td>\n",
              "      <td>99159504.0</td>\n",
              "    </tr>\n",
              "    <tr>\n",
              "      <th>4</th>\n",
              "      <td>1996-01-05</td>\n",
              "      <td>15.853600</td>\n",
              "      <td>15.853600</td>\n",
              "      <td>15.670000</td>\n",
              "      <td>15.8067</td>\n",
              "      <td>2.373594</td>\n",
              "      <td>76213503.0</td>\n",
              "    </tr>\n",
              "  </tbody>\n",
              "</table>\n",
              "</div>"
            ],
            "text/plain": [
              "         Date       Open       High        Low    Close  Adj Close      Volume\n",
              "0  1996-01-01  16.009800  16.095699  15.904300  16.0683   2.412877  47600787.0\n",
              "1  1996-01-02  16.029301  16.107401  15.826200  15.9434   2.394122  77143764.0\n",
              "2  1996-01-03  16.205000  16.943001  16.029301  16.0644   2.412292  95695836.0\n",
              "3  1996-01-04  15.912100  15.962900  15.701300  15.9160   2.390007  99159504.0\n",
              "4  1996-01-05  15.853600  15.853600  15.670000  15.8067   2.373594  76213503.0"
            ]
          },
          "metadata": {
            "tags": []
          },
          "execution_count": 14
        }
      ]
    },
    {
      "cell_type": "code",
      "metadata": {
        "id": "5zM50xykXiS8",
        "colab_type": "code",
        "colab": {}
      },
      "source": [
        "sales = sales.Close"
      ],
      "execution_count": 15,
      "outputs": []
    },
    {
      "cell_type": "code",
      "metadata": {
        "id": "pn3u9mCKXiZW",
        "colab_type": "code",
        "colab": {}
      },
      "source": [
        ""
      ],
      "execution_count": null,
      "outputs": []
    },
    {
      "cell_type": "code",
      "metadata": {
        "id": "k1uTTbLABBvW",
        "colab_type": "code",
        "colab": {
          "resources": {
            "http://localhost:8080/nbextensions/google.colab/files.js": {
              "data": "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",
              "ok": true,
              "headers": [
                [
                  "content-type",
                  "application/javascript"
                ]
              ],
              "status": 200,
              "status_text": ""
            }
          },
          "base_uri": "https://localhost:8080/",
          "height": 397
        },
        "outputId": "9722a49b-4696-4163-c665-796abadc8161"
      },
      "source": [
        "uploaded = files.upload()\n",
        "for fn in uploaded.keys():\n",
        "  print('User uploaded file \"{name}\" with length {length} bytes'.format(\n",
        "      name=fn, length=len(uploaded[fn])))"
      ],
      "execution_count": 66,
      "outputs": [
        {
          "output_type": "display_data",
          "data": {
            "text/html": [
              "\n",
              "     <input type=\"file\" id=\"files-69bd3278-f981-4718-b51b-82464fa44675\" name=\"files[]\" multiple disabled\n",
              "        style=\"border:none\" />\n",
              "     <output id=\"result-69bd3278-f981-4718-b51b-82464fa44675\">\n",
              "      Upload widget is only available when the cell has been executed in the\n",
              "      current browser session. Please rerun this cell to enable.\n",
              "      </output>\n",
              "      <script src=\"/nbextensions/google.colab/files.js\"></script> "
            ],
            "text/plain": [
              "<IPython.core.display.HTML object>"
            ]
          },
          "metadata": {
            "tags": []
          }
        },
        {
          "output_type": "error",
          "ename": "MessageError",
          "evalue": "ignored",
          "traceback": [
            "\u001b[0;31m---------------------------------------------------------------------------\u001b[0m",
            "\u001b[0;31mMessageError\u001b[0m                              Traceback (most recent call last)",
            "\u001b[0;32m<ipython-input-66-633487f4966c>\u001b[0m in \u001b[0;36m<module>\u001b[0;34m()\u001b[0m\n\u001b[0;32m----> 1\u001b[0;31m \u001b[0muploaded\u001b[0m \u001b[0;34m=\u001b[0m \u001b[0mfiles\u001b[0m\u001b[0;34m.\u001b[0m\u001b[0mupload\u001b[0m\u001b[0;34m(\u001b[0m\u001b[0;34m)\u001b[0m\u001b[0;34m\u001b[0m\u001b[0;34m\u001b[0m\u001b[0m\n\u001b[0m\u001b[1;32m      2\u001b[0m \u001b[0;32mfor\u001b[0m \u001b[0mfn\u001b[0m \u001b[0;32min\u001b[0m \u001b[0muploaded\u001b[0m\u001b[0;34m.\u001b[0m\u001b[0mkeys\u001b[0m\u001b[0;34m(\u001b[0m\u001b[0;34m)\u001b[0m\u001b[0;34m:\u001b[0m\u001b[0;34m\u001b[0m\u001b[0;34m\u001b[0m\u001b[0m\n\u001b[1;32m      3\u001b[0m   print('User uploaded file \"{name}\" with length {length} bytes'.format(\n\u001b[1;32m      4\u001b[0m       name=fn, length=len(uploaded[fn])))\n",
            "\u001b[0;32m/usr/local/lib/python3.6/dist-packages/google/colab/files.py\u001b[0m in \u001b[0;36mupload\u001b[0;34m()\u001b[0m\n\u001b[1;32m     75\u001b[0m     result = _output.eval_js(\n\u001b[1;32m     76\u001b[0m         'google.colab._files._uploadFilesContinue(\"{output_id}\")'.format(\n\u001b[0;32m---> 77\u001b[0;31m             output_id=output_id))\n\u001b[0m\u001b[1;32m     78\u001b[0m     \u001b[0;32mif\u001b[0m \u001b[0mresult\u001b[0m\u001b[0;34m[\u001b[0m\u001b[0;34m'action'\u001b[0m\u001b[0;34m]\u001b[0m \u001b[0;34m!=\u001b[0m \u001b[0;34m'append'\u001b[0m\u001b[0;34m:\u001b[0m\u001b[0;34m\u001b[0m\u001b[0;34m\u001b[0m\u001b[0m\n\u001b[1;32m     79\u001b[0m       \u001b[0;31m# JS side uses a generator of promises to process all of the files- some\u001b[0m\u001b[0;34m\u001b[0m\u001b[0;34m\u001b[0m\u001b[0;34m\u001b[0m\u001b[0m\n",
            "\u001b[0;32m/usr/local/lib/python3.6/dist-packages/google/colab/output/_js.py\u001b[0m in \u001b[0;36meval_js\u001b[0;34m(script, ignore_result)\u001b[0m\n\u001b[1;32m     37\u001b[0m   \u001b[0;32mif\u001b[0m \u001b[0mignore_result\u001b[0m\u001b[0;34m:\u001b[0m\u001b[0;34m\u001b[0m\u001b[0;34m\u001b[0m\u001b[0m\n\u001b[1;32m     38\u001b[0m     \u001b[0;32mreturn\u001b[0m\u001b[0;34m\u001b[0m\u001b[0;34m\u001b[0m\u001b[0m\n\u001b[0;32m---> 39\u001b[0;31m   \u001b[0;32mreturn\u001b[0m \u001b[0m_message\u001b[0m\u001b[0;34m.\u001b[0m\u001b[0mread_reply_from_input\u001b[0m\u001b[0;34m(\u001b[0m\u001b[0mrequest_id\u001b[0m\u001b[0;34m)\u001b[0m\u001b[0;34m\u001b[0m\u001b[0;34m\u001b[0m\u001b[0m\n\u001b[0m\u001b[1;32m     40\u001b[0m \u001b[0;34m\u001b[0m\u001b[0m\n\u001b[1;32m     41\u001b[0m \u001b[0;34m\u001b[0m\u001b[0m\n",
            "\u001b[0;32m/usr/local/lib/python3.6/dist-packages/google/colab/_message.py\u001b[0m in \u001b[0;36mread_reply_from_input\u001b[0;34m(message_id, timeout_sec)\u001b[0m\n\u001b[1;32m    104\u001b[0m         reply.get('colab_msg_id') == message_id):\n\u001b[1;32m    105\u001b[0m       \u001b[0;32mif\u001b[0m \u001b[0;34m'error'\u001b[0m \u001b[0;32min\u001b[0m \u001b[0mreply\u001b[0m\u001b[0;34m:\u001b[0m\u001b[0;34m\u001b[0m\u001b[0;34m\u001b[0m\u001b[0m\n\u001b[0;32m--> 106\u001b[0;31m         \u001b[0;32mraise\u001b[0m \u001b[0mMessageError\u001b[0m\u001b[0;34m(\u001b[0m\u001b[0mreply\u001b[0m\u001b[0;34m[\u001b[0m\u001b[0;34m'error'\u001b[0m\u001b[0;34m]\u001b[0m\u001b[0;34m)\u001b[0m\u001b[0;34m\u001b[0m\u001b[0;34m\u001b[0m\u001b[0m\n\u001b[0m\u001b[1;32m    107\u001b[0m       \u001b[0;32mreturn\u001b[0m \u001b[0mreply\u001b[0m\u001b[0;34m.\u001b[0m\u001b[0mget\u001b[0m\u001b[0;34m(\u001b[0m\u001b[0;34m'data'\u001b[0m\u001b[0;34m,\u001b[0m \u001b[0;32mNone\u001b[0m\u001b[0;34m)\u001b[0m\u001b[0;34m\u001b[0m\u001b[0;34m\u001b[0m\u001b[0m\n\u001b[1;32m    108\u001b[0m \u001b[0;34m\u001b[0m\u001b[0m\n",
            "\u001b[0;31mMessageError\u001b[0m: RangeError: Maximum call stack size exceeded."
          ]
        }
      ]
    },
    {
      "cell_type": "code",
      "metadata": {
        "id": "3afab7wcBL0_",
        "colab_type": "code",
        "colab": {
          "base_uri": "https://localhost:8080/",
          "height": 71
        },
        "outputId": "a45c6365-214d-43bd-9b42-1bf60bafe74c"
      },
      "source": [
        "import io\n",
        "def parser(x):\n",
        "  return datetime.strptime(x,'%d/%m/%y')\n",
        "\n",
        "sales = pd.read_csv(io.StringIO(uploaded['reliance1.csv'].decode('utf-8')),index_col=0,parse_dates=[0],date_parser=parser)"
      ],
      "execution_count": 45,
      "outputs": [
        {
          "output_type": "stream",
          "text": [
            "/usr/local/lib/python3.6/dist-packages/ipykernel_launcher.py:3: FutureWarning: The pandas.datetime class is deprecated and will be removed from pandas in a future version. Import from datetime instead.\n",
            "  This is separate from the ipykernel package so we can avoid doing imports until\n"
          ],
          "name": "stderr"
        }
      ]
    },
    {
      "cell_type": "code",
      "metadata": {
        "id": "t20CqsNtChf9",
        "colab_type": "code",
        "colab": {
          "base_uri": "https://localhost:8080/",
          "height": 51
        },
        "outputId": "3a931ff4-f25e-4db5-d0be-ee46c8d5293d"
      },
      "source": [
        "sales.head()\n",
        "print(\"checking if any null values are present\\n\", sales.isna().sum())"
      ],
      "execution_count": 16,
      "outputs": [
        {
          "output_type": "stream",
          "text": [
            "checking if any null values are present\n",
            " 126\n"
          ],
          "name": "stdout"
        }
      ]
    },
    {
      "cell_type": "code",
      "metadata": {
        "id": "FeG9Crea-mYq",
        "colab_type": "code",
        "colab": {
          "base_uri": "https://localhost:8080/",
          "height": 51
        },
        "outputId": "c3a6809e-340c-4181-e0d5-f14ceb783e25"
      },
      "source": [
        "sales = sales.dropna()\n",
        "print(\"checking if any null values are present\\n\", sales.isna().sum())"
      ],
      "execution_count": 17,
      "outputs": [
        {
          "output_type": "stream",
          "text": [
            "checking if any null values are present\n",
            " 0\n"
          ],
          "name": "stdout"
        }
      ]
    },
    {
      "cell_type": "code",
      "metadata": {
        "id": "KGpMj6QTwDEQ",
        "colab_type": "code",
        "colab": {
          "base_uri": "https://localhost:8080/",
          "height": 545
        },
        "outputId": "d9a5a12f-ecc5-4d9a-b9e8-ced95f3bab1f"
      },
      "source": [
        "from statsmodels.graphics.tsaplots import plot_acf\n",
        "plot_acf(sales)"
      ],
      "execution_count": 18,
      "outputs": [
        {
          "output_type": "execute_result",
          "data": {
            "image/png": "[encoded data removed]",
            "text/plain": [
              "<Figure size 432x288 with 1 Axes>"
            ]
          },
          "metadata": {
            "tags": []
          },
          "execution_count": 18
        },
        {
          "output_type": "display_data",
          "data": {
            "image/png": "[encoded data removed]",
            "text/plain": [
              "<Figure size 432x288 with 1 Axes>"
            ]
          },
          "metadata": {
            "tags": [],
            "needs_background": "light"
          }
        }
      ]
    },
    {
      "cell_type": "code",
      "metadata": {
        "id": "N5jKh1d_wDLT",
        "colab_type": "code",
        "colab": {}
      },
      "source": [
        "sales_diff = sales.diff(periods=1)"
      ],
      "execution_count": 82,
      "outputs": []
    },
    {
      "cell_type": "code",
      "metadata": {
        "id": "z_GTboaGwDRB",
        "colab_type": "code",
        "colab": {
          "base_uri": "https://localhost:8080/"
        },
        "outputId": "105e1c7f-f32c-4195-d403-6ee397d417f3"
      },
      "source": [
        "sales = sales_diff[1:]\n",
        "sales.head()"
      ],
      "execution_count": 83,
      "outputs": [
        {
          "output_type": "execute_result",
          "data": {
            "text/plain": [
              "1   -0.1249\n",
              "2    0.1210\n",
              "3   -0.1484\n",
              "4   -0.1093\n",
              "5   -0.6326\n",
              "Name: Close, dtype: float64"
            ]
          },
          "metadata": {
            "tags": []
          },
          "execution_count": 83
        }
      ]
    },
    {
      "cell_type": "code",
      "metadata": {
        "id": "nJho0N5NwDbo",
        "colab_type": "code",
        "colab": {}
      },
      "source": [
        ""
      ],
      "execution_count": null,
      "outputs": []
    },
    {
      "cell_type": "code",
      "metadata": {
        "id": "MwWZlIaBBUy4",
        "colab_type": "code",
        "colab": {
          "base_uri": "https://localhost:8080/",
          "height": 221
        },
        "outputId": "9b3fe229-c309-4d50-ca67-01b691e80bdd"
      },
      "source": [
        " X = sales\n",
        "#X = np.random.rand(32).astype(np.float32)+58\n",
        "time = np.arange(6027)\n",
        "\n",
        "print(X)\n",
        "X.size\n",
        "split_time = 5500\n",
        "time_train = time[:split_time]\n",
        "time_valid = time[split_time:]\n",
        "x_train = X[:split_time]\n",
        "x_test = X[split_time:]\n"
      ],
      "execution_count": 40,
      "outputs": [
        {
          "output_type": "stream",
          "text": [
            "0         16.068300\n",
            "1         15.943400\n",
            "2         16.064400\n",
            "3         15.916000\n",
            "4         15.806700\n",
            "           ...     \n",
            "6148    1431.550049\n",
            "6149    1424.050049\n",
            "6150    1445.550049\n",
            "6151    1472.250000\n",
            "6152    1464.400024\n",
            "Name: Close, Length: 6027, dtype: float64\n"
          ],
          "name": "stdout"
        }
      ]
    },
    {
      "cell_type": "code",
      "metadata": {
        "id": "PI4Dk29fDZhO",
        "colab_type": "code",
        "colab": {}
      },
      "source": [
        "window_size = 20\n",
        "batch_size = 32\n",
        "shuffle_buffer_size = 1000\n",
        "def windowed_dataset(series, window_size, batch_size, shuffle_buffer):\n",
        "  dataset = tf.data.Dataset.from_tensor_slices(series)\n",
        "  dataset = dataset.window(window_size + 1, shift=1, drop_remainder=True)\n",
        "  dataset = dataset.flat_map(lambda window: window.batch(window_size + 1))\n",
        "  dataset = dataset.shuffle(shuffle_buffer).map(lambda window: (window[:-1], window[-1]))\n",
        "  dataset = dataset.batch(batch_size).prefetch(1)\n",
        "  return dataset"
      ],
      "execution_count": 41,
      "outputs": []
    },
    {
      "cell_type": "code",
      "metadata": {
        "id": "I2u95SqKBU-B",
        "colab_type": "code",
        "colab": {}
      },
      "source": [
        "tf.keras.backend.clear_session()\n",
        "tf.random.set_seed(51)\n",
        "np.random.seed(51)\n",
        "train_set = windowed_dataset(x_train,window_size,batch_size = 128,shuffle_buffer = shuffle_buffer_size)"
      ],
      "execution_count": 42,
      "outputs": []
    },
    {
      "cell_type": "code",
      "metadata": {
        "id": "tlHZfSkPAGr-",
        "colab_type": "code",
        "colab": {}
      },
      "source": [
        "model = keras.models.Sequential([\n",
        "                      keras.layers.Lambda(lambda x: tf.expand_dims(x,axis=-1)),\n",
        "                      #keras.layers.SimpleRNN(20, return_sequences = True,\n",
        "                                               #input_shape = [None,1]),\n",
        "                      keras.layers.Dense(20),\n",
        "                      keras.layers.Dense(10),\n",
        "                      keras.layers.Dense(1),\n",
        "                      keras.layers.Lambda(lambda x: x*100.0)\n",
        "\n",
        "               \n",
        "])"
      ],
      "execution_count": 43,
      "outputs": []
    },
    {
      "cell_type": "code",
      "metadata": {
        "id": "4cn_5WZH6xWE",
        "colab_type": "code",
        "colab": {}
      },
      "source": [
        "lr_schedule = tf.keras.callbacks.LearningRateScheduler(lambda epoch: 1e-8 * 10**(epoch/20))"
      ],
      "execution_count": 44,
      "outputs": []
    },
    {
      "cell_type": "code",
      "metadata": {
        "id": "Btslyw9M_3vf",
        "colab_type": "code",
        "colab": {}
      },
      "source": [
        "optimizer = tf.keras.optimizers.SGD(lr=1e-8,momentum=0.9)"
      ],
      "execution_count": 45,
      "outputs": []
    },
    {
      "cell_type": "code",
      "metadata": {
        "id": "TIbgr2f3AHcK",
        "colab_type": "code",
        "colab": {}
      },
      "source": [
        "model.compile(loss=tf.keras.losses.Huber(),optimizer='adam',metrics=[\"mae\"])"
      ],
      "execution_count": 46,
      "outputs": []
    },
    {
      "cell_type": "code",
      "metadata": {
        "id": "O4gpCyU0AYO1",
        "colab_type": "code",
        "colab": {
          "base_uri": "https://localhost:8080/",
          "height": 1000
        },
        "outputId": "0d2b1836-13b9-4270-cd5a-2d5a280feed7"
      },
      "source": [
        "history = model.fit(train_set,epochs=136,callbacks=[lr_schedule])"
      ],
      "execution_count": 47,
      "outputs": [
        {
          "output_type": "stream",
          "text": [
            "Epoch 1/136\n",
            "WARNING:tensorflow:Layer lambda is casting an input tensor from dtype float64 to the layer's dtype of float32, which is new behavior in TensorFlow 2.  The layer has dtype float32 because it's dtype defaults to floatx.\n",
            "\n",
            "If you intended to run this layer in float32, you can safely ignore this warning. If in doubt, this warning is likely only an issue if you are porting a TensorFlow 1.X model to TensorFlow 2.\n",
            "\n",
            "To change all layers to have dtype float64 by default, call `tf.keras.backend.set_floatx('float64')`. To change just this layer, pass dtype='float64' to the layer constructor. If you are the author of this layer, you can disable autocasting by passing autocast=False to the base Layer constructor.\n",
            "\n",
            "43/43 [==============================] - 1s 13ms/step - loss: 6925.2017 - mae: 6925.7017 - lr: 1.0000e-08\n",
            "Epoch 2/136\n",
            "43/43 [==============================] - 1s 12ms/step - loss: 6925.0015 - mae: 6925.5015 - lr: 1.1220e-08\n",
            "Epoch 3/136\n",
            "43/43 [==============================] - 1s 12ms/step - loss: 6924.7656 - mae: 6925.2656 - lr: 1.2589e-08\n",
            "Epoch 4/136\n",
            "43/43 [==============================] - 1s 12ms/step - loss: 6924.4385 - mae: 6924.9385 - lr: 1.4125e-08\n",
            "Epoch 5/136\n",
            "43/43 [==============================] - 0s 12ms/step - loss: 6924.0327 - mae: 6924.5327 - lr: 1.5849e-08\n",
            "Epoch 6/136\n",
            "43/43 [==============================] - 1s 12ms/step - loss: 6923.5342 - mae: 6924.0337 - lr: 1.7783e-08\n",
            "Epoch 7/136\n",
            "43/43 [==============================] - 1s 12ms/step - loss: 6922.9526 - mae: 6923.4526 - lr: 1.9953e-08\n",
            "Epoch 8/136\n",
            "43/43 [==============================] - 1s 12ms/step - loss: 6922.2920 - mae: 6922.7920 - lr: 2.2387e-08\n",
            "Epoch 9/136\n",
            "43/43 [==============================] - 1s 13ms/step - loss: 6921.5674 - mae: 6922.0674 - lr: 2.5119e-08\n",
            "Epoch 10/136\n",
            "43/43 [==============================] - 1s 12ms/step - loss: 6920.7656 - mae: 6921.2656 - lr: 2.8184e-08\n",
            "Epoch 11/136\n",
            "43/43 [==============================] - 1s 13ms/step - loss: 6919.8662 - mae: 6920.3662 - lr: 3.1623e-08\n",
            "Epoch 12/136\n",
            "43/43 [==============================] - 1s 12ms/step - loss: 6918.8589 - mae: 6919.3589 - lr: 3.5481e-08\n",
            "Epoch 13/136\n",
            "43/43 [==============================] - 1s 12ms/step - loss: 6917.7285 - mae: 6918.2285 - lr: 3.9811e-08\n",
            "Epoch 14/136\n",
            "43/43 [==============================] - 1s 13ms/step - loss: 6916.4487 - mae: 6916.9487 - lr: 4.4668e-08\n",
            "Epoch 15/136\n",
            "43/43 [==============================] - 1s 12ms/step - loss: 6915.0278 - mae: 6915.5278 - lr: 5.0119e-08\n",
            "Epoch 16/136\n",
            "43/43 [==============================] - 1s 13ms/step - loss: 6913.4678 - mae: 6913.9678 - lr: 5.6234e-08\n",
            "Epoch 17/136\n",
            "43/43 [==============================] - 1s 12ms/step - loss: 6911.7373 - mae: 6912.2373 - lr: 6.3096e-08\n",
            "Epoch 18/136\n",
            "43/43 [==============================] - 1s 13ms/step - loss: 6909.7827 - mae: 6910.2827 - lr: 7.0795e-08\n",
            "Epoch 19/136\n",
            "43/43 [==============================] - 1s 12ms/step - loss: 6907.6162 - mae: 6908.1162 - lr: 7.9433e-08\n",
            "Epoch 20/136\n",
            "43/43 [==============================] - 1s 12ms/step - loss: 6905.1475 - mae: 6905.6475 - lr: 8.9125e-08\n",
            "Epoch 21/136\n",
            "43/43 [==============================] - 1s 13ms/step - loss: 6902.3672 - mae: 6902.8672 - lr: 1.0000e-07\n",
            "Epoch 22/136\n",
            "43/43 [==============================] - 1s 12ms/step - loss: 6899.2549 - mae: 6899.7549 - lr: 1.1220e-07\n",
            "Epoch 23/136\n",
            "43/43 [==============================] - 1s 12ms/step - loss: 6895.7622 - mae: 6896.2622 - lr: 1.2589e-07\n",
            "Epoch 24/136\n",
            "43/43 [==============================] - 1s 12ms/step - loss: 6891.8550 - mae: 6892.3550 - lr: 1.4125e-07\n",
            "Epoch 25/136\n",
            "43/43 [==============================] - 1s 12ms/step - loss: 6887.4883 - mae: 6887.9883 - lr: 1.5849e-07\n",
            "Epoch 26/136\n",
            "43/43 [==============================] - 1s 13ms/step - loss: 6882.5571 - mae: 6883.0571 - lr: 1.7783e-07\n",
            "Epoch 27/136\n",
            "43/43 [==============================] - 1s 12ms/step - loss: 6877.0249 - mae: 6877.5249 - lr: 1.9953e-07\n",
            "Epoch 28/136\n",
            "43/43 [==============================] - 1s 13ms/step - loss: 6870.8184 - mae: 6871.3184 - lr: 2.2387e-07\n",
            "Epoch 29/136\n",
            "43/43 [==============================] - 1s 13ms/step - loss: 6863.8569 - mae: 6864.3569 - lr: 2.5119e-07\n",
            "Epoch 30/136\n",
            "43/43 [==============================] - 1s 12ms/step - loss: 6856.0742 - mae: 6856.5742 - lr: 2.8184e-07\n",
            "Epoch 31/136\n",
            "43/43 [==============================] - 1s 12ms/step - loss: 6847.3174 - mae: 6847.8174 - lr: 3.1623e-07\n",
            "Epoch 32/136\n",
            "43/43 [==============================] - 0s 11ms/step - loss: 6837.5239 - mae: 6838.0239 - lr: 3.5481e-07\n",
            "Epoch 33/136\n",
            "43/43 [==============================] - 1s 12ms/step - loss: 6826.5269 - mae: 6827.0269 - lr: 3.9811e-07\n",
            "Epoch 34/136\n",
            "43/43 [==============================] - 1s 12ms/step - loss: 6814.1582 - mae: 6814.6582 - lr: 4.4668e-07\n",
            "Epoch 35/136\n",
            "43/43 [==============================] - 1s 12ms/step - loss: 6800.3159 - mae: 6800.8159 - lr: 5.0119e-07\n",
            "Epoch 36/136\n",
            "43/43 [==============================] - 1s 12ms/step - loss: 6784.7773 - mae: 6785.2773 - lr: 5.6234e-07\n",
            "Epoch 37/136\n",
            "43/43 [==============================] - 1s 12ms/step - loss: 6767.3564 - mae: 6767.8564 - lr: 6.3096e-07\n",
            "Epoch 38/136\n",
            "43/43 [==============================] - 1s 13ms/step - loss: 6747.7866 - mae: 6748.2866 - lr: 7.0795e-07\n",
            "Epoch 39/136\n",
            "43/43 [==============================] - 1s 12ms/step - loss: 6725.8496 - mae: 6726.3496 - lr: 7.9433e-07\n",
            "Epoch 40/136\n",
            "43/43 [==============================] - 1s 12ms/step - loss: 6701.2173 - mae: 6701.7183 - lr: 8.9125e-07\n",
            "Epoch 41/136\n",
            "43/43 [==============================] - 1s 13ms/step - loss: 6673.5913 - mae: 6674.0913 - lr: 1.0000e-06\n",
            "Epoch 42/136\n",
            "43/43 [==============================] - 1s 12ms/step - loss: 6642.6138 - mae: 6643.1138 - lr: 1.1220e-06\n",
            "Epoch 43/136\n",
            "43/43 [==============================] - 1s 12ms/step - loss: 6607.8462 - mae: 6608.3462 - lr: 1.2589e-06\n",
            "Epoch 44/136\n",
            "43/43 [==============================] - 0s 11ms/step - loss: 6568.7983 - mae: 6569.2983 - lr: 1.4125e-06\n",
            "Epoch 45/136\n",
            "43/43 [==============================] - 1s 12ms/step - loss: 6525.0000 - mae: 6525.5000 - lr: 1.5849e-06\n",
            "Epoch 46/136\n",
            "43/43 [==============================] - 1s 13ms/step - loss: 6475.8970 - mae: 6476.3970 - lr: 1.7783e-06\n",
            "Epoch 47/136\n",
            "43/43 [==============================] - 0s 12ms/step - loss: 6420.7583 - mae: 6421.2583 - lr: 1.9953e-06\n",
            "Epoch 48/136\n",
            "43/43 [==============================] - 1s 13ms/step - loss: 6358.9414 - mae: 6359.4414 - lr: 2.2387e-06\n",
            "Epoch 49/136\n",
            "43/43 [==============================] - 1s 12ms/step - loss: 6289.5562 - mae: 6290.0562 - lr: 2.5119e-06\n",
            "Epoch 50/136\n",
            "43/43 [==============================] - 1s 13ms/step - loss: 6211.7842 - mae: 6212.2842 - lr: 2.8184e-06\n",
            "Epoch 51/136\n",
            "43/43 [==============================] - 1s 12ms/step - loss: 6124.3525 - mae: 6124.8525 - lr: 3.1623e-06\n",
            "Epoch 52/136\n",
            "43/43 [==============================] - 1s 13ms/step - loss: 6026.4189 - mae: 6026.9189 - lr: 3.5481e-06\n",
            "Epoch 53/136\n",
            "43/43 [==============================] - 1s 13ms/step - loss: 5916.5684 - mae: 5917.0684 - lr: 3.9811e-06\n",
            "Epoch 54/136\n",
            "43/43 [==============================] - 1s 13ms/step - loss: 5793.2676 - mae: 5793.7676 - lr: 4.4668e-06\n",
            "Epoch 55/136\n",
            "43/43 [==============================] - 1s 13ms/step - loss: 5654.8750 - mae: 5655.3750 - lr: 5.0119e-06\n",
            "Epoch 56/136\n",
            "43/43 [==============================] - 1s 13ms/step - loss: 5499.7622 - mae: 5500.2622 - lr: 5.6234e-06\n",
            "Epoch 57/136\n",
            "43/43 [==============================] - 1s 13ms/step - loss: 5325.4717 - mae: 5325.9717 - lr: 6.3096e-06\n",
            "Epoch 58/136\n",
            "43/43 [==============================] - 1s 13ms/step - loss: 5130.1558 - mae: 5130.6558 - lr: 7.0795e-06\n",
            "Epoch 59/136\n",
            "43/43 [==============================] - 1s 14ms/step - loss: 4910.7798 - mae: 4911.2798 - lr: 7.9433e-06\n",
            "Epoch 60/136\n",
            "43/43 [==============================] - 1s 13ms/step - loss: 4664.7061 - mae: 4665.2061 - lr: 8.9125e-06\n",
            "Epoch 61/136\n",
            "43/43 [==============================] - 1s 13ms/step - loss: 4388.1699 - mae: 4388.6699 - lr: 1.0000e-05\n",
            "Epoch 62/136\n",
            "43/43 [==============================] - 1s 13ms/step - loss: 4077.9048 - mae: 4078.4048 - lr: 1.1220e-05\n",
            "Epoch 63/136\n",
            "43/43 [==============================] - 1s 14ms/step - loss: 3729.1946 - mae: 3729.6946 - lr: 1.2589e-05\n",
            "Epoch 64/136\n",
            "43/43 [==============================] - 1s 13ms/step - loss: 3338.2727 - mae: 3338.7727 - lr: 1.4125e-05\n",
            "Epoch 65/136\n",
            "43/43 [==============================] - 1s 13ms/step - loss: 2898.6497 - mae: 2899.1497 - lr: 1.5849e-05\n",
            "Epoch 66/136\n",
            "43/43 [==============================] - 1s 13ms/step - loss: 2403.9949 - mae: 2404.4949 - lr: 1.7783e-05\n",
            "Epoch 67/136\n",
            "43/43 [==============================] - 1s 13ms/step - loss: 1849.2799 - mae: 1849.7799 - lr: 1.9953e-05\n",
            "Epoch 68/136\n",
            "43/43 [==============================] - 1s 14ms/step - loss: 1223.3838 - mae: 1223.8838 - lr: 2.2387e-05\n",
            "Epoch 69/136\n",
            "43/43 [==============================] - 1s 14ms/step - loss: 518.8044 - mae: 519.3044 - lr: 2.5119e-05\n",
            "Epoch 70/136\n",
            "43/43 [==============================] - 1s 13ms/step - loss: 16.8597 - mae: 17.3517 - lr: 2.8184e-05\n",
            "Epoch 71/136\n",
            "43/43 [==============================] - 1s 14ms/step - loss: 16.8491 - mae: 17.3444 - lr: 3.1623e-05\n",
            "Epoch 72/136\n",
            "43/43 [==============================] - 1s 13ms/step - loss: 17.3866 - mae: 17.8804 - lr: 3.5481e-05\n",
            "Epoch 73/136\n",
            "43/43 [==============================] - 1s 13ms/step - loss: 17.2488 - mae: 17.7422 - lr: 3.9811e-05\n",
            "Epoch 74/136\n",
            "43/43 [==============================] - 1s 13ms/step - loss: 17.0286 - mae: 17.5219 - lr: 4.4668e-05\n",
            "Epoch 75/136\n",
            "43/43 [==============================] - 1s 13ms/step - loss: 16.2383 - mae: 16.7337 - lr: 5.0119e-05\n",
            "Epoch 76/136\n",
            "43/43 [==============================] - 1s 14ms/step - loss: 15.5421 - mae: 16.0354 - lr: 5.6234e-05\n",
            "Epoch 77/136\n",
            "43/43 [==============================] - 1s 12ms/step - loss: 15.4991 - mae: 15.9887 - lr: 6.3096e-05\n",
            "Epoch 78/136\n",
            "43/43 [==============================] - 1s 14ms/step - loss: 15.1559 - mae: 15.6444 - lr: 7.0795e-05\n",
            "Epoch 79/136\n",
            "43/43 [==============================] - 1s 13ms/step - loss: 14.5489 - mae: 15.0372 - lr: 7.9433e-05\n",
            "Epoch 80/136\n",
            "43/43 [==============================] - 1s 13ms/step - loss: 14.0239 - mae: 14.5114 - lr: 8.9125e-05\n",
            "Epoch 81/136\n",
            "43/43 [==============================] - 1s 14ms/step - loss: 13.2643 - mae: 13.7416 - lr: 1.0000e-04\n",
            "Epoch 82/136\n",
            "43/43 [==============================] - 1s 12ms/step - loss: 13.0587 - mae: 13.5325 - lr: 1.1220e-04\n",
            "Epoch 83/136\n",
            "43/43 [==============================] - 1s 14ms/step - loss: 13.1932 - mae: 13.6703 - lr: 1.2589e-04\n",
            "Epoch 84/136\n",
            "43/43 [==============================] - 1s 12ms/step - loss: 13.9054 - mae: 14.3837 - lr: 1.4125e-04\n",
            "Epoch 85/136\n",
            "43/43 [==============================] - 1s 13ms/step - loss: 13.6989 - mae: 14.1758 - lr: 1.5849e-04\n",
            "Epoch 86/136\n",
            "43/43 [==============================] - 1s 14ms/step - loss: 13.7255 - mae: 14.2045 - lr: 1.7783e-04\n",
            "Epoch 87/136\n",
            "43/43 [==============================] - 1s 13ms/step - loss: 15.8484 - mae: 16.3299 - lr: 1.9953e-04\n",
            "Epoch 88/136\n",
            "43/43 [==============================] - 1s 14ms/step - loss: 14.4961 - mae: 14.9715 - lr: 2.2387e-04\n",
            "Epoch 89/136\n",
            "43/43 [==============================] - 1s 12ms/step - loss: 16.0681 - mae: 16.5573 - lr: 2.5119e-04\n",
            "Epoch 90/136\n",
            "43/43 [==============================] - 1s 13ms/step - loss: 14.0500 - mae: 14.5270 - lr: 2.8184e-04\n",
            "Epoch 91/136\n",
            "43/43 [==============================] - 1s 13ms/step - loss: 16.2838 - mae: 16.7706 - lr: 3.1623e-04\n",
            "Epoch 92/136\n",
            "43/43 [==============================] - 1s 13ms/step - loss: 20.2251 - mae: 20.7180 - lr: 3.5481e-04\n",
            "Epoch 93/136\n",
            "43/43 [==============================] - 1s 13ms/step - loss: 31.2405 - mae: 31.7340 - lr: 3.9811e-04\n",
            "Epoch 94/136\n",
            "43/43 [==============================] - 1s 13ms/step - loss: 122.2275 - mae: 122.7269 - lr: 4.4668e-04\n",
            "Epoch 95/136\n",
            "43/43 [==============================] - 1s 14ms/step - loss: 87.9616 - mae: 88.4603 - lr: 5.0119e-04\n",
            "Epoch 96/136\n",
            "43/43 [==============================] - 1s 14ms/step - loss: 30.6889 - mae: 31.1839 - lr: 5.6234e-04\n",
            "Epoch 97/136\n",
            "43/43 [==============================] - 1s 14ms/step - loss: 23.6681 - mae: 24.1594 - lr: 6.3096e-04\n",
            "Epoch 98/136\n",
            "43/43 [==============================] - 1s 13ms/step - loss: 26.3885 - mae: 26.8822 - lr: 7.0795e-04\n",
            "Epoch 99/136\n",
            "43/43 [==============================] - 1s 13ms/step - loss: 88.8505 - mae: 89.3485 - lr: 7.9433e-04\n",
            "Epoch 100/136\n",
            "43/43 [==============================] - 1s 13ms/step - loss: 62.9651 - mae: 63.4580 - lr: 8.9125e-04\n",
            "Epoch 101/136\n",
            "43/43 [==============================] - 1s 13ms/step - loss: 57.2156 - mae: 57.7023 - lr: 0.0010\n",
            "Epoch 102/136\n",
            "43/43 [==============================] - 1s 13ms/step - loss: 145.9841 - mae: 146.4835 - lr: 0.0011\n",
            "Epoch 103/136\n",
            "43/43 [==============================] - 1s 13ms/step - loss: 136.0692 - mae: 136.5684 - lr: 0.0013\n",
            "Epoch 104/136\n",
            "43/43 [==============================] - 1s 12ms/step - loss: 140.6795 - mae: 141.1788 - lr: 0.0014\n",
            "Epoch 105/136\n",
            "43/43 [==============================] - 1s 13ms/step - loss: 149.1022 - mae: 149.6014 - lr: 0.0016\n",
            "Epoch 106/136\n",
            "43/43 [==============================] - 1s 13ms/step - loss: 277.2238 - mae: 277.7234 - lr: 0.0018\n",
            "Epoch 107/136\n",
            "43/43 [==============================] - 1s 14ms/step - loss: 195.4242 - mae: 195.9233 - lr: 0.0020\n",
            "Epoch 108/136\n",
            "43/43 [==============================] - 1s 14ms/step - loss: 134.7883 - mae: 135.2871 - lr: 0.0022\n",
            "Epoch 109/136\n",
            "43/43 [==============================] - 1s 13ms/step - loss: 398.6324 - mae: 399.1319 - lr: 0.0025\n",
            "Epoch 110/136\n",
            "43/43 [==============================] - 1s 14ms/step - loss: 250.6550 - mae: 251.1543 - lr: 0.0028\n",
            "Epoch 111/136\n",
            "43/43 [==============================] - 1s 13ms/step - loss: 1498.4124 - mae: 1498.9124 - lr: 0.0032\n",
            "Epoch 112/136\n",
            "43/43 [==============================] - 1s 14ms/step - loss: 613.5726 - mae: 614.0723 - lr: 0.0035\n",
            "Epoch 113/136\n",
            "43/43 [==============================] - 1s 14ms/step - loss: 939.2532 - mae: 939.7532 - lr: 0.0040\n",
            "Epoch 114/136\n",
            "43/43 [==============================] - 1s 12ms/step - loss: 455.5802 - mae: 456.0798 - lr: 0.0045\n",
            "Epoch 115/136\n",
            "43/43 [==============================] - 1s 14ms/step - loss: 336.4955 - mae: 336.9951 - lr: 0.0050\n",
            "Epoch 116/136\n",
            "43/43 [==============================] - 1s 14ms/step - loss: 294.6294 - mae: 295.1281 - lr: 0.0056\n",
            "Epoch 117/136\n",
            "43/43 [==============================] - 1s 15ms/step - loss: 221.8156 - mae: 222.3140 - lr: 0.0063\n",
            "Epoch 118/136\n",
            "43/43 [==============================] - 1s 14ms/step - loss: 361.9886 - mae: 362.4870 - lr: 0.0071\n",
            "Epoch 119/136\n",
            "43/43 [==============================] - 1s 13ms/step - loss: 868.3101 - mae: 868.8099 - lr: 0.0079\n",
            "Epoch 120/136\n",
            "43/43 [==============================] - 1s 13ms/step - loss: 1072.6461 - mae: 1073.1461 - lr: 0.0089\n",
            "Epoch 121/136\n",
            "43/43 [==============================] - 1s 13ms/step - loss: 1647.7109 - mae: 1648.2106 - lr: 0.0100\n",
            "Epoch 122/136\n",
            "43/43 [==============================] - 1s 13ms/step - loss: 542.6087 - mae: 543.1086 - lr: 0.0112\n",
            "Epoch 123/136\n",
            "43/43 [==============================] - 1s 13ms/step - loss: 169.2179 - mae: 169.7169 - lr: 0.0126\n",
            "Epoch 124/136\n",
            "43/43 [==============================] - 1s 12ms/step - loss: 370.7428 - mae: 371.2424 - lr: 0.0141\n",
            "Epoch 125/136\n",
            "43/43 [==============================] - 1s 13ms/step - loss: 279.1379 - mae: 279.6362 - lr: 0.0158\n",
            "Epoch 126/136\n",
            "43/43 [==============================] - 1s 13ms/step - loss: 273.8848 - mae: 274.3840 - lr: 0.0178\n",
            "Epoch 127/136\n",
            "43/43 [==============================] - 1s 12ms/step - loss: 640.9517 - mae: 641.4517 - lr: 0.0200\n",
            "Epoch 128/136\n",
            "43/43 [==============================] - 1s 13ms/step - loss: 479.3602 - mae: 479.8602 - lr: 0.0224\n",
            "Epoch 129/136\n",
            "43/43 [==============================] - 1s 12ms/step - loss: 434.7696 - mae: 435.2693 - lr: 0.0251\n",
            "Epoch 130/136\n",
            "43/43 [==============================] - 1s 14ms/step - loss: 86.8910 - mae: 87.3887 - lr: 0.0282\n",
            "Epoch 131/136\n",
            "43/43 [==============================] - 1s 12ms/step - loss: 88.1153 - mae: 88.6141 - lr: 0.0316\n",
            "Epoch 132/136\n",
            "43/43 [==============================] - 1s 14ms/step - loss: 19.5100 - mae: 20.0009 - lr: 0.0355\n",
            "Epoch 133/136\n",
            "43/43 [==============================] - 1s 14ms/step - loss: 19.8257 - mae: 20.3188 - lr: 0.0398\n",
            "Epoch 134/136\n",
            "43/43 [==============================] - 1s 12ms/step - loss: 20.2816 - mae: 20.7733 - lr: 0.0447\n",
            "Epoch 135/136\n",
            "43/43 [==============================] - 1s 13ms/step - loss: 18.4897 - mae: 18.9654 - lr: 0.0501\n",
            "Epoch 136/136\n",
            "43/43 [==============================] - 1s 13ms/step - loss: 22.7212 - mae: 23.2152 - lr: 0.0562\n"
          ],
          "name": "stdout"
        }
      ]
    },
    {
      "cell_type": "code",
      "metadata": {
        "id": "nL-YtXOCH2C3",
        "colab_type": "code",
        "colab": {
          "base_uri": "https://localhost:8080/",
          "height": 1000
        },
        "outputId": "3bbf21c8-fbdd-490f-95a2-c0c1dfbfcf06"
      },
      "source": [
        "predictions = []\n",
        "for time in range(len(X) - window_size):\n",
        "  predictions.append(model.predict(X[time:time + window_size,np.newaxis]))\n",
        "\n",
        "predictions = predictions[split_time-window_size:]\n",
        "results = np.array(predictions)[:, 0, 0]\n",
        "print(results)\n",
        "\n",
        "plt.figure(figsize=(10, 6))\n",
        "\n",
        "plot_series(time_valid, x_test)\n",
        "plot_series(time_valid, results)\n"
      ],
      "execution_count": 48,
      "outputs": [
        {
          "output_type": "stream",
          "text": [
            "[[1063.4104 ]\n",
            " [1036.1453 ]\n",
            " [1021.2787 ]\n",
            " [ 997.60455]\n",
            " [1021.95197]\n",
            " [1023.80334]\n",
            " [1043.102  ]\n",
            " [1044.8411 ]\n",
            " [1041.6992 ]\n",
            " [1022.3448 ]\n",
            " [1009.1612 ]\n",
            " [1004.0559 ]\n",
            " [ 997.66064]\n",
            " [1005.6269 ]\n",
            " [1018.2498 ]\n",
            " [1002.2608 ]\n",
            " [1010.33923]\n",
            " [1008.8805 ]\n",
            " [ 989.6942 ]\n",
            " [1001.1949 ]\n",
            " [1008.60004]\n",
            " [1003.3825 ]\n",
            " [1018.3056 ]\n",
            " [1021.44727]\n",
            " [1027.0575 ]\n",
            " [1028.2352 ]\n",
            " [1043.7191 ]\n",
            " [1041.3064 ]\n",
            " [1052.6951 ]\n",
            " [1050.6758 ]\n",
            " [1058.7542 ]\n",
            " [1051.7417 ]\n",
            " [1056.566  ]\n",
            " [1040.409  ]\n",
            " [1049.4974 ]\n",
            " [1087.7018 ]\n",
            " [1088.2065 ]\n",
            " [1093.6486 ]\n",
            " [1117.1545 ]\n",
            " [1080.128  ]\n",
            " [1090.675  ]\n",
            " [1078.221  ]\n",
            " [1069.6375 ]\n",
            " [1088.7678 ]\n",
            " [1084.3918 ]\n",
            " [1095.1631 ]\n",
            " [1100.156  ]\n",
            " [1109.244  ]\n",
            " [1106.271  ]\n",
            " [1097.6879 ]\n",
            " [1072.1058 ]\n",
            " [1059.9883 ]\n",
            " [1047.0851 ]\n",
            " [1044.28   ]\n",
            " [1039.1189 ]\n",
            " [1022.8495 ]\n",
            " [1026.8888 ]\n",
            " [1032.4426 ]\n",
            " [1031.9941 ]\n",
            " [1028.6844 ]\n",
            " [1027.1696 ]\n",
            " [1033.0599 ]\n",
            " [1043.3827 ]\n",
            " [1054.9391 ]\n",
            " [1062.569  ]\n",
            " [1070.1422 ]\n",
            " [1089.1606 ]\n",
            " [1103.747  ]\n",
            " [1101.8391 ]\n",
            " [1118.1083 ]\n",
            " [1124.1111 ]\n",
            " [1130.2263 ]\n",
            " [1137.2386 ]\n",
            " [1138.7532 ]\n",
            " [1116.8739 ]\n",
            " [1142.9048 ]\n",
            " [1157.154  ]\n",
            " [1135.331  ]\n",
            " [1126.299  ]\n",
            " [1097.6879 ]\n",
            " [1082.9893 ]\n",
            " [1059.5396 ]\n",
            " [1090.3945 ]\n",
            " [1077.0988 ]\n",
            " [1089.1042 ]\n",
            " [1110.1981 ]\n",
            " [1081.475  ]\n",
            " [1096.1168 ]\n",
            " [1118.0522 ]\n",
            " [1150.1416 ]\n",
            " [1164.8402 ]\n",
            " [1213.7035 ]\n",
            " [1233.2828 ]\n",
            " [1206.803  ]\n",
            " [1224.9237 ]\n",
            " [1225.148  ]\n",
            " [1238.9486 ]\n",
            " [1265.6526 ]\n",
            " [1256.2836 ]\n",
            " [1245.793  ]\n",
            " [1250.5059 ]\n",
            " [1245.4565 ]\n",
            " [1266.9987 ]\n",
            " [1291.1786 ]\n",
            " [1329.9994 ]\n",
            " [1337.1244 ]\n",
            " [1310.1965 ]\n",
            " [1319.8457 ]\n",
            " [1337.4048 ]\n",
            " [1327.9801 ]\n",
            " [1365.5673 ]\n",
            " [1365.8481 ]\n",
            " [1350.4204 ]\n",
            " [1331.9075 ]\n",
            " [1357.6012 ]\n",
            " [1346.6057 ]\n",
            " [1349.9154 ]\n",
            " [1384.8666 ]\n",
            " [1398.6666 ]\n",
            " [1423.6315 ]\n",
            " [1432.6635 ]\n",
            " [1448.3718 ]\n",
            " [1479.2273 ]\n",
            " [1451.401  ]\n",
            " [1429.2418 ]\n",
            " [1392.4396 ]\n",
            " [1378.4147 ]\n",
            " [1392.7762 ]\n",
            " [1376.0021 ]\n",
            " [1414.5994 ]\n",
            " [1433.8975 ]\n",
            " [1408.3721 ]\n",
            " [1388.008  ]\n",
            " [1404.6135 ]\n",
            " [1405.3428 ]\n",
            " [1374.7678 ]\n",
            " [1364.9504 ]\n",
            " [1357.7697 ]\n",
            " [1365.3431 ]\n",
            " [1381.6683 ]\n",
            " [1380.0414 ]\n",
            " [1403.3793 ]\n",
            " [1406.0161 ]\n",
            " [1410.7281 ]\n",
            " [1381.2756 ]\n",
            " [1351.4299 ]\n",
            " [1258.4719 ]\n",
            " [1176.1163 ]\n",
            " [1244.0541 ]\n",
            " [1222.3433 ]\n",
            " [1235.8634 ]\n",
            " [1219.8184 ]\n",
            " [1263.2963 ]\n",
            " [1278.1068 ]\n",
            " [1305.0913 ]\n",
            " [1291.0662 ]\n",
            " [1234.9656 ]\n",
            " [1191.5996 ]\n",
            " [1182.6799 ]\n",
            " [1172.6382 ]\n",
            " [1155.864  ]\n",
            " [1171.6843 ]\n",
            " [1219.8184 ]\n",
            " [1185.2606 ]\n",
            " [1190.0289 ]\n",
            " [1184.4191 ]\n",
            " [1205.3447 ]\n",
            " [1222.6237 ]\n",
            " [1238.107  ]\n",
            " [1245.5125 ]\n",
            " [1226.1578 ]\n",
            " [1211.0668 ]\n",
            " [1232.8896 ]\n",
            " [1231.2068 ]\n",
            " [1229.9724 ]\n",
            " [1264.2498 ]\n",
            " [1289.6077 ]\n",
            " [1275.4702 ]\n",
            " [1247.9808 ]\n",
            " [1236.7046 ]\n",
            " [1244.4468 ]\n",
            " [1265.1477 ]\n",
            " [1292.5808 ]\n",
            " [1310.3646 ]\n",
            " [1309.299  ]\n",
            " [1296.8447 ]\n",
            " [1292.1885 ]\n",
            " [1295.3861 ]\n",
            " [1260.0427 ]\n",
            " [1271.4305 ]\n",
            " [1222.5671 ]\n",
            " [1230.7582 ]\n",
            " [1245.2878 ]\n",
            " [1241.4174 ]\n",
            " [1247.1952 ]\n",
            " [1267.0552 ]\n",
            " [1274.3481 ]\n",
            " [1274.7974 ]\n",
            " [1265.4282 ]\n",
            " [1233.7314 ]\n",
            " [1221.3331 ]\n",
            " [1231.656  ]\n",
            " [1256.1718 ]\n",
            " [1262.1743 ]\n",
            " [1257.3496 ]\n",
            " [1257.069  ]\n",
            " [1240.6877 ]\n",
            " [1225.3723 ]\n",
            " [1231.9924 ]\n",
            " [1238.8363 ]\n",
            " [1238.7242 ]\n",
            " [1245.5686 ]\n",
            " [1241.9222 ]\n",
            " [1231.3192 ]\n",
            " [1229.9165 ]\n",
            " [1266.7744 ]\n",
            " [1273.7874 ]\n",
            " [1272.16   ]\n",
            " [1328.1487 ]\n",
            " [1388.008  ]\n",
            " [1385.1465 ]\n",
            " [1375.2167 ]\n",
            " [1398.947  ]\n",
            " [1397.3206 ]\n",
            " [1378.8636 ]\n",
            " [1357.6576 ]\n",
            " [1340.8833 ]\n",
            " [1376.1707 ]\n",
            " [1401.7523 ]\n",
            " [1447.6987 ]\n",
            " [1448.4281 ]\n",
            " [1469.4097 ]\n",
            " [1447.1375 ]\n",
            " [1432.8875 ]\n",
            " [1405.4547 ]\n",
            " [1408.9896 ]\n",
            " [1372.8606 ]\n",
            " [1395.5814 ]\n",
            " [1368.26   ]\n",
            " [1363.7723 ]\n",
            " [1384.2493 ]\n",
            " [1398.3303 ]\n",
            " [1382.0048 ]\n",
            " [1381.9487 ]\n",
            " [1368.4285 ]\n",
            " [1372.0753 ]\n",
            " [1380.5463 ]\n",
            " [1374.9364 ]\n",
            " [1387.952  ]\n",
            " [1418.4142 ]\n",
            " [1424.529  ]\n",
            " [1420.9951 ]\n",
            " [1462.509  ]\n",
            " [1493.0842 ]\n",
            " [1510.9796 ]\n",
            " [1504.5286 ]\n",
            " [1482.2002 ]\n",
            " [1514.0657 ]\n",
            " [1543.7987 ]\n",
            " [1542.5642 ]\n",
            " [1504.7532 ]\n",
            " [1485.3423 ]\n",
            " [1533.3638 ]\n",
            " [1513.1677 ]\n",
            " [1525.2299 ]\n",
            " [1560.9653 ]\n",
            " [1558.5533 ]\n",
            " [1542.2838 ]\n",
            " [1517.4316 ]\n",
            " [1518.3851 ]\n",
            " [1490.7277 ]\n",
            " [1496.5626 ]\n",
            " [1493.14   ]\n",
            " [1510.4186 ]\n",
            " [1506.2676 ]\n",
            " [1502.9576 ]\n",
            " [1506.997  ]\n",
            " [1554.3458 ]\n",
            " [1508.792  ]\n",
            " [1529.5496 ]\n",
            " [1558.3289 ]\n",
            " [1539.1427 ]\n",
            " [1562.0317 ]\n",
            " [1562.0317 ]\n",
            " [1575.7762 ]\n",
            " [1580.0396 ]\n",
            " [1553.1671 ]\n",
            " [1506.7164 ]\n",
            " [1457.2917 ]\n",
            " [1409.0452 ]\n",
            " [1403.0986 ]\n",
            " [1381.6683 ]\n",
            " [1413.5333 ]\n",
            " [1409.5505 ]\n",
            " [1419.0314 ]\n",
            " [1421.3319 ]\n",
            " [1486.969  ]\n",
            " [1502.565  ]\n",
            " [1503.2382 ]\n",
            " [1495.9448 ]\n",
            " [1499.2548 ]\n",
            " [1469.8586 ]\n",
            " [1484.5568 ]\n",
            " [1472.5513 ]\n",
            " [1491.2891 ]\n",
            " [1491.7375 ]\n",
            " [1525.4541 ]\n",
            " [1515.8613 ]\n",
            " [1488.5958 ]\n",
            " [1474.6266 ]\n",
            " [1479.3955 ]\n",
            " [1490.6152 ]\n",
            " [1493.9816 ]\n",
            " [1488.4836 ]\n",
            " [1477.6003 ]\n",
            " [1438.0488 ]\n",
            " [1436.5908 ]\n",
            " [1432.4955 ]\n",
            " [1454.2625 ]\n",
            " [1434.9077 ]\n",
            " [1415.7212 ]\n",
            " [1453.2526 ]\n",
            " [1451.3448 ]\n",
            " [1428.9049 ]\n",
            " [1405.2867 ]\n",
            " [1422.9581 ]\n",
            " [1433.7854 ]\n",
            " [1438.33   ]\n",
            " [1439.9567 ]\n",
            " [1416.7874 ]\n",
            " [1404.1083 ]\n",
            " [1435.5807 ]\n",
            " [1434.1786 ]\n",
            " [1437.2081 ]\n",
            " [1436.0298 ]\n",
            " [1431.0929 ]\n",
            " [1450.0547 ]\n",
            " [1437.5446 ]\n",
            " [1415.1042 ]\n",
            " [1400.6864 ]\n",
            " [1436.0298 ]\n",
            " [1428.2322 ]\n",
            " [1412.0188 ]\n",
            " [1381.0511 ]\n",
            " [1361.1919 ]\n",
            " [1357.9939 ]\n",
            " [1324.2778 ]\n",
            " [1307.8405 ]\n",
            " [1323.5481 ]\n",
            " [1328.1487 ]\n",
            " [1282.146  ]\n",
            " [1265.2599 ]\n",
            " [1244.0541 ]\n",
            " [1292.2441 ]\n",
            " [1303.1837 ]\n",
            " [1429.5779 ]\n",
            " [1444.725  ]\n",
            " [1433.2241 ]\n",
            " [1449.6061 ]\n",
            " [1430.9244 ]\n",
            " [1425.3147 ]\n",
            " [1398.1617 ]\n",
            " [1430.8125 ]\n",
            " [1420.6581 ]\n",
            " [1429.6902 ]\n",
            " [1416.7312 ]\n",
            " [1392.5518 ]\n",
            " [1400.1816 ]\n",
            " [1352.8887 ]\n",
            " [1346.9982 ]\n",
            " [1344.1372 ]\n",
            " [1370.9532 ]\n",
            " [1370.6166 ]\n",
            " [1384.3052 ]\n",
            " [1357.3208 ]\n",
            " [1374.431  ]\n",
            " [1357.7697 ]\n",
            " [1342.8469 ]\n",
            " [1352.1033 ]\n",
            " [1322.202  ]\n",
            " [1406.689  ]\n",
            " [1389.6906 ]\n",
            " [1434.01   ]\n",
            " [1434.964  ]\n",
            " [1454.3188 ]\n",
            " [1468.0631 ]\n",
            " [1494.0938 ]\n",
            " [1463.4069 ]\n",
            " [1470.3069 ]\n",
            " [1466.9968 ]\n",
            " [1469.2408 ]\n",
            " [1485.6787 ]\n",
            " [1528.3148 ]\n",
            " [1516.9266 ]\n",
            " [1522.9852 ]\n",
            " [1529.8861 ]\n",
            " [1539.0863 ]\n",
            " [1566.1829 ]\n",
            " [1588.4548 ]\n",
            " [1585.9863 ]\n",
            " [1561.5828 ]\n",
            " [1611.0073 ]\n",
            " [1605.1168 ]\n",
            " [1645.3403 ]\n",
            " [1658.8608 ]\n",
            " [1642.311  ]\n",
            " [1633.9521 ]\n",
            " [1634.7938 ]\n",
            " [1623.1814 ]\n",
            " [1609.2682 ]\n",
            " [1635.8601 ]\n",
            " [1621.1615 ]\n",
            " [1601.3018 ]\n",
            " [1651.2314 ]\n",
            " [1640.5159 ]\n",
            " [1649.604  ]\n",
            " [1636.5326 ]\n",
            " [1693.2499 ]\n",
            " [1735.7748 ]\n",
            " [1724.4982 ]\n",
            " [1734.4841 ]\n",
            " [1751.3708 ]\n",
            " [1749.9122 ]\n",
            " [1760.6835 ]\n",
            " [1772.4081 ]\n",
            " [1739.7014 ]\n",
            " [1779.3647 ]\n",
            " [1770.8374 ]\n",
            " [1741.4402 ]\n",
            " [1739.365  ]\n",
            " [1743.9094 ]\n",
            " [1763.7684 ]\n",
            " [1751.8192 ]\n",
            " [1752.3243 ]\n",
            " [1758.832  ]\n",
            " [1775.3254 ]\n",
            " [1757.0366 ]\n",
            " [1752.6608 ]\n",
            " [1767.4147 ]\n",
            " [1805.676  ]\n",
            " [1793.5021 ]\n",
            " [1762.4218 ]\n",
            " [1734.4282 ]\n",
            " [1699.59   ]\n",
            " [1729.8279 ]\n",
            " [1731.9038 ]\n",
            " [1698.0751 ]\n",
            " [1693.0823 ]\n",
            " [1721.9177 ]\n",
            " [1723.9933 ]\n",
            " [1683.9933 ]\n",
            " [1709.9119 ]\n",
            " [1697.065  ]\n",
            " [1736.1675 ]\n",
            " [1735.7748 ]\n",
            " [1731.343  ]\n",
            " [1715.2977 ]\n",
            " [1709.0709 ]\n",
            " [1724.8356 ]\n",
            " [1773.1934 ]\n",
            " [1718.6077 ]\n",
            " [1720.3464 ]\n",
            " [1719.7302 ]\n",
            " [1712.437  ]\n",
            " [1706.4905 ]\n",
            " [1689.6599 ]\n",
            " [1650.6138 ]\n",
            " [1659.7025 ]\n",
            " [1619.1975 ]\n",
            " [1583.1812 ]\n",
            " [1553.8406 ]\n",
            " [1599.7308 ]\n",
            " [1624.5277 ]\n",
            " [1634.962  ]\n",
            " [1607.8651 ]\n",
            " [1610.0532 ]\n",
            " [1629.2959 ]\n",
            " [1648.987  ]\n",
            " [1653.307  ]\n",
            " [1668.3983 ]\n",
            " [1657.9073 ]\n",
            " [1645.7334 ]\n",
            " [1686.5743 ]\n",
            " [1666.5469 ]\n",
            " [1620.5442 ]\n",
            " [1588.5106 ]\n",
            " [1561.1334 ]\n",
            " [1554.6825 ]\n",
            " [1490.0544 ]\n",
            " [1476.0295 ]\n",
            " [1505.9869 ]\n",
            " [1502.4526 ]\n",
            " [1470.4191 ]\n",
            " [1425.3708 ]\n",
            " [1249.3835 ]\n",
            " [1293.5906 ]\n",
            " [1191.9928 ]\n",
            " [1239.4539 ]\n",
            " [1138.9215 ]\n",
            " [1130.282  ]\n",
            " [1085.9625 ]\n",
            " [1028.9646 ]\n",
            " [1141.4459 ]\n",
            " [ 991.20905]\n",
            " [1057.8003 ]\n",
            " [1213.5912 ]\n",
            " [1195.5828 ]\n",
            " [1194.91   ]\n",
            " [1155.4712 ]\n",
            " [1248.9346 ]\n",
            " [1211.5717 ]\n",
            " [1208.2053 ]\n",
            " [1352.552  ]\n",
            " [1336.9003 ]\n",
            " [1368.0923 ]\n",
            " [1333.534  ]\n",
            " [1289.439  ]\n",
            " [1309.8596 ]\n",
            " [1372.636  ]\n",
            " [1394.8519 ]\n",
            " [1387.6149 ]\n",
            " [1529.2688 ]\n",
            " [1537.4595 ]\n",
            " [1589.1846 ]\n",
            " [1603.4895 ]\n",
            " [1601.6945 ]\n",
            " [1600.3481 ]]\n"
          ],
          "name": "stdout"
        },
        {
          "output_type": "display_data",
          "data": {
            "image/png": "[encoded data removed]",
            "text/plain": [
              "<Figure size 720x432 with 1 Axes>"
            ]
          },
          "metadata": {
            "tags": [],
            "needs_background": "light"
          }
        }
      ]
    },
    {
      "cell_type": "code",
      "metadata": {
        "id": "9bYpwzSdTa4Q",
        "colab_type": "code",
        "colab": {}
      },
      "source": [
        ""
      ],
      "execution_count": 38,
      "outputs": []
    }
  ]
}