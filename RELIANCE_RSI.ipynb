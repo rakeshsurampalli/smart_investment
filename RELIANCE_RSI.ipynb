{
  "nbformat": 4,
  "nbformat_minor": 0,
  "metadata": {
    "colab": {
      "name": "RELIANCE RSI.ipynb",
      "provenance": [],
      "include_colab_link": true
    },
    "kernelspec": {
      "name": "python3",
      "display_name": "Python 3"
    },
    "accelerator": "GPU"
  },
  "cells": [
    {
      "cell_type": "markdown",
      "metadata": {
        "id": "view-in-github",
        "colab_type": "text"
      },
      "source": [
        "<a href=\"https://colab.research.google.com/github/rakeshsurampalli/smart_investment/blob/master/RELIANCE_RSI.ipynb\" target=\"_parent\"><img src=\"https://colab.research.google.com/assets/colab-badge.svg\" alt=\"Open In Colab\"/></a>"
      ]
    },
    {
      "cell_type": "code",
      "metadata": {
        "id": "lhNo8EHFDO0i",
        "colab_type": "code",
        "colab": {}
      },
      "source": [
        "try:\n",
        "  # %tensorflow_version only exists in Colab.\n",
        "  %tensorflow_version 2.x\n",
        "except Exception:\n",
        "  pass\n"
      ],
      "execution_count": 1,
      "outputs": []
    },
    {
      "cell_type": "code",
      "metadata": {
        "id": "jLSMbyHCbkVN",
        "colab_type": "code",
        "colab": {}
      },
      "source": [
        ""
      ],
      "execution_count": null,
      "outputs": []
    },
    {
      "cell_type": "code",
      "metadata": {
        "id": "HXjgIS0TAjrE",
        "colab_type": "code",
        "colab": {
          "base_uri": "https://localhost:8080/",
          "height": 34
        },
        "outputId": "6a9f3a13-f13e-4f6e-f075-a6018af48ac2"
      },
      "source": [
        "import tensorflow as tf\n",
        "from tensorflow import keras\n",
        "import matplotlib.pyplot as plt\n",
        "print(tf.__version__)"
      ],
      "execution_count": 2,
      "outputs": [
        {
          "output_type": "stream",
          "text": [
            "2.2.0\n"
          ],
          "name": "stdout"
        }
      ]
    },
    {
      "cell_type": "code",
      "metadata": {
        "id": "Yf-Iq3t3Am33",
        "colab_type": "code",
        "colab": {}
      },
      "source": [
        "import pandas as pd\n",
        "import numpy as np\n",
        "from google.colab import files\n",
        "from pandas import datetime\n",
        "import matplotlib.pyplot as plt\n"
      ],
      "execution_count": 4,
      "outputs": []
    },
    {
      "cell_type": "code",
      "metadata": {
        "id": "d135lTR9Iw8P",
        "colab_type": "code",
        "colab": {}
      },
      "source": [
        "import numpy as np\n",
        "import matplotlib.pyplot as plt\n",
        "def plot_series(time, series, format=\"-\", start=0, end=None):\n",
        "    plt.plot(time[start:end], series[start:end], format)\n",
        "    plt.xlabel(\"Time\")\n",
        "    plt.ylabel(\"Value\")\n",
        "    plt.grid(True)"
      ],
      "execution_count": 5,
      "outputs": []
    },
    {
      "cell_type": "code",
      "metadata": {
        "id": "Y5JcQDL8XEXT",
        "colab_type": "code",
        "colab": {}
      },
      "source": [
        "!pip install -U -q PyDrive\n",
        "from pydrive.auth import GoogleAuth\n",
        "from pydrive.drive import GoogleDrive\n",
        "from google.colab import auth\n",
        "from oauth2client.client import GoogleCredentials"
      ],
      "execution_count": 6,
      "outputs": []
    },
    {
      "cell_type": "code",
      "metadata": {
        "id": "mE4iBAOVXIk7",
        "colab_type": "code",
        "colab": {}
      },
      "source": [
        "\n",
        "# 1. Authenticate and create the PyDrive client.\n",
        "auth.authenticate_user()\n",
        "gauth = GoogleAuth()\n",
        "gauth.credentials = GoogleCredentials.get_application_default()\n",
        "drive = GoogleDrive(gauth)"
      ],
      "execution_count": 7,
      "outputs": []
    },
    {
      "cell_type": "code",
      "metadata": {
        "id": "8c0tgJ69XIq7",
        "colab_type": "code",
        "colab": {}
      },
      "source": [
        "\n",
        "#2. Get the file\n",
        "downloaded = drive.CreateFile({'id':'1uXnme3jK0iwMN6tBujDWVU1Td2fj2k3T'}) # replace the id with id of file you want to access\n",
        "downloaded.GetContentFile('RELIANCE20.csv')"
      ],
      "execution_count": 11,
      "outputs": []
    },
    {
      "cell_type": "code",
      "metadata": {
        "id": "umsOxL4pXIxF",
        "colab_type": "code",
        "colab": {}
      },
      "source": [
        "import pandas as pd\n",
        "sales = pd.read_csv('RELIANCE20.csv')"
      ],
      "execution_count": 12,
      "outputs": []
    },
    {
      "cell_type": "code",
      "metadata": {
        "id": "u0fA5g_8XiMr",
        "colab_type": "code",
        "colab": {
          "base_uri": "https://localhost:8080/",
          "height": 204
        },
        "outputId": "626c60e9-fe4b-4286-a7c5-0b6cc43b54ea"
      },
      "source": [
        "sales.head()"
      ],
      "execution_count": 13,
      "outputs": [
        {
          "output_type": "execute_result",
          "data": {
            "text/html": [
              "<div>\n",
              "<style scoped>\n",
              "    .dataframe tbody tr th:only-of-type {\n",
              "        vertical-align: middle;\n",
              "    }\n",
              "\n",
              "    .dataframe tbody tr th {\n",
              "        vertical-align: top;\n",
              "    }\n",
              "\n",
              "    .dataframe thead th {\n",
              "        text-align: right;\n",
              "    }\n",
              "</style>\n",
              "<table border=\"1\" class=\"dataframe\">\n",
              "  <thead>\n",
              "    <tr style=\"text-align: right;\">\n",
              "      <th></th>\n",
              "      <th>Date</th>\n",
              "      <th>Open</th>\n",
              "      <th>High</th>\n",
              "      <th>Low</th>\n",
              "      <th>Close</th>\n",
              "      <th>Adj Close</th>\n",
              "      <th>Volume</th>\n",
              "    </tr>\n",
              "  </thead>\n",
              "  <tbody>\n",
              "    <tr>\n",
              "      <th>0</th>\n",
              "      <td>1996-01-01</td>\n",
              "      <td>16.009800</td>\n",
              "      <td>16.095699</td>\n",
              "      <td>15.904300</td>\n",
              "      <td>16.0683</td>\n",
              "      <td>2.412877</td>\n",
              "      <td>47600787.0</td>\n",
              "    </tr>\n",
              "    <tr>\n",
              "      <th>1</th>\n",
              "      <td>1996-01-02</td>\n",
              "      <td>16.029301</td>\n",
              "      <td>16.107401</td>\n",
              "      <td>15.826200</td>\n",
              "      <td>15.9434</td>\n",
              "      <td>2.394122</td>\n",
              "      <td>77143764.0</td>\n",
              "    </tr>\n",
              "    <tr>\n",
              "      <th>2</th>\n",
              "      <td>1996-01-03</td>\n",
              "      <td>16.205000</td>\n",
              "      <td>16.943001</td>\n",
              "      <td>16.029301</td>\n",
              "      <td>16.0644</td>\n",
              "      <td>2.412292</td>\n",
              "      <td>95695836.0</td>\n",
              "    </tr>\n",
              "    <tr>\n",
              "      <th>3</th>\n",
              "      <td>1996-01-04</td>\n",
              "      <td>15.912100</td>\n",
              "      <td>15.962900</td>\n",
              "      <td>15.701300</td>\n",
              "      <td>15.9160</td>\n",
              "      <td>2.390007</td>\n",
              "      <td>99159504.0</td>\n",
              "    </tr>\n",
              "    <tr>\n",
              "      <th>4</th>\n",
              "      <td>1996-01-05</td>\n",
              "      <td>15.853600</td>\n",
              "      <td>15.853600</td>\n",
              "      <td>15.670000</td>\n",
              "      <td>15.8067</td>\n",
              "      <td>2.373594</td>\n",
              "      <td>76213503.0</td>\n",
              "    </tr>\n",
              "  </tbody>\n",
              "</table>\n",
              "</div>"
            ],
            "text/plain": [
              "         Date       Open       High        Low    Close  Adj Close      Volume\n",
              "0  1996-01-01  16.009800  16.095699  15.904300  16.0683   2.412877  47600787.0\n",
              "1  1996-01-02  16.029301  16.107401  15.826200  15.9434   2.394122  77143764.0\n",
              "2  1996-01-03  16.205000  16.943001  16.029301  16.0644   2.412292  95695836.0\n",
              "3  1996-01-04  15.912100  15.962900  15.701300  15.9160   2.390007  99159504.0\n",
              "4  1996-01-05  15.853600  15.853600  15.670000  15.8067   2.373594  76213503.0"
            ]
          },
          "metadata": {
            "tags": []
          },
          "execution_count": 13
        }
      ]
    },
    {
      "cell_type": "code",
      "metadata": {
        "id": "5zM50xykXiS8",
        "colab_type": "code",
        "colab": {}
      },
      "source": [
        "sales = sales.Close"
      ],
      "execution_count": 14,
      "outputs": []
    },
    {
      "cell_type": "code",
      "metadata": {
        "id": "pn3u9mCKXiZW",
        "colab_type": "code",
        "colab": {}
      },
      "source": [
        ""
      ],
      "execution_count": null,
      "outputs": []
    },
    {
      "cell_type": "code",
      "metadata": {
        "id": "zwGQPLrdl51G",
        "colab_type": "code",
        "colab": {}
      },
      "source": [
        "\n",
        "\n",
        "#2. Get the file\n",
        "rsi = drive.CreateFile({'id':'1o3tKOp2B3BJrJ5zIPBVARaAjWLslEnXR'}) # replace the id with id of file you want to access\n",
        "rsi.GetContentFile('rsi.csv')"
      ],
      "execution_count": 8,
      "outputs": []
    },
    {
      "cell_type": "code",
      "metadata": {
        "id": "oQ_I-KOIl5-F",
        "colab_type": "code",
        "colab": {}
      },
      "source": [
        "import pandas as pd\n",
        "RSI = pd.read_csv('rsi.csv')"
      ],
      "execution_count": 9,
      "outputs": []
    },
    {
      "cell_type": "code",
      "metadata": {
        "id": "PfHGBDiWl6E5",
        "colab_type": "code",
        "colab": {
          "base_uri": "https://localhost:8080/",
          "height": 34
        },
        "outputId": "7f84b8ae-d29d-4c82-bf88-7caa0414f21d"
      },
      "source": [
        "RSI.columns"
      ],
      "execution_count": 10,
      "outputs": [
        {
          "output_type": "execute_result",
          "data": {
            "text/plain": [
              "Index(['17/07/20', '14', 'close'], dtype='object')"
            ]
          },
          "metadata": {
            "tags": []
          },
          "execution_count": 10
        }
      ]
    },
    {
      "cell_type": "code",
      "metadata": {
        "id": "k1uTTbLABBvW",
        "colab_type": "code",
        "colab": {
          "resources": {
            "http://localhost:8080/nbextensions/google.colab/files.js": {
              "data": "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",
              "ok": true,
              "headers": [
                [
                  "content-type",
                  "application/javascript"
                ]
              ],
              "status": 200,
              "status_text": ""
            }
          },
          "base_uri": "https://localhost:8080/",
          "height": 397
        },
        "outputId": "9722a49b-4696-4163-c665-796abadc8161"
      },
      "source": [
        "uploaded = files.upload()\n",
        "for fn in uploaded.keys():\n",
        "  print('User uploaded file \"{name}\" with length {length} bytes'.format(\n",
        "      name=fn, length=len(uploaded[fn])))"
      ],
      "execution_count": null,
      "outputs": [
        {
          "output_type": "display_data",
          "data": {
            "text/html": [
              "\n",
              "     <input type=\"file\" id=\"files-69bd3278-f981-4718-b51b-82464fa44675\" name=\"files[]\" multiple disabled\n",
              "        style=\"border:none\" />\n",
              "     <output id=\"result-69bd3278-f981-4718-b51b-82464fa44675\">\n",
              "      Upload widget is only available when the cell has been executed in the\n",
              "      current browser session. Please rerun this cell to enable.\n",
              "      </output>\n",
              "      <script src=\"/nbextensions/google.colab/files.js\"></script> "
            ],
            "text/plain": [
              "<IPython.core.display.HTML object>"
            ]
          },
          "metadata": {
            "tags": []
          }
        },
        {
          "output_type": "error",
          "ename": "MessageError",
          "evalue": "ignored",
          "traceback": [
            "\u001b[0;31m---------------------------------------------------------------------------\u001b[0m",
            "\u001b[0;31mMessageError\u001b[0m                              Traceback (most recent call last)",
            "\u001b[0;32m<ipython-input-66-633487f4966c>\u001b[0m in \u001b[0;36m<module>\u001b[0;34m()\u001b[0m\n\u001b[0;32m----> 1\u001b[0;31m \u001b[0muploaded\u001b[0m \u001b[0;34m=\u001b[0m \u001b[0mfiles\u001b[0m\u001b[0;34m.\u001b[0m\u001b[0mupload\u001b[0m\u001b[0;34m(\u001b[0m\u001b[0;34m)\u001b[0m\u001b[0;34m\u001b[0m\u001b[0;34m\u001b[0m\u001b[0m\n\u001b[0m\u001b[1;32m      2\u001b[0m \u001b[0;32mfor\u001b[0m \u001b[0mfn\u001b[0m \u001b[0;32min\u001b[0m \u001b[0muploaded\u001b[0m\u001b[0;34m.\u001b[0m\u001b[0mkeys\u001b[0m\u001b[0;34m(\u001b[0m\u001b[0;34m)\u001b[0m\u001b[0;34m:\u001b[0m\u001b[0;34m\u001b[0m\u001b[0;34m\u001b[0m\u001b[0m\n\u001b[1;32m      3\u001b[0m   print('User uploaded file \"{name}\" with length {length} bytes'.format(\n\u001b[1;32m      4\u001b[0m       name=fn, length=len(uploaded[fn])))\n",
            "\u001b[0;32m/usr/local/lib/python3.6/dist-packages/google/colab/files.py\u001b[0m in \u001b[0;36mupload\u001b[0;34m()\u001b[0m\n\u001b[1;32m     75\u001b[0m     result = _output.eval_js(\n\u001b[1;32m     76\u001b[0m         'google.colab._files._uploadFilesContinue(\"{output_id}\")'.format(\n\u001b[0;32m---> 77\u001b[0;31m             output_id=output_id))\n\u001b[0m\u001b[1;32m     78\u001b[0m     \u001b[0;32mif\u001b[0m \u001b[0mresult\u001b[0m\u001b[0;34m[\u001b[0m\u001b[0;34m'action'\u001b[0m\u001b[0;34m]\u001b[0m \u001b[0;34m!=\u001b[0m \u001b[0;34m'append'\u001b[0m\u001b[0;34m:\u001b[0m\u001b[0;34m\u001b[0m\u001b[0;34m\u001b[0m\u001b[0m\n\u001b[1;32m     79\u001b[0m       \u001b[0;31m# JS side uses a generator of promises to process all of the files- some\u001b[0m\u001b[0;34m\u001b[0m\u001b[0;34m\u001b[0m\u001b[0;34m\u001b[0m\u001b[0m\n",
            "\u001b[0;32m/usr/local/lib/python3.6/dist-packages/google/colab/output/_js.py\u001b[0m in \u001b[0;36meval_js\u001b[0;34m(script, ignore_result)\u001b[0m\n\u001b[1;32m     37\u001b[0m   \u001b[0;32mif\u001b[0m \u001b[0mignore_result\u001b[0m\u001b[0;34m:\u001b[0m\u001b[0;34m\u001b[0m\u001b[0;34m\u001b[0m\u001b[0m\n\u001b[1;32m     38\u001b[0m     \u001b[0;32mreturn\u001b[0m\u001b[0;34m\u001b[0m\u001b[0;34m\u001b[0m\u001b[0m\n\u001b[0;32m---> 39\u001b[0;31m   \u001b[0;32mreturn\u001b[0m \u001b[0m_message\u001b[0m\u001b[0;34m.\u001b[0m\u001b[0mread_reply_from_input\u001b[0m\u001b[0;34m(\u001b[0m\u001b[0mrequest_id\u001b[0m\u001b[0;34m)\u001b[0m\u001b[0;34m\u001b[0m\u001b[0;34m\u001b[0m\u001b[0m\n\u001b[0m\u001b[1;32m     40\u001b[0m \u001b[0;34m\u001b[0m\u001b[0m\n\u001b[1;32m     41\u001b[0m \u001b[0;34m\u001b[0m\u001b[0m\n",
            "\u001b[0;32m/usr/local/lib/python3.6/dist-packages/google/colab/_message.py\u001b[0m in \u001b[0;36mread_reply_from_input\u001b[0;34m(message_id, timeout_sec)\u001b[0m\n\u001b[1;32m    104\u001b[0m         reply.get('colab_msg_id') == message_id):\n\u001b[1;32m    105\u001b[0m       \u001b[0;32mif\u001b[0m \u001b[0;34m'error'\u001b[0m \u001b[0;32min\u001b[0m \u001b[0mreply\u001b[0m\u001b[0;34m:\u001b[0m\u001b[0;34m\u001b[0m\u001b[0;34m\u001b[0m\u001b[0m\n\u001b[0;32m--> 106\u001b[0;31m         \u001b[0;32mraise\u001b[0m \u001b[0mMessageError\u001b[0m\u001b[0;34m(\u001b[0m\u001b[0mreply\u001b[0m\u001b[0;34m[\u001b[0m\u001b[0;34m'error'\u001b[0m\u001b[0;34m]\u001b[0m\u001b[0;34m)\u001b[0m\u001b[0;34m\u001b[0m\u001b[0;34m\u001b[0m\u001b[0m\n\u001b[0m\u001b[1;32m    107\u001b[0m       \u001b[0;32mreturn\u001b[0m \u001b[0mreply\u001b[0m\u001b[0;34m.\u001b[0m\u001b[0mget\u001b[0m\u001b[0;34m(\u001b[0m\u001b[0;34m'data'\u001b[0m\u001b[0;34m,\u001b[0m \u001b[0;32mNone\u001b[0m\u001b[0;34m)\u001b[0m\u001b[0;34m\u001b[0m\u001b[0;34m\u001b[0m\u001b[0m\n\u001b[1;32m    108\u001b[0m \u001b[0;34m\u001b[0m\u001b[0m\n",
            "\u001b[0;31mMessageError\u001b[0m: RangeError: Maximum call stack size exceeded."
          ]
        }
      ]
    },
    {
      "cell_type": "code",
      "metadata": {
        "id": "3afab7wcBL0_",
        "colab_type": "code",
        "colab": {
          "base_uri": "https://localhost:8080/",
          "height": 71
        },
        "outputId": "a45c6365-214d-43bd-9b42-1bf60bafe74c"
      },
      "source": [
        "import io\n",
        "def parser(x):\n",
        "  return datetime.strptime(x,'%d/%m/%y')\n",
        "\n",
        "sales = pd.read_csv(io.StringIO(uploaded['reliance1.csv'].decode('utf-8')),index_col=0,parse_dates=[0],date_parser=parser)"
      ],
      "execution_count": null,
      "outputs": [
        {
          "output_type": "stream",
          "text": [
            "/usr/local/lib/python3.6/dist-packages/ipykernel_launcher.py:3: FutureWarning: The pandas.datetime class is deprecated and will be removed from pandas in a future version. Import from datetime instead.\n",
            "  This is separate from the ipykernel package so we can avoid doing imports until\n"
          ],
          "name": "stderr"
        }
      ]
    },
    {
      "cell_type": "code",
      "metadata": {
        "id": "t20CqsNtChf9",
        "colab_type": "code",
        "colab": {
          "base_uri": "https://localhost:8080/",
          "height": 51
        },
        "outputId": "3a931ff4-f25e-4db5-d0be-ee46c8d5293d"
      },
      "source": [
        "sales.head()\n",
        "print(\"checking if any null values are present\\n\", sales.isna().sum())"
      ],
      "execution_count": null,
      "outputs": [
        {
          "output_type": "stream",
          "text": [
            "checking if any null values are present\n",
            " 126\n"
          ],
          "name": "stdout"
        }
      ]
    },
    {
      "cell_type": "code",
      "metadata": {
        "id": "FeG9Crea-mYq",
        "colab_type": "code",
        "colab": {
          "base_uri": "https://localhost:8080/",
          "height": 51
        },
        "outputId": "c3a6809e-340c-4181-e0d5-f14ceb783e25"
      },
      "source": [
        "sales = sales.dropna()\n",
        "print(\"checking if any null values are present\\n\", sales.isna().sum())"
      ],
      "execution_count": null,
      "outputs": [
        {
          "output_type": "stream",
          "text": [
            "checking if any null values are present\n",
            " 0\n"
          ],
          "name": "stdout"
        }
      ]
    },
    {
      "cell_type": "code",
      "metadata": {
        "id": "tvQNzUnltAL8",
        "colab_type": "code",
        "colab": {
          "base_uri": "https://localhost:8080/",
          "height": 102
        },
        "outputId": "aa25dbe6-23fc-4d9a-8f6e-66258d948fa2"
      },
      "source": [
        "RSI.head()\n",
        "print(\"checking if any null values are present\\n\", RSI.isna().sum())"
      ],
      "execution_count": 11,
      "outputs": [
        {
          "output_type": "stream",
          "text": [
            "checking if any null values are present\n",
            " 17/07/20    0\n",
            "14          0\n",
            "close       0\n",
            "dtype: int64\n"
          ],
          "name": "stdout"
        }
      ]
    },
    {
      "cell_type": "code",
      "metadata": {
        "id": "piekevymtAfR",
        "colab_type": "code",
        "colab": {}
      },
      "source": [
        ""
      ],
      "execution_count": null,
      "outputs": []
    },
    {
      "cell_type": "code",
      "metadata": {
        "id": "KGpMj6QTwDEQ",
        "colab_type": "code",
        "colab": {
          "base_uri": "https://localhost:8080/",
          "height": 545
        },
        "outputId": "d9a5a12f-ecc5-4d9a-b9e8-ced95f3bab1f"
      },
      "source": [
        "from statsmodels.graphics.tsaplots import plot_acf\n",
        "plot_acf(sales)"
      ],
      "execution_count": null,
      "outputs": [
        {
          "output_type": "execute_result",
          "data": {
            "image/png": "[encoded data removed]",
            "text/plain": [
              "<Figure size 432x288 with 1 Axes>"
            ]
          },
          "metadata": {
            "tags": []
          },
          "execution_count": 18
        },
        {
          "output_type": "display_data",
          "data": {
            "image/png": "[encoded data removed]",
            "text/plain": [
              "<Figure size 432x288 with 1 Axes>"
            ]
          },
          "metadata": {
            "tags": [],
            "needs_background": "light"
          }
        }
      ]
    },
    {
      "cell_type": "code",
      "metadata": {
        "id": "N5jKh1d_wDLT",
        "colab_type": "code",
        "colab": {}
      },
      "source": [
        "sales_diff = sales.diff(periods=1)"
      ],
      "execution_count": null,
      "outputs": []
    },
    {
      "cell_type": "code",
      "metadata": {
        "id": "z_GTboaGwDRB",
        "colab_type": "code",
        "colab": {
          "base_uri": "https://localhost:8080/"
        },
        "outputId": "105e1c7f-f32c-4195-d403-6ee397d417f3"
      },
      "source": [
        "sales = sales_diff[1:]\n",
        "sales.head()"
      ],
      "execution_count": null,
      "outputs": [
        {
          "output_type": "execute_result",
          "data": {
            "text/plain": [
              "1   -0.1249\n",
              "2    0.1210\n",
              "3   -0.1484\n",
              "4   -0.1093\n",
              "5   -0.6326\n",
              "Name: Close, dtype: float64"
            ]
          },
          "metadata": {
            "tags": []
          },
          "execution_count": 83
        }
      ]
    },
    {
      "cell_type": "code",
      "metadata": {
        "id": "nJho0N5NwDbo",
        "colab_type": "code",
        "colab": {}
      },
      "source": [
        ""
      ],
      "execution_count": null,
      "outputs": []
    },
    {
      "cell_type": "code",
      "metadata": {
        "id": "MwWZlIaBBUy4",
        "colab_type": "code",
        "colab": {
          "base_uri": "https://localhost:8080/"
        },
        "outputId": "b00eea34-df1a-47df-e370-c34068598a60"
      },
      "source": [
        " X = sales\n",
        "#X = np.random.rand(32).astype(np.float32)+58\n",
        "time = np.arange(6027)\n",
        "\n",
        "print(X)\n",
        "X.size\n",
        "split_time = 5500\n",
        "time_train = time[:split_time]\n",
        "time_valid = time[split_time:]\n",
        "x_train = X[:split_time]\n",
        "x_test = X[split_time:]\n"
      ],
      "execution_count": null,
      "outputs": [
        {
          "output_type": "stream",
          "text": [
            "0         16.068300\n",
            "1         15.943400\n",
            "2         16.064400\n",
            "3         15.916000\n",
            "4         15.806700\n",
            "           ...     \n",
            "6148    1431.550049\n",
            "6149    1424.050049\n",
            "6150    1445.550049\n",
            "6151    1472.250000\n",
            "6152    1464.400024\n",
            "Name: Close, Length: 6027, dtype: float64\n"
          ],
          "name": "stdout"
        }
      ]
    },
    {
      "cell_type": "code",
      "metadata": {
        "id": "WXv5veUitj3o",
        "colab_type": "code",
        "colab": {
          "base_uri": "https://localhost:8080/",
          "height": 221
        },
        "outputId": "670f0af2-fa25-4274-9a79-76ff1da00aa0"
      },
      "source": [
        " Y = RSI.close\n",
        "#X = np.random.rand(32).astype(np.float32)+58\n",
        "times = np.arange(3803)\n",
        "\n",
        "print(Y)\n",
        "Y.size\n",
        "split_times = 3775\n",
        "time_trains = times[:split_times]\n",
        "time_valids = times[split_times:]\n",
        "x_trains = Y[:split_times]\n",
        "x_tests = Y[split_times:]\n"
      ],
      "execution_count": 12,
      "outputs": [
        {
          "output_type": "stream",
          "text": [
            "0       61.39570\n",
            "1       61.47900\n",
            "2       72.60824\n",
            "3       75.74784\n",
            "4       72.21863\n",
            "          ...   \n",
            "3798    48.46000\n",
            "3799    42.14000\n",
            "3800    28.98000\n",
            "3801    24.65000\n",
            "3802    26.38000\n",
            "Name: close, Length: 3803, dtype: float64\n"
          ],
          "name": "stdout"
        }
      ]
    },
    {
      "cell_type": "code",
      "metadata": {
        "id": "PI4Dk29fDZhO",
        "colab_type": "code",
        "colab": {}
      },
      "source": [
        "window_size = 20\n",
        "batch_size = 32\n",
        "shuffle_buffer_size = 1000\n",
        "def windowed_dataset(series, window_size, batch_size, shuffle_buffer):\n",
        "  dataset = tf.data.Dataset.from_tensor_slices(series)\n",
        "  dataset = dataset.window(window_size + 1, shift=1, drop_remainder=True)\n",
        "  dataset = dataset.flat_map(lambda window: window.batch(window_size + 1))\n",
        "  dataset = dataset.shuffle(shuffle_buffer).map(lambda window: (window[:-1], window[-1]))\n",
        "  dataset = dataset.batch(batch_size).prefetch(1)\n",
        "  return dataset"
      ],
      "execution_count": 13,
      "outputs": []
    },
    {
      "cell_type": "code",
      "metadata": {
        "id": "I2u95SqKBU-B",
        "colab_type": "code",
        "colab": {
          "base_uri": "https://localhost:8080/",
          "height": 198
        },
        "outputId": "11632b74-c72f-41f3-eff7-8c1f33b86450"
      },
      "source": [
        "tf.keras.backend.clear_session()\n",
        "tf.random.set_seed(51)\n",
        "np.random.seed(51)\n",
        "train_set = windowed_dataset(x_train,window_size,batch_size = 128,shuffle_buffer = shuffle_buffer_size)"
      ],
      "execution_count": 38,
      "outputs": [
        {
          "output_type": "error",
          "ename": "NameError",
          "evalue": "ignored",
          "traceback": [
            "\u001b[0;31m---------------------------------------------------------------------------\u001b[0m",
            "\u001b[0;31mNameError\u001b[0m                                 Traceback (most recent call last)",
            "\u001b[0;32m<ipython-input-38-b34f1b9ce9ed>\u001b[0m in \u001b[0;36m<module>\u001b[0;34m()\u001b[0m\n\u001b[1;32m      2\u001b[0m \u001b[0mtf\u001b[0m\u001b[0;34m.\u001b[0m\u001b[0mrandom\u001b[0m\u001b[0;34m.\u001b[0m\u001b[0mset_seed\u001b[0m\u001b[0;34m(\u001b[0m\u001b[0;36m51\u001b[0m\u001b[0;34m)\u001b[0m\u001b[0;34m\u001b[0m\u001b[0;34m\u001b[0m\u001b[0m\n\u001b[1;32m      3\u001b[0m \u001b[0mnp\u001b[0m\u001b[0;34m.\u001b[0m\u001b[0mrandom\u001b[0m\u001b[0;34m.\u001b[0m\u001b[0mseed\u001b[0m\u001b[0;34m(\u001b[0m\u001b[0;36m51\u001b[0m\u001b[0;34m)\u001b[0m\u001b[0;34m\u001b[0m\u001b[0;34m\u001b[0m\u001b[0m\n\u001b[0;32m----> 4\u001b[0;31m \u001b[0mtrain_set\u001b[0m \u001b[0;34m=\u001b[0m \u001b[0mwindowed_dataset\u001b[0m\u001b[0;34m(\u001b[0m\u001b[0mx_train\u001b[0m\u001b[0;34m,\u001b[0m\u001b[0mwindow_size\u001b[0m\u001b[0;34m,\u001b[0m\u001b[0mbatch_size\u001b[0m \u001b[0;34m=\u001b[0m \u001b[0;36m128\u001b[0m\u001b[0;34m,\u001b[0m\u001b[0mshuffle_buffer\u001b[0m \u001b[0;34m=\u001b[0m \u001b[0mshuffle_buffer_size\u001b[0m\u001b[0;34m)\u001b[0m\u001b[0;34m\u001b[0m\u001b[0;34m\u001b[0m\u001b[0m\n\u001b[0m",
            "\u001b[0;31mNameError\u001b[0m: name 'x_train' is not defined"
          ]
        }
      ]
    },
    {
      "cell_type": "code",
      "metadata": {
        "id": "rpfQtCqZw4CX",
        "colab_type": "code",
        "colab": {}
      },
      "source": [
        "tf.keras.backend.clear_session()\n",
        "tf.random.set_seed(51)\n",
        "np.random.seed(51)\n",
        "train_sets = windowed_dataset(x_trains,window_size,batch_size = 128,shuffle_buffer = shuffle_buffer_size)"
      ],
      "execution_count": 14,
      "outputs": []
    },
    {
      "cell_type": "code",
      "metadata": {
        "id": "tlHZfSkPAGr-",
        "colab_type": "code",
        "colab": {}
      },
      "source": [
        "model = keras.models.Sequential([\n",
        "                      keras.layers.Lambda(lambda x: tf.expand_dims(x,axis=-1)),\n",
        "                      #keras.layers.SimpleRNN(20, return_sequences = True,\n",
        "                                               #input_shape = [None,1]),\n",
        "                      keras.layers.Dense(20),\n",
        "                      keras.layers.Dense(10),\n",
        "                      keras.layers.Dense(1),\n",
        "                      keras.layers.Lambda(lambda x: x*100.0)\n",
        "\n",
        "               \n",
        "])"
      ],
      "execution_count": 15,
      "outputs": []
    },
    {
      "cell_type": "code",
      "metadata": {
        "id": "4cn_5WZH6xWE",
        "colab_type": "code",
        "colab": {}
      },
      "source": [
        "lr_schedule = tf.keras.callbacks.LearningRateScheduler(lambda epoch: 1e-8 * 10**(epoch/20))"
      ],
      "execution_count": 16,
      "outputs": []
    },
    {
      "cell_type": "code",
      "metadata": {
        "id": "Btslyw9M_3vf",
        "colab_type": "code",
        "colab": {}
      },
      "source": [
        "optimizer = tf.keras.optimizers.SGD(lr=1e-8,momentum=0.9)"
      ],
      "execution_count": 17,
      "outputs": []
    },
    {
      "cell_type": "code",
      "metadata": {
        "id": "TIbgr2f3AHcK",
        "colab_type": "code",
        "colab": {}
      },
      "source": [
        "model.compile(loss=tf.keras.losses.Huber(),optimizer='adam',metrics=[\"mae\"])"
      ],
      "execution_count": 18,
      "outputs": []
    },
    {
      "cell_type": "code",
      "metadata": {
        "id": "O4gpCyU0AYO1",
        "colab_type": "code",
        "colab": {
          "base_uri": "https://localhost:8080/",
          "height": 164
        },
        "outputId": "e3a25f5e-0a1b-4267-d7db-07c35270e1ca"
      },
      "source": [
        "history = model.fit(train_set,epochs=500,callbacks=[lr_schedule])"
      ],
      "execution_count": 60,
      "outputs": [
        {
          "output_type": "error",
          "ename": "NameError",
          "evalue": "ignored",
          "traceback": [
            "\u001b[0;31m---------------------------------------------------------------------------\u001b[0m",
            "\u001b[0;31mNameError\u001b[0m                                 Traceback (most recent call last)",
            "\u001b[0;32m<ipython-input-60-0bd46946f4f3>\u001b[0m in \u001b[0;36m<module>\u001b[0;34m()\u001b[0m\n\u001b[0;32m----> 1\u001b[0;31m \u001b[0mhistory\u001b[0m \u001b[0;34m=\u001b[0m \u001b[0mmodel\u001b[0m\u001b[0;34m.\u001b[0m\u001b[0mfit\u001b[0m\u001b[0;34m(\u001b[0m\u001b[0mtrain_set\u001b[0m\u001b[0;34m,\u001b[0m\u001b[0mepochs\u001b[0m\u001b[0;34m=\u001b[0m\u001b[0;36m500\u001b[0m\u001b[0;34m,\u001b[0m\u001b[0mcallbacks\u001b[0m\u001b[0;34m=\u001b[0m\u001b[0;34m[\u001b[0m\u001b[0mlr_schedule\u001b[0m\u001b[0;34m]\u001b[0m\u001b[0;34m)\u001b[0m\u001b[0;34m\u001b[0m\u001b[0;34m\u001b[0m\u001b[0m\n\u001b[0m",
            "\u001b[0;31mNameError\u001b[0m: name 'train_set' is not defined"
          ]
        }
      ]
    },
    {
      "cell_type": "code",
      "metadata": {
        "id": "xlDJD7i3xALp",
        "colab_type": "code",
        "colab": {
          "base_uri": "https://localhost:8080/",
          "height": 1000
        },
        "outputId": "df4c78b0-7f64-455b-814e-01a4e302bb48"
      },
      "source": [
        "RSI_history = model.fit(train_sets,epochs=149,callbacks=[lr_schedule])"
      ],
      "execution_count": 19,
      "outputs": [
        {
          "output_type": "stream",
          "text": [
            "Epoch 1/149\n",
            "WARNING:tensorflow:Layer lambda is casting an input tensor from dtype float64 to the layer's dtype of float32, which is new behavior in TensorFlow 2.  The layer has dtype float32 because it's dtype defaults to floatx.\n",
            "\n",
            "If you intended to run this layer in float32, you can safely ignore this warning. If in doubt, this warning is likely only an issue if you are porting a TensorFlow 1.X model to TensorFlow 2.\n",
            "\n",
            "To change all layers to have dtype float64 by default, call `tf.keras.backend.set_floatx('float64')`. To change just this layer, pass dtype='float64' to the layer constructor. If you are the author of this layer, you can disable autocasting by passing autocast=False to the base Layer constructor.\n",
            "\n",
            "30/30 [==============================] - 1s 20ms/step - loss: 1290.7129 - mae: 1291.2129 - lr: 1.0000e-08\n",
            "Epoch 2/149\n",
            "30/30 [==============================] - 1s 20ms/step - loss: 1290.6829 - mae: 1291.1829 - lr: 1.1220e-08\n",
            "Epoch 3/149\n",
            "30/30 [==============================] - 1s 19ms/step - loss: 1290.6497 - mae: 1291.1497 - lr: 1.2589e-08\n",
            "Epoch 4/149\n",
            "30/30 [==============================] - 1s 20ms/step - loss: 1290.6146 - mae: 1291.1146 - lr: 1.4125e-08\n",
            "Epoch 5/149\n",
            "30/30 [==============================] - 1s 20ms/step - loss: 1290.5487 - mae: 1291.0487 - lr: 1.5849e-08\n",
            "Epoch 6/149\n",
            "30/30 [==============================] - 1s 19ms/step - loss: 1290.4497 - mae: 1290.9497 - lr: 1.7783e-08\n",
            "Epoch 7/149\n",
            "30/30 [==============================] - 1s 21ms/step - loss: 1290.3470 - mae: 1290.8470 - lr: 1.9953e-08\n",
            "Epoch 8/149\n",
            "30/30 [==============================] - 1s 20ms/step - loss: 1290.2355 - mae: 1290.7355 - lr: 2.2387e-08\n",
            "Epoch 9/149\n",
            "30/30 [==============================] - 1s 20ms/step - loss: 1290.1130 - mae: 1290.6130 - lr: 2.5119e-08\n",
            "Epoch 10/149\n",
            "30/30 [==============================] - 1s 20ms/step - loss: 1289.9827 - mae: 1290.4827 - lr: 2.8184e-08\n",
            "Epoch 11/149\n",
            "30/30 [==============================] - 1s 19ms/step - loss: 1289.8478 - mae: 1290.3478 - lr: 3.1623e-08\n",
            "Epoch 12/149\n",
            "30/30 [==============================] - 1s 20ms/step - loss: 1289.7080 - mae: 1290.2080 - lr: 3.5481e-08\n",
            "Epoch 13/149\n",
            "30/30 [==============================] - 1s 18ms/step - loss: 1289.5551 - mae: 1290.0551 - lr: 3.9811e-08\n",
            "Epoch 14/149\n",
            "30/30 [==============================] - 1s 21ms/step - loss: 1289.3706 - mae: 1289.8706 - lr: 4.4668e-08\n",
            "Epoch 15/149\n",
            "30/30 [==============================] - 1s 22ms/step - loss: 1289.1489 - mae: 1289.6489 - lr: 5.0119e-08\n",
            "Epoch 16/149\n",
            "30/30 [==============================] - 1s 19ms/step - loss: 1288.8956 - mae: 1289.3956 - lr: 5.6234e-08\n",
            "Epoch 17/149\n",
            "30/30 [==============================] - 1s 19ms/step - loss: 1288.6259 - mae: 1289.1259 - lr: 6.3096e-08\n",
            "Epoch 18/149\n",
            "30/30 [==============================] - 1s 20ms/step - loss: 1288.3389 - mae: 1288.8389 - lr: 7.0795e-08\n",
            "Epoch 19/149\n",
            "30/30 [==============================] - 1s 20ms/step - loss: 1288.0033 - mae: 1288.5033 - lr: 7.9433e-08\n",
            "Epoch 20/149\n",
            "30/30 [==============================] - 1s 20ms/step - loss: 1287.6144 - mae: 1288.1144 - lr: 8.9125e-08\n",
            "Epoch 21/149\n",
            "30/30 [==============================] - 1s 20ms/step - loss: 1287.1949 - mae: 1287.6949 - lr: 1.0000e-07\n",
            "Epoch 22/149\n",
            "30/30 [==============================] - 1s 19ms/step - loss: 1286.7167 - mae: 1287.2167 - lr: 1.1220e-07\n",
            "Epoch 23/149\n",
            "30/30 [==============================] - 1s 19ms/step - loss: 1286.1776 - mae: 1286.6776 - lr: 1.2589e-07\n",
            "Epoch 24/149\n",
            "30/30 [==============================] - 1s 19ms/step - loss: 1285.5748 - mae: 1286.0748 - lr: 1.4125e-07\n",
            "Epoch 25/149\n",
            "30/30 [==============================] - 1s 21ms/step - loss: 1284.8979 - mae: 1285.3979 - lr: 1.5849e-07\n",
            "Epoch 26/149\n",
            "30/30 [==============================] - 1s 20ms/step - loss: 1284.1470 - mae: 1284.6471 - lr: 1.7783e-07\n",
            "Epoch 27/149\n",
            "30/30 [==============================] - 1s 19ms/step - loss: 1283.2853 - mae: 1283.7853 - lr: 1.9953e-07\n",
            "Epoch 28/149\n",
            "30/30 [==============================] - 1s 19ms/step - loss: 1282.3174 - mae: 1282.8174 - lr: 2.2387e-07\n",
            "Epoch 29/149\n",
            "30/30 [==============================] - 1s 19ms/step - loss: 1281.2458 - mae: 1281.7458 - lr: 2.5119e-07\n",
            "Epoch 30/149\n",
            "30/30 [==============================] - 1s 21ms/step - loss: 1280.0454 - mae: 1280.5454 - lr: 2.8184e-07\n",
            "Epoch 31/149\n",
            "30/30 [==============================] - 1s 19ms/step - loss: 1278.6952 - mae: 1279.1952 - lr: 3.1623e-07\n",
            "Epoch 32/149\n",
            "30/30 [==============================] - 1s 21ms/step - loss: 1277.1771 - mae: 1277.6771 - lr: 3.5481e-07\n",
            "Epoch 33/149\n",
            "30/30 [==============================] - 1s 22ms/step - loss: 1275.4767 - mae: 1275.9767 - lr: 3.9811e-07\n",
            "Epoch 34/149\n",
            "30/30 [==============================] - 1s 19ms/step - loss: 1273.5757 - mae: 1274.0757 - lr: 4.4668e-07\n",
            "Epoch 35/149\n",
            "30/30 [==============================] - 1s 19ms/step - loss: 1271.4388 - mae: 1271.9388 - lr: 5.0119e-07\n",
            "Epoch 36/149\n",
            "30/30 [==============================] - 1s 20ms/step - loss: 1269.0385 - mae: 1269.5385 - lr: 5.6234e-07\n",
            "Epoch 37/149\n",
            "30/30 [==============================] - 1s 21ms/step - loss: 1266.3488 - mae: 1266.8488 - lr: 6.3096e-07\n",
            "Epoch 38/149\n",
            "30/30 [==============================] - 1s 19ms/step - loss: 1263.3284 - mae: 1263.8284 - lr: 7.0795e-07\n",
            "Epoch 39/149\n",
            "30/30 [==============================] - 1s 19ms/step - loss: 1259.9423 - mae: 1260.4423 - lr: 7.9433e-07\n",
            "Epoch 40/149\n",
            "30/30 [==============================] - 1s 20ms/step - loss: 1256.1362 - mae: 1256.6362 - lr: 8.9125e-07\n",
            "Epoch 41/149\n",
            "30/30 [==============================] - 1s 21ms/step - loss: 1251.8679 - mae: 1252.3679 - lr: 1.0000e-06\n",
            "Epoch 42/149\n",
            "30/30 [==============================] - 1s 20ms/step - loss: 1247.0793 - mae: 1247.5793 - lr: 1.1220e-06\n",
            "Epoch 43/149\n",
            "30/30 [==============================] - 1s 20ms/step - loss: 1241.7115 - mae: 1242.2115 - lr: 1.2589e-06\n",
            "Epoch 44/149\n",
            "30/30 [==============================] - 1s 19ms/step - loss: 1235.6804 - mae: 1236.1804 - lr: 1.4125e-06\n",
            "Epoch 45/149\n",
            "30/30 [==============================] - 1s 20ms/step - loss: 1228.9263 - mae: 1229.4263 - lr: 1.5849e-06\n",
            "Epoch 46/149\n",
            "30/30 [==============================] - 1s 18ms/step - loss: 1221.3329 - mae: 1221.8329 - lr: 1.7783e-06\n",
            "Epoch 47/149\n",
            "30/30 [==============================] - 1s 20ms/step - loss: 1212.8243 - mae: 1213.3243 - lr: 1.9953e-06\n",
            "Epoch 48/149\n",
            "30/30 [==============================] - 1s 19ms/step - loss: 1203.2769 - mae: 1203.7769 - lr: 2.2387e-06\n",
            "Epoch 49/149\n",
            "30/30 [==============================] - 1s 20ms/step - loss: 1192.5745 - mae: 1193.0745 - lr: 2.5119e-06\n",
            "Epoch 50/149\n",
            "30/30 [==============================] - 1s 21ms/step - loss: 1180.5686 - mae: 1181.0686 - lr: 2.8184e-06\n",
            "Epoch 51/149\n",
            "30/30 [==============================] - 1s 20ms/step - loss: 1167.0953 - mae: 1167.5953 - lr: 3.1623e-06\n",
            "Epoch 52/149\n",
            "30/30 [==============================] - 1s 18ms/step - loss: 1151.9562 - mae: 1152.4562 - lr: 3.5481e-06\n",
            "Epoch 53/149\n",
            "30/30 [==============================] - 1s 19ms/step - loss: 1134.9786 - mae: 1135.4786 - lr: 3.9811e-06\n",
            "Epoch 54/149\n",
            "30/30 [==============================] - 1s 19ms/step - loss: 1115.9211 - mae: 1116.4211 - lr: 4.4668e-06\n",
            "Epoch 55/149\n",
            "30/30 [==============================] - 1s 19ms/step - loss: 1094.5326 - mae: 1095.0326 - lr: 5.0119e-06\n",
            "Epoch 56/149\n",
            "30/30 [==============================] - 1s 19ms/step - loss: 1070.5499 - mae: 1071.0499 - lr: 5.6234e-06\n",
            "Epoch 57/149\n",
            "30/30 [==============================] - 1s 20ms/step - loss: 1043.6095 - mae: 1044.1095 - lr: 6.3096e-06\n",
            "Epoch 58/149\n",
            "30/30 [==============================] - 1s 20ms/step - loss: 1013.4132 - mae: 1013.9132 - lr: 7.0795e-06\n",
            "Epoch 59/149\n",
            "30/30 [==============================] - 1s 19ms/step - loss: 979.5192 - mae: 980.0192 - lr: 7.9433e-06\n",
            "Epoch 60/149\n",
            "30/30 [==============================] - 1s 19ms/step - loss: 941.4842 - mae: 941.9842 - lr: 8.9125e-06\n",
            "Epoch 61/149\n",
            "30/30 [==============================] - 1s 22ms/step - loss: 898.8077 - mae: 899.3077 - lr: 1.0000e-05\n",
            "Epoch 62/149\n",
            "30/30 [==============================] - 1s 19ms/step - loss: 850.9134 - mae: 851.4134 - lr: 1.1220e-05\n",
            "Epoch 63/149\n",
            "30/30 [==============================] - 1s 20ms/step - loss: 797.1630 - mae: 797.6630 - lr: 1.2589e-05\n",
            "Epoch 64/149\n",
            "30/30 [==============================] - 1s 20ms/step - loss: 736.7337 - mae: 737.2337 - lr: 1.4125e-05\n",
            "Epoch 65/149\n",
            "30/30 [==============================] - 1s 19ms/step - loss: 668.9144 - mae: 669.4144 - lr: 1.5849e-05\n",
            "Epoch 66/149\n",
            "30/30 [==============================] - 1s 20ms/step - loss: 592.6739 - mae: 593.1739 - lr: 1.7783e-05\n",
            "Epoch 67/149\n",
            "30/30 [==============================] - 1s 19ms/step - loss: 506.9498 - mae: 507.4498 - lr: 1.9953e-05\n",
            "Epoch 68/149\n",
            "30/30 [==============================] - 1s 20ms/step - loss: 410.7166 - mae: 411.2166 - lr: 2.2387e-05\n",
            "Epoch 69/149\n",
            "30/30 [==============================] - 1s 20ms/step - loss: 302.4675 - mae: 302.9675 - lr: 2.5119e-05\n",
            "Epoch 70/149\n",
            "30/30 [==============================] - 1s 20ms/step - loss: 180.4854 - mae: 180.9854 - lr: 2.8184e-05\n",
            "Epoch 71/149\n",
            "30/30 [==============================] - 1s 20ms/step - loss: 48.7180 - mae: 49.2152 - lr: 3.1623e-05\n",
            "Epoch 72/149\n",
            "30/30 [==============================] - 1s 19ms/step - loss: 11.6378 - mae: 12.1291 - lr: 3.5481e-05\n",
            "Epoch 73/149\n",
            "30/30 [==============================] - 1s 20ms/step - loss: 9.9923 - mae: 10.4819 - lr: 3.9811e-05\n",
            "Epoch 74/149\n",
            "30/30 [==============================] - 1s 19ms/step - loss: 9.8705 - mae: 10.3595 - lr: 4.4668e-05\n",
            "Epoch 75/149\n",
            "30/30 [==============================] - 1s 19ms/step - loss: 9.8710 - mae: 10.3601 - lr: 5.0119e-05\n",
            "Epoch 76/149\n",
            "30/30 [==============================] - 1s 20ms/step - loss: 9.8722 - mae: 10.3608 - lr: 5.6234e-05\n",
            "Epoch 77/149\n",
            "30/30 [==============================] - 1s 19ms/step - loss: 9.8291 - mae: 10.3179 - lr: 6.3096e-05\n",
            "Epoch 78/149\n",
            "30/30 [==============================] - 1s 20ms/step - loss: 9.7945 - mae: 10.2835 - lr: 7.0795e-05\n",
            "Epoch 79/149\n",
            "30/30 [==============================] - 1s 20ms/step - loss: 9.7474 - mae: 10.2361 - lr: 7.9433e-05\n",
            "Epoch 80/149\n",
            "30/30 [==============================] - 1s 18ms/step - loss: 9.7162 - mae: 10.2051 - lr: 8.9125e-05\n",
            "Epoch 81/149\n",
            "30/30 [==============================] - 1s 19ms/step - loss: 9.7153 - mae: 10.2039 - lr: 1.0000e-04\n",
            "Epoch 82/149\n",
            "30/30 [==============================] - 1s 20ms/step - loss: 9.6387 - mae: 10.1276 - lr: 1.1220e-04\n",
            "Epoch 83/149\n",
            "30/30 [==============================] - 1s 21ms/step - loss: 9.6173 - mae: 10.1056 - lr: 1.2589e-04\n",
            "Epoch 84/149\n",
            "30/30 [==============================] - 1s 18ms/step - loss: 9.5607 - mae: 10.0492 - lr: 1.4125e-04\n",
            "Epoch 85/149\n",
            "30/30 [==============================] - 1s 19ms/step - loss: 9.5037 - mae: 9.9920 - lr: 1.5849e-04\n",
            "Epoch 86/149\n",
            "30/30 [==============================] - 1s 18ms/step - loss: 9.4264 - mae: 9.9148 - lr: 1.7783e-04\n",
            "Epoch 87/149\n",
            "30/30 [==============================] - 1s 19ms/step - loss: 9.3746 - mae: 9.8627 - lr: 1.9953e-04\n",
            "Epoch 88/149\n",
            "30/30 [==============================] - 1s 20ms/step - loss: 9.2829 - mae: 9.7710 - lr: 2.2387e-04\n",
            "Epoch 89/149\n",
            "30/30 [==============================] - 1s 19ms/step - loss: 9.2077 - mae: 9.6960 - lr: 2.5119e-04\n",
            "Epoch 90/149\n",
            "30/30 [==============================] - 1s 18ms/step - loss: 9.1276 - mae: 9.6159 - lr: 2.8184e-04\n",
            "Epoch 91/149\n",
            "30/30 [==============================] - 1s 19ms/step - loss: 9.0225 - mae: 9.5100 - lr: 3.1623e-04\n",
            "Epoch 92/149\n",
            "30/30 [==============================] - 1s 20ms/step - loss: 9.0462 - mae: 9.5343 - lr: 3.5481e-04\n",
            "Epoch 93/149\n",
            "30/30 [==============================] - 1s 21ms/step - loss: 8.9407 - mae: 9.4287 - lr: 3.9811e-04\n",
            "Epoch 94/149\n",
            "30/30 [==============================] - 1s 18ms/step - loss: 8.7462 - mae: 9.2338 - lr: 4.4668e-04\n",
            "Epoch 95/149\n",
            "30/30 [==============================] - 1s 19ms/step - loss: 8.7242 - mae: 9.2115 - lr: 5.0119e-04\n",
            "Epoch 96/149\n",
            "30/30 [==============================] - 1s 19ms/step - loss: 8.5864 - mae: 9.0735 - lr: 5.6234e-04\n",
            "Epoch 97/149\n",
            "30/30 [==============================] - 1s 18ms/step - loss: 8.4259 - mae: 8.9129 - lr: 6.3096e-04\n",
            "Epoch 98/149\n",
            "30/30 [==============================] - 1s 20ms/step - loss: 8.5164 - mae: 9.0038 - lr: 7.0795e-04\n",
            "Epoch 99/149\n",
            "30/30 [==============================] - 1s 19ms/step - loss: 8.3876 - mae: 8.8748 - lr: 7.9433e-04\n",
            "Epoch 100/149\n",
            "30/30 [==============================] - 1s 18ms/step - loss: 8.5201 - mae: 9.0083 - lr: 8.9125e-04\n",
            "Epoch 101/149\n",
            "30/30 [==============================] - 1s 20ms/step - loss: 8.7904 - mae: 9.2791 - lr: 0.0010\n",
            "Epoch 102/149\n",
            "30/30 [==============================] - 1s 19ms/step - loss: 8.4734 - mae: 8.9611 - lr: 0.0011\n",
            "Epoch 103/149\n",
            "30/30 [==============================] - 1s 19ms/step - loss: 9.8766 - mae: 10.3666 - lr: 0.0013\n",
            "Epoch 104/149\n",
            "30/30 [==============================] - 1s 19ms/step - loss: 8.9952 - mae: 9.4838 - lr: 0.0014\n",
            "Epoch 105/149\n",
            "30/30 [==============================] - 1s 19ms/step - loss: 9.0329 - mae: 9.5217 - lr: 0.0016\n",
            "Epoch 106/149\n",
            "30/30 [==============================] - 1s 20ms/step - loss: 12.1094 - mae: 12.6004 - lr: 0.0018\n",
            "Epoch 107/149\n",
            "30/30 [==============================] - 1s 19ms/step - loss: 20.8970 - mae: 21.3923 - lr: 0.0020\n",
            "Epoch 108/149\n",
            "30/30 [==============================] - 1s 20ms/step - loss: 11.8277 - mae: 12.3190 - lr: 0.0022\n",
            "Epoch 109/149\n",
            "30/30 [==============================] - 1s 20ms/step - loss: 13.7971 - mae: 14.2901 - lr: 0.0025\n",
            "Epoch 110/149\n",
            "30/30 [==============================] - 1s 20ms/step - loss: 44.9256 - mae: 45.4227 - lr: 0.0028\n",
            "Epoch 111/149\n",
            "30/30 [==============================] - 1s 20ms/step - loss: 19.8720 - mae: 20.3658 - lr: 0.0032\n",
            "Epoch 112/149\n",
            "30/30 [==============================] - 1s 19ms/step - loss: 39.0317 - mae: 39.5300 - lr: 0.0035\n",
            "Epoch 113/149\n",
            "30/30 [==============================] - 1s 19ms/step - loss: 68.3379 - mae: 68.8357 - lr: 0.0040\n",
            "Epoch 114/149\n",
            "30/30 [==============================] - 1s 19ms/step - loss: 106.8319 - mae: 107.3304 - lr: 0.0045\n",
            "Epoch 115/149\n",
            "30/30 [==============================] - 1s 19ms/step - loss: 48.6631 - mae: 49.1620 - lr: 0.0050\n",
            "Epoch 116/149\n",
            "30/30 [==============================] - 1s 20ms/step - loss: 55.4899 - mae: 55.9899 - lr: 0.0056\n",
            "Epoch 117/149\n",
            "30/30 [==============================] - 1s 20ms/step - loss: 57.4234 - mae: 57.9232 - lr: 0.0063\n",
            "Epoch 118/149\n",
            "30/30 [==============================] - 1s 19ms/step - loss: 61.3025 - mae: 61.8022 - lr: 0.0071\n",
            "Epoch 119/149\n",
            "30/30 [==============================] - 1s 18ms/step - loss: 118.8353 - mae: 119.3343 - lr: 0.0079\n",
            "Epoch 120/149\n",
            "30/30 [==============================] - 1s 19ms/step - loss: 139.2603 - mae: 139.7597 - lr: 0.0089\n",
            "Epoch 121/149\n",
            "30/30 [==============================] - 1s 21ms/step - loss: 87.4053 - mae: 87.9034 - lr: 0.0100\n",
            "Epoch 122/149\n",
            "30/30 [==============================] - 1s 21ms/step - loss: 61.8396 - mae: 62.3395 - lr: 0.0112\n",
            "Epoch 123/149\n",
            "30/30 [==============================] - 1s 19ms/step - loss: 64.0627 - mae: 64.5627 - lr: 0.0126\n",
            "Epoch 124/149\n",
            "30/30 [==============================] - 1s 20ms/step - loss: 62.5757 - mae: 63.0752 - lr: 0.0141\n",
            "Epoch 125/149\n",
            "30/30 [==============================] - 1s 19ms/step - loss: 116.3806 - mae: 116.8799 - lr: 0.0158\n",
            "Epoch 126/149\n",
            "30/30 [==============================] - 1s 19ms/step - loss: 100.4758 - mae: 100.9752 - lr: 0.0178\n",
            "Epoch 127/149\n",
            "30/30 [==============================] - 1s 20ms/step - loss: 87.1426 - mae: 87.6422 - lr: 0.0200\n",
            "Epoch 128/149\n",
            "30/30 [==============================] - 1s 20ms/step - loss: 99.7432 - mae: 100.2416 - lr: 0.0224\n",
            "Epoch 129/149\n",
            "30/30 [==============================] - 1s 19ms/step - loss: 34.8190 - mae: 35.3182 - lr: 0.0251\n",
            "Epoch 130/149\n",
            "30/30 [==============================] - 1s 21ms/step - loss: 42.1313 - mae: 42.6288 - lr: 0.0282\n",
            "Epoch 131/149\n",
            "30/30 [==============================] - 1s 20ms/step - loss: 12.6191 - mae: 13.1109 - lr: 0.0316\n",
            "Epoch 132/149\n",
            "30/30 [==============================] - 1s 19ms/step - loss: 14.9525 - mae: 15.4457 - lr: 0.0355\n",
            "Epoch 133/149\n",
            "30/30 [==============================] - 1s 19ms/step - loss: 10.7584 - mae: 11.2485 - lr: 0.0398\n",
            "Epoch 134/149\n",
            "30/30 [==============================] - 1s 19ms/step - loss: 14.0936 - mae: 14.5871 - lr: 0.0447\n",
            "Epoch 135/149\n",
            "30/30 [==============================] - 1s 20ms/step - loss: 14.7857 - mae: 15.2785 - lr: 0.0501\n",
            "Epoch 136/149\n",
            "30/30 [==============================] - 1s 19ms/step - loss: 28.5942 - mae: 29.0911 - lr: 0.0562\n",
            "Epoch 137/149\n",
            "30/30 [==============================] - 1s 20ms/step - loss: 17.3563 - mae: 17.8518 - lr: 0.0631\n",
            "Epoch 138/149\n",
            "30/30 [==============================] - 1s 20ms/step - loss: 10.6946 - mae: 11.1850 - lr: 0.0708\n",
            "Epoch 139/149\n",
            "30/30 [==============================] - 1s 20ms/step - loss: 9.6133 - mae: 10.1028 - lr: 0.0794\n",
            "Epoch 140/149\n",
            "30/30 [==============================] - 1s 18ms/step - loss: 9.1427 - mae: 9.6318 - lr: 0.0891\n",
            "Epoch 141/149\n",
            "30/30 [==============================] - 1s 19ms/step - loss: 8.2620 - mae: 8.7501 - lr: 0.1000\n",
            "Epoch 142/149\n",
            "30/30 [==============================] - 1s 19ms/step - loss: 8.5477 - mae: 9.0360 - lr: 0.1122\n",
            "Epoch 143/149\n",
            "30/30 [==============================] - 1s 19ms/step - loss: 9.0316 - mae: 9.5204 - lr: 0.1259\n",
            "Epoch 144/149\n",
            "30/30 [==============================] - 1s 20ms/step - loss: 8.2865 - mae: 8.7747 - lr: 0.1413\n",
            "Epoch 145/149\n",
            "30/30 [==============================] - 1s 21ms/step - loss: 8.2288 - mae: 8.7164 - lr: 0.1585\n",
            "Epoch 146/149\n",
            "30/30 [==============================] - 1s 19ms/step - loss: 8.1665 - mae: 8.6545 - lr: 0.1778\n",
            "Epoch 147/149\n",
            "30/30 [==============================] - 1s 19ms/step - loss: 8.1189 - mae: 8.6068 - lr: 0.1995\n",
            "Epoch 148/149\n",
            "30/30 [==============================] - 1s 18ms/step - loss: 8.1030 - mae: 8.5903 - lr: 0.2239\n",
            "Epoch 149/149\n",
            "30/30 [==============================] - 1s 19ms/step - loss: 8.2347 - mae: 8.7229 - lr: 0.2512\n"
          ],
          "name": "stdout"
        }
      ]
    },
    {
      "cell_type": "code",
      "metadata": {
        "id": "nL-YtXOCH2C3",
        "colab_type": "code",
        "colab": {}
      },
      "source": [
        "predictions = []\n",
        "for time in range(len(X) - window_size):\n",
        "  predictions.append(model.predict(X[time:time + window_size,np.newaxis]))\n",
        "\n",
        "predictions = predictions[split_time-window_size:]\n",
        "results = np.array(predictions)[:, 0, 0]\n",
        "print(results)\n",
        "\n",
        "plt.figure(figsize=(10, 6))\n",
        "\n",
        "plot_series(time_valid, x_test)\n",
        "plot_series(time_valid, results)\n"
      ],
      "execution_count": null,
      "outputs": []
    },
    {
      "cell_type": "code",
      "metadata": {
        "id": "vRDxigUTyKTs",
        "colab_type": "code",
        "colab": {
          "base_uri": "https://localhost:8080/",
          "height": 864
        },
        "outputId": "7e893c53-6e09-4381-e1a9-7384bdb05c7a"
      },
      "source": [
        "RSI_predictions = []\n",
        "for time in range(len(Y) - window_size):\n",
        "  RSI_predictions.append(model.predict(Y[time:time + window_size,np.newaxis]))\n",
        "\n",
        "RSI_predictions = RSI_predictions[split_times-window_size:]\n",
        "RSI_results = np.array(RSI_predictions)[:, 0, 0]\n",
        "print(RSI_results)\n",
        "\n",
        "plt.figure(figsize=(10, 6))\n",
        "\n",
        "plot_series(time_valids, x_tests)\n",
        "plot_series(time_valids, RSI_results)\n"
      ],
      "execution_count": 20,
      "outputs": [
        {
          "output_type": "stream",
          "text": [
            "[[54.26724 ]\n",
            " [49.498444]\n",
            " [48.667137]\n",
            " [49.97589 ]\n",
            " [54.182983]\n",
            " [52.621468]\n",
            " [50.666767]\n",
            " [48.335735]\n",
            " [51.98114 ]\n",
            " [55.592834]\n",
            " [52.964104]\n",
            " [56.873505]\n",
            " [55.935467]\n",
            " [58.87875 ]\n",
            " [62.49045 ]\n",
            " [65.1585  ]\n",
            " [64.051956]\n",
            " [65.461815]\n",
            " [64.75968 ]\n",
            " [61.92875 ]\n",
            " [58.648457]\n",
            " [55.97478 ]\n",
            " [55.30076 ]\n",
            " [58.88437 ]\n",
            " [53.396606]\n",
            " [56.564568]\n",
            " [57.182426]\n",
            " [53.87405 ]]\n"
          ],
          "name": "stdout"
        },
        {
          "output_type": "display_data",
          "data": {
            "image/png": "[encoded data removed]",
            "text/plain": [
              "<Figure size 720x432 with 1 Axes>"
            ]
          },
          "metadata": {
            "tags": [],
            "needs_background": "light"
          }
        }
      ]
    },
    {
      "cell_type": "code",
      "metadata": {
        "id": "9bYpwzSdTa4Q",
        "colab_type": "code",
        "colab": {}
      },
      "source": [
        ""
      ],
      "execution_count": null,
      "outputs": []
    }
  ]
}