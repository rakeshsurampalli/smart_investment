{
  "nbformat": 4,
  "nbformat_minor": 0,
  "metadata": {
    "colab": {
      "name": "simpleRNN.ipynb",
      "provenance": [],
      "authorship_tag": "ABX9TyO7NXkd8rCzMSxLzUY75OkQ",
      "include_colab_link": true
    },
    "kernelspec": {
      "name": "python3",
      "display_name": "Python 3"
    }
  },
  "cells": [
    {
      "cell_type": "markdown",
      "metadata": {
        "id": "view-in-github",
        "colab_type": "text"
      },
      "source": [
        "<a href=\"https://colab.research.google.com/github/rakeshsurampalli/smart_investment/blob/master/simpleRNN.ipynb\" target=\"_parent\"><img src=\"https://colab.research.google.com/assets/colab-badge.svg\" alt=\"Open In Colab\"/></a>"
      ]
    },
    {
      "cell_type": "code",
      "metadata": {
        "id": "UJtN8A_Y9aS9",
        "colab_type": "code",
        "colab": {}
      },
      "source": [
        ""
      ],
      "execution_count": 0,
      "outputs": []
    },
    {
      "cell_type": "code",
      "metadata": {
        "id": "hgrPrkGr_kd6",
        "colab_type": "code",
        "colab": {}
      },
      "source": [
        "# Code to read csv file into colaboratory:\n",
        "!pip install -U -q PyDrive\n",
        "from pydrive.auth import GoogleAuth\n",
        "from pydrive.drive import GoogleDrive\n",
        "from google.colab import auth\n",
        "from oauth2client.client import GoogleCredentials\n",
        "\n",
        "\n",
        "\n",
        "#3. Read file as panda dataframe\n"
      ],
      "execution_count": 0,
      "outputs": []
    },
    {
      "cell_type": "code",
      "metadata": {
        "id": "0vpSUd5mAXTg",
        "colab_type": "code",
        "colab": {}
      },
      "source": [
        "\n",
        "# 1. Authenticate and create the PyDrive client.\n",
        "auth.authenticate_user()\n",
        "gauth = GoogleAuth()\n",
        "gauth.credentials = GoogleCredentials.get_application_default()\n",
        "drive = GoogleDrive(gauth)\n"
      ],
      "execution_count": 0,
      "outputs": []
    },
    {
      "cell_type": "code",
      "metadata": {
        "id": "ciGfUE2yAXi1",
        "colab_type": "code",
        "colab": {}
      },
      "source": [
        "#2. Get the file\n",
        "downloaded = drive.CreateFile({'id':'1uXnme3jK0iwMN6tBujDWVU1Td2fj2k3T'}) # replace the id with id of file you want to access\n",
        "downloaded.GetContentFile('RELIANCE20.csv')  "
      ],
      "execution_count": 0,
      "outputs": []
    },
    {
      "cell_type": "code",
      "metadata": {
        "id": "opx5cmSp_ki8",
        "colab_type": "code",
        "colab": {}
      },
      "source": [
        "import pandas as pd\n",
        "sales = pd.read_csv('RELIANCE20.csv') "
      ],
      "execution_count": 0,
      "outputs": []
    },
    {
      "cell_type": "code",
      "metadata": {
        "id": "7NLkHb5T_kn1",
        "colab_type": "code",
        "outputId": "08552514-3bda-4b48-852d-f5929229ac51",
        "colab": {
          "base_uri": "https://localhost:8080/",
          "height": 204
        }
      },
      "source": [
        "sales.head()"
      ],
      "execution_count": 5,
      "outputs": [
        {
          "output_type": "execute_result",
          "data": {
            "text/html": [
              "<div>\n",
              "<style scoped>\n",
              "    .dataframe tbody tr th:only-of-type {\n",
              "        vertical-align: middle;\n",
              "    }\n",
              "\n",
              "    .dataframe tbody tr th {\n",
              "        vertical-align: top;\n",
              "    }\n",
              "\n",
              "    .dataframe thead th {\n",
              "        text-align: right;\n",
              "    }\n",
              "</style>\n",
              "<table border=\"1\" class=\"dataframe\">\n",
              "  <thead>\n",
              "    <tr style=\"text-align: right;\">\n",
              "      <th></th>\n",
              "      <th>Date</th>\n",
              "      <th>Open</th>\n",
              "      <th>High</th>\n",
              "      <th>Low</th>\n",
              "      <th>Close</th>\n",
              "      <th>Adj Close</th>\n",
              "      <th>Volume</th>\n",
              "    </tr>\n",
              "  </thead>\n",
              "  <tbody>\n",
              "    <tr>\n",
              "      <th>0</th>\n",
              "      <td>1996-01-01</td>\n",
              "      <td>16.009800</td>\n",
              "      <td>16.095699</td>\n",
              "      <td>15.904300</td>\n",
              "      <td>16.0683</td>\n",
              "      <td>2.412877</td>\n",
              "      <td>47600787.0</td>\n",
              "    </tr>\n",
              "    <tr>\n",
              "      <th>1</th>\n",
              "      <td>1996-01-02</td>\n",
              "      <td>16.029301</td>\n",
              "      <td>16.107401</td>\n",
              "      <td>15.826200</td>\n",
              "      <td>15.9434</td>\n",
              "      <td>2.394122</td>\n",
              "      <td>77143764.0</td>\n",
              "    </tr>\n",
              "    <tr>\n",
              "      <th>2</th>\n",
              "      <td>1996-01-03</td>\n",
              "      <td>16.205000</td>\n",
              "      <td>16.943001</td>\n",
              "      <td>16.029301</td>\n",
              "      <td>16.0644</td>\n",
              "      <td>2.412292</td>\n",
              "      <td>95695836.0</td>\n",
              "    </tr>\n",
              "    <tr>\n",
              "      <th>3</th>\n",
              "      <td>1996-01-04</td>\n",
              "      <td>15.912100</td>\n",
              "      <td>15.962900</td>\n",
              "      <td>15.701300</td>\n",
              "      <td>15.9160</td>\n",
              "      <td>2.390007</td>\n",
              "      <td>99159504.0</td>\n",
              "    </tr>\n",
              "    <tr>\n",
              "      <th>4</th>\n",
              "      <td>1996-01-05</td>\n",
              "      <td>15.853600</td>\n",
              "      <td>15.853600</td>\n",
              "      <td>15.670000</td>\n",
              "      <td>15.8067</td>\n",
              "      <td>2.373594</td>\n",
              "      <td>76213503.0</td>\n",
              "    </tr>\n",
              "  </tbody>\n",
              "</table>\n",
              "</div>"
            ],
            "text/plain": [
              "         Date       Open       High        Low    Close  Adj Close      Volume\n",
              "0  1996-01-01  16.009800  16.095699  15.904300  16.0683   2.412877  47600787.0\n",
              "1  1996-01-02  16.029301  16.107401  15.826200  15.9434   2.394122  77143764.0\n",
              "2  1996-01-03  16.205000  16.943001  16.029301  16.0644   2.412292  95695836.0\n",
              "3  1996-01-04  15.912100  15.962900  15.701300  15.9160   2.390007  99159504.0\n",
              "4  1996-01-05  15.853600  15.853600  15.670000  15.8067   2.373594  76213503.0"
            ]
          },
          "metadata": {
            "tags": []
          },
          "execution_count": 5
        }
      ]
    },
    {
      "cell_type": "code",
      "metadata": {
        "id": "YiP6GSxx_kte",
        "colab_type": "code",
        "colab": {}
      },
      "source": [
        ""
      ],
      "execution_count": 0,
      "outputs": []
    },
    {
      "cell_type": "code",
      "metadata": {
        "id": "lhNo8EHFDO0i",
        "colab_type": "code",
        "colab": {}
      },
      "source": [
        "try:\n",
        "  # %tensorflow_version only exists in Colab.\n",
        "  %tensorflow_version 2.x\n",
        "except Exception:\n",
        "  pass\n"
      ],
      "execution_count": 0,
      "outputs": []
    },
    {
      "cell_type": "code",
      "metadata": {
        "id": "jLSMbyHCbkVN",
        "colab_type": "code",
        "colab": {}
      },
      "source": [
        ""
      ],
      "execution_count": 0,
      "outputs": []
    },
    {
      "cell_type": "code",
      "metadata": {
        "id": "HXjgIS0TAjrE",
        "colab_type": "code",
        "outputId": "9043bebc-b80f-433f-ae0a-d40c38babf88",
        "colab": {
          "base_uri": "https://localhost:8080/",
          "height": 34
        }
      },
      "source": [
        "import tensorflow as tf\n",
        "from tensorflow import keras\n",
        "import matplotlib.pyplot as plt\n",
        "print(tf.__version__)"
      ],
      "execution_count": 7,
      "outputs": [
        {
          "output_type": "stream",
          "text": [
            "2.2.0\n"
          ],
          "name": "stdout"
        }
      ]
    },
    {
      "cell_type": "code",
      "metadata": {
        "id": "Yf-Iq3t3Am33",
        "colab_type": "code",
        "colab": {}
      },
      "source": [
        "import pandas as pd\n",
        "import numpy as np\n",
        "from google.colab import files\n",
        "from pandas import datetime\n",
        "import matplotlib.pyplot as plt\n"
      ],
      "execution_count": 0,
      "outputs": []
    },
    {
      "cell_type": "code",
      "metadata": {
        "id": "d135lTR9Iw8P",
        "colab_type": "code",
        "colab": {}
      },
      "source": [
        "import numpy as np\n",
        "import matplotlib.pyplot as plt\n",
        "def plot_series(time, series, format=\"-\", start=0, end=None):\n",
        "    plt.plot(time[start:end], series[start:end], format)\n",
        "    plt.xlabel(\"Time\")\n",
        "    plt.ylabel(\"Value\")\n",
        "    plt.grid(True)"
      ],
      "execution_count": 0,
      "outputs": []
    },
    {
      "cell_type": "code",
      "metadata": {
        "id": "k1uTTbLABBvW",
        "colab_type": "code",
        "outputId": "29529b0a-4284-490e-82b6-eb19ee5a4702",
        "colab": {
          "resources": {
            "http://localhost:8080/nbextensions/google.colab/files.js": {
              "data": "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",
              "ok": true,
              "headers": [
                [
                  "content-type",
                  "application/javascript"
                ]
              ],
              "status": 200,
              "status_text": ""
            }
          },
          "base_uri": "https://localhost:8080/",
          "height": 399
        }
      },
      "source": [
        "uploaded = files.upload()\n",
        "for fn in uploaded.keys():\n",
        "  print('User uploaded file \"{name}\" with length {length} bytes'.format(\n",
        "      name=fn, length=len(uploaded[fn])))"
      ],
      "execution_count": 0,
      "outputs": [
        {
          "output_type": "display_data",
          "data": {
            "text/html": [
              "\n",
              "     <input type=\"file\" id=\"files-5e759e09-c8b0-45ac-b76f-b074c840e9af\" name=\"files[]\" multiple disabled />\n",
              "     <output id=\"result-5e759e09-c8b0-45ac-b76f-b074c840e9af\">\n",
              "      Upload widget is only available when the cell has been executed in the\n",
              "      current browser session. Please rerun this cell to enable.\n",
              "      </output>\n",
              "      <script src=\"/nbextensions/google.colab/files.js\"></script> "
            ],
            "text/plain": [
              "<IPython.core.display.HTML object>"
            ]
          },
          "metadata": {
            "tags": []
          }
        },
        {
          "output_type": "error",
          "ename": "MessageError",
          "evalue": "ignored",
          "traceback": [
            "\u001b[0;31m---------------------------------------------------------------------------\u001b[0m",
            "\u001b[0;31mMessageError\u001b[0m                              Traceback (most recent call last)",
            "\u001b[0;32m<ipython-input-5-633487f4966c>\u001b[0m in \u001b[0;36m<module>\u001b[0;34m()\u001b[0m\n\u001b[0;32m----> 1\u001b[0;31m \u001b[0muploaded\u001b[0m \u001b[0;34m=\u001b[0m \u001b[0mfiles\u001b[0m\u001b[0;34m.\u001b[0m\u001b[0mupload\u001b[0m\u001b[0;34m(\u001b[0m\u001b[0;34m)\u001b[0m\u001b[0;34m\u001b[0m\u001b[0;34m\u001b[0m\u001b[0m\n\u001b[0m\u001b[1;32m      2\u001b[0m \u001b[0;32mfor\u001b[0m \u001b[0mfn\u001b[0m \u001b[0;32min\u001b[0m \u001b[0muploaded\u001b[0m\u001b[0;34m.\u001b[0m\u001b[0mkeys\u001b[0m\u001b[0;34m(\u001b[0m\u001b[0;34m)\u001b[0m\u001b[0;34m:\u001b[0m\u001b[0;34m\u001b[0m\u001b[0;34m\u001b[0m\u001b[0m\n\u001b[1;32m      3\u001b[0m   print('User uploaded file \"{name}\" with length {length} bytes'.format(\n\u001b[1;32m      4\u001b[0m       name=fn, length=len(uploaded[fn])))\n",
            "\u001b[0;32m/usr/local/lib/python3.6/dist-packages/google/colab/files.py\u001b[0m in \u001b[0;36mupload\u001b[0;34m()\u001b[0m\n\u001b[1;32m     70\u001b[0m     result = _output.eval_js(\n\u001b[1;32m     71\u001b[0m         'google.colab._files._uploadFilesContinue(\"{output_id}\")'.format(\n\u001b[0;32m---> 72\u001b[0;31m             output_id=output_id))\n\u001b[0m\u001b[1;32m     73\u001b[0m     \u001b[0;32mif\u001b[0m \u001b[0mresult\u001b[0m\u001b[0;34m[\u001b[0m\u001b[0;34m'action'\u001b[0m\u001b[0;34m]\u001b[0m \u001b[0;34m!=\u001b[0m \u001b[0;34m'append'\u001b[0m\u001b[0;34m:\u001b[0m\u001b[0;34m\u001b[0m\u001b[0;34m\u001b[0m\u001b[0m\n\u001b[1;32m     74\u001b[0m       \u001b[0;31m# JS side uses a generator of promises to process all of the files- some\u001b[0m\u001b[0;34m\u001b[0m\u001b[0;34m\u001b[0m\u001b[0;34m\u001b[0m\u001b[0m\n",
            "\u001b[0;32m/usr/local/lib/python3.6/dist-packages/google/colab/output/_js.py\u001b[0m in \u001b[0;36meval_js\u001b[0;34m(script, ignore_result)\u001b[0m\n\u001b[1;32m     37\u001b[0m   \u001b[0;32mif\u001b[0m \u001b[0mignore_result\u001b[0m\u001b[0;34m:\u001b[0m\u001b[0;34m\u001b[0m\u001b[0;34m\u001b[0m\u001b[0m\n\u001b[1;32m     38\u001b[0m     \u001b[0;32mreturn\u001b[0m\u001b[0;34m\u001b[0m\u001b[0;34m\u001b[0m\u001b[0m\n\u001b[0;32m---> 39\u001b[0;31m   \u001b[0;32mreturn\u001b[0m \u001b[0m_message\u001b[0m\u001b[0;34m.\u001b[0m\u001b[0mread_reply_from_input\u001b[0m\u001b[0;34m(\u001b[0m\u001b[0mrequest_id\u001b[0m\u001b[0;34m)\u001b[0m\u001b[0;34m\u001b[0m\u001b[0;34m\u001b[0m\u001b[0m\n\u001b[0m\u001b[1;32m     40\u001b[0m \u001b[0;34m\u001b[0m\u001b[0m\n\u001b[1;32m     41\u001b[0m \u001b[0;34m\u001b[0m\u001b[0m\n",
            "\u001b[0;32m/usr/local/lib/python3.6/dist-packages/google/colab/_message.py\u001b[0m in \u001b[0;36mread_reply_from_input\u001b[0;34m(message_id, timeout_sec)\u001b[0m\n\u001b[1;32m    104\u001b[0m         reply.get('colab_msg_id') == message_id):\n\u001b[1;32m    105\u001b[0m       \u001b[0;32mif\u001b[0m \u001b[0;34m'error'\u001b[0m \u001b[0;32min\u001b[0m \u001b[0mreply\u001b[0m\u001b[0;34m:\u001b[0m\u001b[0;34m\u001b[0m\u001b[0;34m\u001b[0m\u001b[0m\n\u001b[0;32m--> 106\u001b[0;31m         \u001b[0;32mraise\u001b[0m \u001b[0mMessageError\u001b[0m\u001b[0;34m(\u001b[0m\u001b[0mreply\u001b[0m\u001b[0;34m[\u001b[0m\u001b[0;34m'error'\u001b[0m\u001b[0;34m]\u001b[0m\u001b[0;34m)\u001b[0m\u001b[0;34m\u001b[0m\u001b[0;34m\u001b[0m\u001b[0m\n\u001b[0m\u001b[1;32m    107\u001b[0m       \u001b[0;32mreturn\u001b[0m \u001b[0mreply\u001b[0m\u001b[0;34m.\u001b[0m\u001b[0mget\u001b[0m\u001b[0;34m(\u001b[0m\u001b[0;34m'data'\u001b[0m\u001b[0;34m,\u001b[0m \u001b[0;32mNone\u001b[0m\u001b[0;34m)\u001b[0m\u001b[0;34m\u001b[0m\u001b[0;34m\u001b[0m\u001b[0m\n\u001b[1;32m    108\u001b[0m \u001b[0;34m\u001b[0m\u001b[0m\n",
            "\u001b[0;31mMessageError\u001b[0m: RangeError: Maximum call stack size exceeded."
          ]
        }
      ]
    },
    {
      "cell_type": "code",
      "metadata": {
        "id": "iOLRGlHR_j0j",
        "colab_type": "code",
        "colab": {}
      },
      "source": [
        ""
      ],
      "execution_count": 0,
      "outputs": []
    },
    {
      "cell_type": "code",
      "metadata": {
        "id": "3afab7wcBL0_",
        "colab_type": "code",
        "outputId": "06f170b1-2341-40ec-f88a-7f63160fdade",
        "colab": {
          "base_uri": "https://localhost:8080/",
          "height": 198
        }
      },
      "source": [
        "import io\n",
        "def parser(x):\n",
        "  return datetime.strptime(x,'%d/%m/%y')\n",
        "\n",
        "sales = pd.read_csv(io.StringIO(uploaded['reliance1.csv'].decode('utf-8')),index_col=0,parse_dates=[0],date_parser=parser)"
      ],
      "execution_count": 96,
      "outputs": [
        {
          "output_type": "error",
          "ename": "NameError",
          "evalue": "ignored",
          "traceback": [
            "\u001b[0;31m---------------------------------------------------------------------------\u001b[0m",
            "\u001b[0;31mNameError\u001b[0m                                 Traceback (most recent call last)",
            "\u001b[0;32m<ipython-input-96-16dc586b3511>\u001b[0m in \u001b[0;36m<module>\u001b[0;34m()\u001b[0m\n\u001b[1;32m      3\u001b[0m   \u001b[0;32mreturn\u001b[0m \u001b[0mdatetime\u001b[0m\u001b[0;34m.\u001b[0m\u001b[0mstrptime\u001b[0m\u001b[0;34m(\u001b[0m\u001b[0mx\u001b[0m\u001b[0;34m,\u001b[0m\u001b[0;34m'%d/%m/%y'\u001b[0m\u001b[0;34m)\u001b[0m\u001b[0;34m\u001b[0m\u001b[0;34m\u001b[0m\u001b[0m\n\u001b[1;32m      4\u001b[0m \u001b[0;34m\u001b[0m\u001b[0m\n\u001b[0;32m----> 5\u001b[0;31m \u001b[0msales\u001b[0m \u001b[0;34m=\u001b[0m \u001b[0mpd\u001b[0m\u001b[0;34m.\u001b[0m\u001b[0mread_csv\u001b[0m\u001b[0;34m(\u001b[0m\u001b[0mio\u001b[0m\u001b[0;34m.\u001b[0m\u001b[0mStringIO\u001b[0m\u001b[0;34m(\u001b[0m\u001b[0muploaded\u001b[0m\u001b[0;34m[\u001b[0m\u001b[0;34m'reliance1.csv'\u001b[0m\u001b[0;34m]\u001b[0m\u001b[0;34m.\u001b[0m\u001b[0mdecode\u001b[0m\u001b[0;34m(\u001b[0m\u001b[0;34m'utf-8'\u001b[0m\u001b[0;34m)\u001b[0m\u001b[0;34m)\u001b[0m\u001b[0;34m,\u001b[0m\u001b[0mindex_col\u001b[0m\u001b[0;34m=\u001b[0m\u001b[0;36m0\u001b[0m\u001b[0;34m,\u001b[0m\u001b[0mparse_dates\u001b[0m\u001b[0;34m=\u001b[0m\u001b[0;34m[\u001b[0m\u001b[0;36m0\u001b[0m\u001b[0;34m]\u001b[0m\u001b[0;34m,\u001b[0m\u001b[0mdate_parser\u001b[0m\u001b[0;34m=\u001b[0m\u001b[0mparser\u001b[0m\u001b[0;34m)\u001b[0m\u001b[0;34m\u001b[0m\u001b[0;34m\u001b[0m\u001b[0m\n\u001b[0m",
            "\u001b[0;31mNameError\u001b[0m: name 'uploaded' is not defined"
          ]
        }
      ]
    },
    {
      "cell_type": "code",
      "metadata": {
        "id": "t20CqsNtChf9",
        "colab_type": "code",
        "outputId": "a01b9feb-0f0a-4617-fc16-55ee04e4938e",
        "colab": {
          "base_uri": "https://localhost:8080/",
          "height": 170
        }
      },
      "source": [
        "sales.head()\n",
        "print(\"checking if any null values are present\\n\", sales.isna().sum())"
      ],
      "execution_count": 10,
      "outputs": [
        {
          "output_type": "stream",
          "text": [
            "checking if any null values are present\n",
            " Date           0\n",
            "Open         126\n",
            "High         126\n",
            "Low          126\n",
            "Close        126\n",
            "Adj Close    126\n",
            "Volume       126\n",
            "dtype: int64\n"
          ],
          "name": "stdout"
        }
      ]
    },
    {
      "cell_type": "code",
      "metadata": {
        "id": "FeG9Crea-mYq",
        "colab_type": "code",
        "outputId": "1a30eb76-cef8-4639-c8bc-bdc6ba81c1f6",
        "colab": {
          "base_uri": "https://localhost:8080/",
          "height": 170
        }
      },
      "source": [
        "sales = sales.dropna()\n",
        "print(\"checking if any null values are present\\n\", sales.isna().sum())"
      ],
      "execution_count": 11,
      "outputs": [
        {
          "output_type": "stream",
          "text": [
            "checking if any null values are present\n",
            " Date         0\n",
            "Open         0\n",
            "High         0\n",
            "Low          0\n",
            "Close        0\n",
            "Adj Close    0\n",
            "Volume       0\n",
            "dtype: int64\n"
          ],
          "name": "stdout"
        }
      ]
    },
    {
      "cell_type": "code",
      "metadata": {
        "id": "KGpMj6QTwDEQ",
        "colab_type": "code",
        "outputId": "04a2cd6c-71bc-4880-ed48-24f556c2e0e0",
        "colab": {
          "base_uri": "https://localhost:8080/",
          "height": 630
        }
      },
      "source": [
        "from statsmodels.graphics.tsaplots import plot_acf\n",
        "plot_acf(sales)"
      ],
      "execution_count": 0,
      "outputs": [
        {
          "output_type": "stream",
          "text": [
            "/usr/local/lib/python3.6/dist-packages/statsmodels/tools/_testing.py:19: FutureWarning: pandas.util.testing is deprecated. Use the functions in the public API at pandas.testing instead.\n",
            "  import pandas.util.testing as tm\n"
          ],
          "name": "stderr"
        },
        {
          "output_type": "error",
          "ename": "ValueError",
          "evalue": "ignored",
          "traceback": [
            "\u001b[0;31m---------------------------------------------------------------------------\u001b[0m",
            "\u001b[0;31mValueError\u001b[0m                                Traceback (most recent call last)",
            "\u001b[0;32m<ipython-input-13-5a45d0f72155>\u001b[0m in \u001b[0;36m<module>\u001b[0;34m()\u001b[0m\n\u001b[1;32m      1\u001b[0m \u001b[0;32mfrom\u001b[0m \u001b[0mstatsmodels\u001b[0m\u001b[0;34m.\u001b[0m\u001b[0mgraphics\u001b[0m\u001b[0;34m.\u001b[0m\u001b[0mtsaplots\u001b[0m \u001b[0;32mimport\u001b[0m \u001b[0mplot_acf\u001b[0m\u001b[0;34m\u001b[0m\u001b[0;34m\u001b[0m\u001b[0m\n\u001b[0;32m----> 2\u001b[0;31m \u001b[0mplot_acf\u001b[0m\u001b[0;34m(\u001b[0m\u001b[0msales\u001b[0m\u001b[0;34m)\u001b[0m\u001b[0;34m\u001b[0m\u001b[0;34m\u001b[0m\u001b[0m\n\u001b[0m",
            "\u001b[0;32m/usr/local/lib/python3.6/dist-packages/statsmodels/graphics/tsaplots.py\u001b[0m in \u001b[0;36mplot_acf\u001b[0;34m(x, ax, lags, alpha, use_vlines, unbiased, fft, title, zero, vlines_kwargs, **kwargs)\u001b[0m\n\u001b[1;32m    151\u001b[0m     \u001b[0;32melse\u001b[0m\u001b[0;34m:\u001b[0m\u001b[0;34m\u001b[0m\u001b[0;34m\u001b[0m\u001b[0m\n\u001b[1;32m    152\u001b[0m         acf_x, confint = acf(x, nlags=nlags, alpha=alpha, fft=fft,\n\u001b[0;32m--> 153\u001b[0;31m                              unbiased=unbiased)\n\u001b[0m\u001b[1;32m    154\u001b[0m \u001b[0;34m\u001b[0m\u001b[0m\n\u001b[1;32m    155\u001b[0m     _plot_corr(ax, title, acf_x, confint, lags, irregular, use_vlines,\n",
            "\u001b[0;32m/usr/local/lib/python3.6/dist-packages/statsmodels/tsa/stattools.py\u001b[0m in \u001b[0;36macf\u001b[0;34m(x, unbiased, nlags, qstat, fft, alpha, missing)\u001b[0m\n\u001b[1;32m    543\u001b[0m \u001b[0;34m\u001b[0m\u001b[0m\n\u001b[1;32m    544\u001b[0m     \u001b[0mnobs\u001b[0m \u001b[0;34m=\u001b[0m \u001b[0mlen\u001b[0m\u001b[0;34m(\u001b[0m\u001b[0mx\u001b[0m\u001b[0;34m)\u001b[0m  \u001b[0;31m# should this shrink for missing='drop' and NaNs in x?\u001b[0m\u001b[0;34m\u001b[0m\u001b[0;34m\u001b[0m\u001b[0m\n\u001b[0;32m--> 545\u001b[0;31m     \u001b[0mavf\u001b[0m \u001b[0;34m=\u001b[0m \u001b[0macovf\u001b[0m\u001b[0;34m(\u001b[0m\u001b[0mx\u001b[0m\u001b[0;34m,\u001b[0m \u001b[0munbiased\u001b[0m\u001b[0;34m=\u001b[0m\u001b[0munbiased\u001b[0m\u001b[0;34m,\u001b[0m \u001b[0mdemean\u001b[0m\u001b[0;34m=\u001b[0m\u001b[0;32mTrue\u001b[0m\u001b[0;34m,\u001b[0m \u001b[0mfft\u001b[0m\u001b[0;34m=\u001b[0m\u001b[0mfft\u001b[0m\u001b[0;34m,\u001b[0m \u001b[0mmissing\u001b[0m\u001b[0;34m=\u001b[0m\u001b[0mmissing\u001b[0m\u001b[0;34m)\u001b[0m\u001b[0;34m\u001b[0m\u001b[0;34m\u001b[0m\u001b[0m\n\u001b[0m\u001b[1;32m    546\u001b[0m     \u001b[0macf\u001b[0m \u001b[0;34m=\u001b[0m \u001b[0mavf\u001b[0m\u001b[0;34m[\u001b[0m\u001b[0;34m:\u001b[0m\u001b[0mnlags\u001b[0m \u001b[0;34m+\u001b[0m \u001b[0;36m1\u001b[0m\u001b[0;34m]\u001b[0m \u001b[0;34m/\u001b[0m \u001b[0mavf\u001b[0m\u001b[0;34m[\u001b[0m\u001b[0;36m0\u001b[0m\u001b[0;34m]\u001b[0m\u001b[0;34m\u001b[0m\u001b[0;34m\u001b[0m\u001b[0m\n\u001b[1;32m    547\u001b[0m     \u001b[0;32mif\u001b[0m \u001b[0;32mnot\u001b[0m \u001b[0;34m(\u001b[0m\u001b[0mqstat\u001b[0m \u001b[0;32mor\u001b[0m \u001b[0malpha\u001b[0m\u001b[0;34m)\u001b[0m\u001b[0;34m:\u001b[0m\u001b[0;34m\u001b[0m\u001b[0;34m\u001b[0m\u001b[0m\n",
            "\u001b[0;32m/usr/local/lib/python3.6/dist-packages/statsmodels/tsa/stattools.py\u001b[0m in \u001b[0;36macovf\u001b[0;34m(x, unbiased, demean, fft, missing, nlag)\u001b[0m\n\u001b[1;32m    357\u001b[0m     \u001b[0mx\u001b[0m \u001b[0;34m=\u001b[0m \u001b[0mnp\u001b[0m\u001b[0;34m.\u001b[0m\u001b[0msqueeze\u001b[0m\u001b[0;34m(\u001b[0m\u001b[0mnp\u001b[0m\u001b[0;34m.\u001b[0m\u001b[0masarray\u001b[0m\u001b[0;34m(\u001b[0m\u001b[0mx\u001b[0m\u001b[0;34m)\u001b[0m\u001b[0;34m)\u001b[0m\u001b[0;34m\u001b[0m\u001b[0;34m\u001b[0m\u001b[0m\n\u001b[1;32m    358\u001b[0m     \u001b[0;32mif\u001b[0m \u001b[0mx\u001b[0m\u001b[0;34m.\u001b[0m\u001b[0mndim\u001b[0m \u001b[0;34m>\u001b[0m \u001b[0;36m1\u001b[0m\u001b[0;34m:\u001b[0m\u001b[0;34m\u001b[0m\u001b[0;34m\u001b[0m\u001b[0m\n\u001b[0;32m--> 359\u001b[0;31m         \u001b[0;32mraise\u001b[0m \u001b[0mValueError\u001b[0m\u001b[0;34m(\u001b[0m\u001b[0;34m\"x must be 1d. Got %d dims.\"\u001b[0m \u001b[0;34m%\u001b[0m \u001b[0mx\u001b[0m\u001b[0;34m.\u001b[0m\u001b[0mndim\u001b[0m\u001b[0;34m)\u001b[0m\u001b[0;34m\u001b[0m\u001b[0;34m\u001b[0m\u001b[0m\n\u001b[0m\u001b[1;32m    360\u001b[0m \u001b[0;34m\u001b[0m\u001b[0m\n\u001b[1;32m    361\u001b[0m     \u001b[0mmissing\u001b[0m \u001b[0;34m=\u001b[0m \u001b[0mmissing\u001b[0m\u001b[0;34m.\u001b[0m\u001b[0mlower\u001b[0m\u001b[0;34m(\u001b[0m\u001b[0;34m)\u001b[0m\u001b[0;34m\u001b[0m\u001b[0;34m\u001b[0m\u001b[0m\n",
            "\u001b[0;31mValueError\u001b[0m: x must be 1d. Got 2 dims."
          ]
        },
        {
          "output_type": "display_data",
          "data": {
            "image/png": "[encoded data removed]",
            "text/plain": [
              "<Figure size 432x288 with 1 Axes>"
            ]
          },
          "metadata": {
            "tags": [],
            "needs_background": "light"
          }
        }
      ]
    },
    {
      "cell_type": "code",
      "metadata": {
        "id": "N5jKh1d_wDLT",
        "colab_type": "code",
        "colab": {}
      },
      "source": [
        "sales_diff = sales.Close.diff(periods=1)"
      ],
      "execution_count": 0,
      "outputs": []
    },
    {
      "cell_type": "code",
      "metadata": {
        "id": "z_GTboaGwDRB",
        "colab_type": "code",
        "outputId": "e9e4ca7f-fef5-4428-c7ab-0ebd5d4e2a8a",
        "colab": {
          "base_uri": "https://localhost:8080/",
          "height": 119
        }
      },
      "source": [
        "sales = sales_diff[1:]\n",
        "sales.head()"
      ],
      "execution_count": 13,
      "outputs": [
        {
          "output_type": "execute_result",
          "data": {
            "text/plain": [
              "1   -0.1249\n",
              "2    0.1210\n",
              "3   -0.1484\n",
              "4   -0.1093\n",
              "5   -0.6326\n",
              "Name: Close, dtype: float64"
            ]
          },
          "metadata": {
            "tags": []
          },
          "execution_count": 13
        }
      ]
    },
    {
      "cell_type": "code",
      "metadata": {
        "id": "0atKocNwwDWM",
        "colab_type": "code",
        "colab": {}
      },
      "source": [
        ""
      ],
      "execution_count": 0,
      "outputs": []
    },
    {
      "cell_type": "code",
      "metadata": {
        "id": "nJho0N5NwDbo",
        "colab_type": "code",
        "colab": {}
      },
      "source": [
        ""
      ],
      "execution_count": 0,
      "outputs": []
    },
    {
      "cell_type": "code",
      "metadata": {
        "id": "MwWZlIaBBUy4",
        "colab_type": "code",
        "outputId": "fc45ff28-81ff-40c1-bfa3-a9e4398b0449",
        "colab": {
          "base_uri": "https://localhost:8080/",
          "height": 221
        }
      },
      "source": [
        "X = sales\n",
        "time = np.arange(6026)\n",
        "\n",
        "print(X)\n",
        "X.size\n",
        "split_time = 6000\n",
        "time_train = time[:split_time]\n",
        "time_valid = time[split_time:]\n",
        "x_train = X[0:split_time]\n",
        "x_test = X[split_time:]\n"
      ],
      "execution_count": 14,
      "outputs": [
        {
          "output_type": "stream",
          "text": [
            "1       -0.124900\n",
            "2        0.121000\n",
            "3       -0.148400\n",
            "4       -0.109300\n",
            "5       -0.632600\n",
            "          ...    \n",
            "6148    -9.699951\n",
            "6149    -7.500000\n",
            "6150    21.500000\n",
            "6151    26.699951\n",
            "6152    -7.849976\n",
            "Name: Close, Length: 6026, dtype: float64\n"
          ],
          "name": "stdout"
        }
      ]
    },
    {
      "cell_type": "code",
      "metadata": {
        "id": "PI4Dk29fDZhO",
        "colab_type": "code",
        "colab": {}
      },
      "source": [
        "window_size = 20\n",
        "batch_size = 32\n",
        "shuffle_buffer_size = 1000\n",
        "def windowed_dataset(series, window_size, batch_size, shuffle_buffer):\n",
        "  dataset = tf.data.Dataset.from_tensor_slices(series)\n",
        "  dataset = dataset.window(window_size + 1, shift=1, drop_remainder=True)\n",
        "  dataset = dataset.flat_map(lambda window: window.batch(window_size + 1))\n",
        "  dataset = dataset.shuffle(shuffle_buffer).map(lambda window: (window[:-1], window[-1]))\n",
        "  dataset = dataset.batch(batch_size).prefetch(1)\n",
        "  return dataset"
      ],
      "execution_count": 0,
      "outputs": []
    },
    {
      "cell_type": "code",
      "metadata": {
        "id": "I2u95SqKBU-B",
        "colab_type": "code",
        "colab": {}
      },
      "source": [
        "tf.keras.backend.clear_session()\n",
        "tf.random.set_seed(51)\n",
        "np.random.seed(51)\n",
        "train_set = windowed_dataset(x_train,window_size,batch_size = 128,shuffle_buffer = shuffle_buffer_size)"
      ],
      "execution_count": 0,
      "outputs": []
    },
    {
      "cell_type": "code",
      "metadata": {
        "id": "tlHZfSkPAGr-",
        "colab_type": "code",
        "colab": {}
      },
      "source": [
        "model = keras.models.Sequential([\n",
        "                      keras.layers.Lambda(lambda x: tf.expand_dims(x,axis=-1)),\n",
        "                      keras.layers.SimpleRNN(20, return_sequences = True,\n",
        "                                               input_shape = [None,1]),\n",
        "                      keras.layers.SimpleRNN(20),\n",
        "                      keras.layers.Dense(1),\n",
        "                      keras.layers.Lambda(lambda x: x*100.0)\n",
        "])"
      ],
      "execution_count": 0,
      "outputs": []
    },
    {
      "cell_type": "code",
      "metadata": {
        "id": "4cn_5WZH6xWE",
        "colab_type": "code",
        "colab": {}
      },
      "source": [
        "lr_schedule = tf.keras.callbacks.LearningRateScheduler(lambda epoch: 1e-8 * 10**(epoch/20))"
      ],
      "execution_count": 0,
      "outputs": []
    },
    {
      "cell_type": "code",
      "metadata": {
        "id": "Btslyw9M_3vf",
        "colab_type": "code",
        "colab": {}
      },
      "source": [
        "optimizer = tf.keras.optimizers.SGD(lr=1e-8,momentum=0.9)"
      ],
      "execution_count": 0,
      "outputs": []
    },
    {
      "cell_type": "code",
      "metadata": {
        "id": "TIbgr2f3AHcK",
        "colab_type": "code",
        "colab": {}
      },
      "source": [
        "model.compile(loss=tf.keras.losses.Huber(),optimizer=optimizer,metrics=[\"mae\"])"
      ],
      "execution_count": 0,
      "outputs": []
    },
    {
      "cell_type": "code",
      "metadata": {
        "id": "O4gpCyU0AYO1",
        "colab_type": "code",
        "outputId": "19962945-a780-43b4-85c4-f7f66beb7410",
        "colab": {
          "base_uri": "https://localhost:8080/",
          "height": 1000
        }
      },
      "source": [
        "history = model.fit(train_set,epochs=100,callbacks=[lr_schedule])"
      ],
      "execution_count": 21,
      "outputs": [
        {
          "output_type": "stream",
          "text": [
            "Epoch 1/100\n",
            "WARNING:tensorflow:Layer lambda is casting an input tensor from dtype float64 to the layer's dtype of float32, which is new behavior in TensorFlow 2.  The layer has dtype float32 because it's dtype defaults to floatx.\n",
            "\n",
            "If you intended to run this layer in float32, you can safely ignore this warning. If in doubt, this warning is likely only an issue if you are porting a TensorFlow 1.X model to TensorFlow 2.\n",
            "\n",
            "To change all layers to have dtype float64 by default, call `tf.keras.backend.set_floatx('float64')`. To change just this layer, pass dtype='float64' to the layer constructor. If you are the author of this layer, you can disable autocasting by passing autocast=False to the base Layer constructor.\n",
            "\n",
            "47/47 [==============================] - 1s 15ms/step - loss: 49.7659 - mae: 50.2643 - lr: 1.0000e-08\n",
            "Epoch 2/100\n",
            "47/47 [==============================] - 1s 15ms/step - loss: 49.6483 - mae: 50.1469 - lr: 1.1220e-08\n",
            "Epoch 3/100\n",
            "47/47 [==============================] - 1s 14ms/step - loss: 49.5141 - mae: 50.0127 - lr: 1.2589e-08\n",
            "Epoch 4/100\n",
            "47/47 [==============================] - 1s 15ms/step - loss: 49.3636 - mae: 49.8622 - lr: 1.4125e-08\n",
            "Epoch 5/100\n",
            "47/47 [==============================] - 1s 15ms/step - loss: 49.1956 - mae: 49.6943 - lr: 1.5849e-08\n",
            "Epoch 6/100\n",
            "47/47 [==============================] - 1s 15ms/step - loss: 49.0077 - mae: 49.5063 - lr: 1.7783e-08\n",
            "Epoch 7/100\n",
            "47/47 [==============================] - 1s 15ms/step - loss: 48.7983 - mae: 49.2968 - lr: 1.9953e-08\n",
            "Epoch 8/100\n",
            "47/47 [==============================] - 1s 14ms/step - loss: 48.5636 - mae: 49.0621 - lr: 2.2387e-08\n",
            "Epoch 9/100\n",
            "47/47 [==============================] - 1s 15ms/step - loss: 48.3025 - mae: 48.8007 - lr: 2.5119e-08\n",
            "Epoch 10/100\n",
            "47/47 [==============================] - 1s 15ms/step - loss: 48.0113 - mae: 48.5097 - lr: 2.8184e-08\n",
            "Epoch 11/100\n",
            "47/47 [==============================] - 1s 15ms/step - loss: 47.6872 - mae: 48.1856 - lr: 3.1623e-08\n",
            "Epoch 12/100\n",
            "47/47 [==============================] - 1s 15ms/step - loss: 47.3289 - mae: 47.8270 - lr: 3.5481e-08\n",
            "Epoch 13/100\n",
            "47/47 [==============================] - 1s 15ms/step - loss: 46.9317 - mae: 47.4296 - lr: 3.9811e-08\n",
            "Epoch 14/100\n",
            "47/47 [==============================] - 1s 14ms/step - loss: 46.4930 - mae: 46.9913 - lr: 4.4668e-08\n",
            "Epoch 15/100\n",
            "47/47 [==============================] - 1s 14ms/step - loss: 46.0094 - mae: 46.5078 - lr: 5.0119e-08\n",
            "Epoch 16/100\n",
            "47/47 [==============================] - 1s 15ms/step - loss: 45.4738 - mae: 45.9726 - lr: 5.6234e-08\n",
            "Epoch 17/100\n",
            "47/47 [==============================] - 1s 16ms/step - loss: 44.8828 - mae: 45.3814 - lr: 6.3096e-08\n",
            "Epoch 18/100\n",
            "47/47 [==============================] - 1s 15ms/step - loss: 44.2355 - mae: 44.7338 - lr: 7.0795e-08\n",
            "Epoch 19/100\n",
            "47/47 [==============================] - 1s 16ms/step - loss: 43.5277 - mae: 44.0257 - lr: 7.9433e-08\n",
            "Epoch 20/100\n",
            "47/47 [==============================] - 1s 14ms/step - loss: 42.7604 - mae: 43.2584 - lr: 8.9125e-08\n",
            "Epoch 21/100\n",
            "47/47 [==============================] - 1s 14ms/step - loss: 41.9284 - mae: 42.4263 - lr: 1.0000e-07\n",
            "Epoch 22/100\n",
            "47/47 [==============================] - 1s 15ms/step - loss: 41.0326 - mae: 41.5301 - lr: 1.1220e-07\n",
            "Epoch 23/100\n",
            "47/47 [==============================] - 1s 15ms/step - loss: 40.0767 - mae: 40.5749 - lr: 1.2589e-07\n",
            "Epoch 24/100\n",
            "47/47 [==============================] - 1s 15ms/step - loss: 39.0551 - mae: 39.5527 - lr: 1.4125e-07\n",
            "Epoch 25/100\n",
            "47/47 [==============================] - 1s 15ms/step - loss: 37.9640 - mae: 38.4613 - lr: 1.5849e-07\n",
            "Epoch 26/100\n",
            "47/47 [==============================] - 1s 15ms/step - loss: 36.8337 - mae: 37.3310 - lr: 1.7783e-07\n",
            "Epoch 27/100\n",
            "47/47 [==============================] - 1s 15ms/step - loss: 35.6482 - mae: 36.1461 - lr: 1.9953e-07\n",
            "Epoch 28/100\n",
            "47/47 [==============================] - 1s 15ms/step - loss: 34.4298 - mae: 34.9271 - lr: 2.2387e-07\n",
            "Epoch 29/100\n",
            "47/47 [==============================] - 1s 15ms/step - loss: 33.1662 - mae: 33.6635 - lr: 2.5119e-07\n",
            "Epoch 30/100\n",
            "47/47 [==============================] - 1s 15ms/step - loss: 31.8817 - mae: 32.3782 - lr: 2.8184e-07\n",
            "Epoch 31/100\n",
            "47/47 [==============================] - 1s 16ms/step - loss: 30.5855 - mae: 31.0824 - lr: 3.1623e-07\n",
            "Epoch 32/100\n",
            "47/47 [==============================] - 1s 16ms/step - loss: 29.2926 - mae: 29.7895 - lr: 3.5481e-07\n",
            "Epoch 33/100\n",
            "47/47 [==============================] - 1s 15ms/step - loss: 27.9833 - mae: 28.4799 - lr: 3.9811e-07\n",
            "Epoch 34/100\n",
            "47/47 [==============================] - 1s 15ms/step - loss: 26.6835 - mae: 27.1797 - lr: 4.4668e-07\n",
            "Epoch 35/100\n",
            "47/47 [==============================] - 1s 15ms/step - loss: 25.4162 - mae: 25.9114 - lr: 5.0119e-07\n",
            "Epoch 36/100\n",
            "47/47 [==============================] - 1s 15ms/step - loss: 24.1932 - mae: 24.6888 - lr: 5.6234e-07\n",
            "Epoch 37/100\n",
            "47/47 [==============================] - 1s 15ms/step - loss: 22.9606 - mae: 23.4558 - lr: 6.3096e-07\n",
            "Epoch 38/100\n",
            "47/47 [==============================] - 1s 15ms/step - loss: 21.7888 - mae: 22.2842 - lr: 7.0795e-07\n",
            "Epoch 39/100\n",
            "47/47 [==============================] - 1s 15ms/step - loss: 20.6671 - mae: 21.1616 - lr: 7.9433e-07\n",
            "Epoch 40/100\n",
            "47/47 [==============================] - 1s 15ms/step - loss: 19.6079 - mae: 20.1024 - lr: 8.9125e-07\n",
            "Epoch 41/100\n",
            "47/47 [==============================] - 1s 16ms/step - loss: 18.6124 - mae: 19.1060 - lr: 1.0000e-06\n",
            "Epoch 42/100\n",
            "47/47 [==============================] - 1s 15ms/step - loss: 17.6787 - mae: 18.1727 - lr: 1.1220e-06\n",
            "Epoch 43/100\n",
            "47/47 [==============================] - 1s 14ms/step - loss: 16.7869 - mae: 17.2796 - lr: 1.2589e-06\n",
            "Epoch 44/100\n",
            "47/47 [==============================] - 1s 17ms/step - loss: 15.9447 - mae: 16.4377 - lr: 1.4125e-06\n",
            "Epoch 45/100\n",
            "47/47 [==============================] - 1s 15ms/step - loss: 15.1618 - mae: 15.6544 - lr: 1.5849e-06\n",
            "Epoch 46/100\n",
            "47/47 [==============================] - 1s 15ms/step - loss: 14.4807 - mae: 14.9728 - lr: 1.7783e-06\n",
            "Epoch 47/100\n",
            "47/47 [==============================] - 1s 16ms/step - loss: 13.8334 - mae: 14.3242 - lr: 1.9953e-06\n",
            "Epoch 48/100\n",
            "47/47 [==============================] - 1s 15ms/step - loss: 13.2481 - mae: 13.7401 - lr: 2.2387e-06\n",
            "Epoch 49/100\n",
            "47/47 [==============================] - 1s 15ms/step - loss: 12.6949 - mae: 13.1854 - lr: 2.5119e-06\n",
            "Epoch 50/100\n",
            "47/47 [==============================] - 1s 15ms/step - loss: 12.1785 - mae: 12.6687 - lr: 2.8184e-06\n",
            "Epoch 51/100\n",
            "47/47 [==============================] - 1s 15ms/step - loss: 11.6645 - mae: 12.1551 - lr: 3.1623e-06\n",
            "Epoch 52/100\n",
            "47/47 [==============================] - 1s 14ms/step - loss: 11.2254 - mae: 11.7159 - lr: 3.5481e-06\n",
            "Epoch 53/100\n",
            "47/47 [==============================] - 1s 15ms/step - loss: 10.7645 - mae: 11.2535 - lr: 3.9811e-06\n",
            "Epoch 54/100\n",
            "47/47 [==============================] - 1s 14ms/step - loss: 10.3384 - mae: 10.8267 - lr: 4.4668e-06\n",
            "Epoch 55/100\n",
            "47/47 [==============================] - 1s 16ms/step - loss: 9.9242 - mae: 10.4118 - lr: 5.0119e-06\n",
            "Epoch 56/100\n",
            "47/47 [==============================] - 1s 16ms/step - loss: 9.5721 - mae: 10.0604 - lr: 5.6234e-06\n",
            "Epoch 57/100\n",
            "47/47 [==============================] - 1s 15ms/step - loss: 9.1900 - mae: 9.6764 - lr: 6.3096e-06\n",
            "Epoch 58/100\n",
            "47/47 [==============================] - 1s 15ms/step - loss: 8.8586 - mae: 9.3450 - lr: 7.0795e-06\n",
            "Epoch 59/100\n",
            "47/47 [==============================] - 1s 16ms/step - loss: 8.5396 - mae: 9.0253 - lr: 7.9433e-06\n",
            "Epoch 60/100\n",
            "47/47 [==============================] - 1s 15ms/step - loss: 8.2528 - mae: 8.7373 - lr: 8.9125e-06\n",
            "Epoch 61/100\n",
            "47/47 [==============================] - 1s 15ms/step - loss: 7.9535 - mae: 8.4370 - lr: 1.0000e-05\n",
            "Epoch 62/100\n",
            "47/47 [==============================] - 1s 15ms/step - loss: 7.6990 - mae: 8.1812 - lr: 1.1220e-05\n",
            "Epoch 63/100\n",
            "47/47 [==============================] - 1s 15ms/step - loss: 7.4390 - mae: 7.9202 - lr: 1.2589e-05\n",
            "Epoch 64/100\n",
            "47/47 [==============================] - 1s 14ms/step - loss: 7.1773 - mae: 7.6586 - lr: 1.4125e-05\n",
            "Epoch 65/100\n",
            "47/47 [==============================] - 1s 14ms/step - loss: 6.9651 - mae: 7.4435 - lr: 1.5849e-05\n",
            "Epoch 66/100\n",
            "47/47 [==============================] - 1s 15ms/step - loss: 6.7731 - mae: 7.2507 - lr: 1.7783e-05\n",
            "Epoch 67/100\n",
            "47/47 [==============================] - 1s 14ms/step - loss: 6.6004 - mae: 7.0780 - lr: 1.9953e-05\n",
            "Epoch 68/100\n",
            "47/47 [==============================] - 1s 15ms/step - loss: 6.3786 - mae: 6.8535 - lr: 2.2387e-05\n",
            "Epoch 69/100\n",
            "47/47 [==============================] - 1s 16ms/step - loss: 6.2080 - mae: 6.6830 - lr: 2.5119e-05\n",
            "Epoch 70/100\n",
            "47/47 [==============================] - 1s 15ms/step - loss: 6.0448 - mae: 6.5165 - lr: 2.8184e-05\n",
            "Epoch 71/100\n",
            "47/47 [==============================] - 1s 15ms/step - loss: 5.9269 - mae: 6.3972 - lr: 3.1623e-05\n",
            "Epoch 72/100\n",
            "47/47 [==============================] - 1s 15ms/step - loss: 5.8008 - mae: 6.2691 - lr: 3.5481e-05\n",
            "Epoch 73/100\n",
            "47/47 [==============================] - 1s 15ms/step - loss: 5.6575 - mae: 6.1231 - lr: 3.9811e-05\n",
            "Epoch 74/100\n",
            "47/47 [==============================] - 1s 16ms/step - loss: 5.5425 - mae: 6.0013 - lr: 4.4668e-05\n",
            "Epoch 75/100\n",
            "47/47 [==============================] - 1s 15ms/step - loss: 5.4708 - mae: 5.9279 - lr: 5.0119e-05\n",
            "Epoch 76/100\n",
            "47/47 [==============================] - 1s 15ms/step - loss: 5.4215 - mae: 5.8766 - lr: 5.6234e-05\n",
            "Epoch 77/100\n",
            "47/47 [==============================] - 1s 15ms/step - loss: 5.3820 - mae: 5.8371 - lr: 6.3096e-05\n",
            "Epoch 78/100\n",
            "47/47 [==============================] - 1s 16ms/step - loss: 5.3513 - mae: 5.8031 - lr: 7.0795e-05\n",
            "Epoch 79/100\n",
            "47/47 [==============================] - 1s 16ms/step - loss: 5.3017 - mae: 5.7541 - lr: 7.9433e-05\n",
            "Epoch 80/100\n",
            "47/47 [==============================] - 1s 15ms/step - loss: 5.2434 - mae: 5.6856 - lr: 8.9125e-05\n",
            "Epoch 81/100\n",
            "47/47 [==============================] - 1s 16ms/step - loss: 5.2470 - mae: 5.6942 - lr: 1.0000e-04\n",
            "Epoch 82/100\n",
            "47/47 [==============================] - 1s 15ms/step - loss: 5.2909 - mae: 5.7439 - lr: 1.1220e-04\n",
            "Epoch 83/100\n",
            "47/47 [==============================] - 1s 15ms/step - loss: 5.2820 - mae: 5.7266 - lr: 1.2589e-04\n",
            "Epoch 84/100\n",
            "47/47 [==============================] - 1s 16ms/step - loss: 5.3059 - mae: 5.7542 - lr: 1.4125e-04\n",
            "Epoch 85/100\n",
            "47/47 [==============================] - 1s 14ms/step - loss: 5.2480 - mae: 5.6935 - lr: 1.5849e-04\n",
            "Epoch 86/100\n",
            "47/47 [==============================] - 1s 16ms/step - loss: 5.3052 - mae: 5.7522 - lr: 1.7783e-04\n",
            "Epoch 87/100\n",
            "47/47 [==============================] - 1s 16ms/step - loss: 5.4210 - mae: 5.8773 - lr: 1.9953e-04\n",
            "Epoch 88/100\n",
            "47/47 [==============================] - 1s 15ms/step - loss: 5.3846 - mae: 5.8399 - lr: 2.2387e-04\n",
            "Epoch 89/100\n",
            "47/47 [==============================] - 1s 16ms/step - loss: 5.4127 - mae: 5.8710 - lr: 2.5119e-04\n",
            "Epoch 90/100\n",
            "47/47 [==============================] - 1s 14ms/step - loss: 5.5517 - mae: 6.0028 - lr: 2.8184e-04\n",
            "Epoch 91/100\n",
            "47/47 [==============================] - 1s 14ms/step - loss: 5.3518 - mae: 5.8055 - lr: 3.1623e-04\n",
            "Epoch 92/100\n",
            "47/47 [==============================] - 1s 15ms/step - loss: 5.4477 - mae: 5.8971 - lr: 3.5481e-04\n",
            "Epoch 93/100\n",
            "47/47 [==============================] - 1s 14ms/step - loss: 5.6690 - mae: 6.1337 - lr: 3.9811e-04\n",
            "Epoch 94/100\n",
            "47/47 [==============================] - 1s 16ms/step - loss: 5.7121 - mae: 6.1826 - lr: 4.4668e-04\n",
            "Epoch 95/100\n",
            "47/47 [==============================] - 1s 15ms/step - loss: 5.8800 - mae: 6.3589 - lr: 5.0119e-04\n",
            "Epoch 96/100\n",
            "47/47 [==============================] - 1s 15ms/step - loss: 5.3815 - mae: 5.8400 - lr: 5.6234e-04\n",
            "Epoch 97/100\n",
            "47/47 [==============================] - 1s 15ms/step - loss: 6.2111 - mae: 6.6910 - lr: 6.3096e-04\n",
            "Epoch 98/100\n",
            "47/47 [==============================] - 1s 15ms/step - loss: 5.6346 - mae: 6.0984 - lr: 7.0795e-04\n",
            "Epoch 99/100\n",
            "47/47 [==============================] - 1s 15ms/step - loss: 5.6152 - mae: 6.0815 - lr: 7.9433e-04\n",
            "Epoch 100/100\n",
            "47/47 [==============================] - 1s 16ms/step - loss: 6.5603 - mae: 7.0407 - lr: 8.9125e-04\n"
          ],
          "name": "stdout"
        }
      ]
    },
    {
      "cell_type": "code",
      "metadata": {
        "id": "nL-YtXOCH2C3",
        "colab_type": "code",
        "outputId": "5e5ce61e-281b-47e5-b687-7ca852edaf76",
        "colab": {
          "base_uri": "https://localhost:8080/",
          "height": 473
        }
      },
      "source": [
        "predictions = []\n",
        "for time in range(len(X) - window_size):\n",
        "  predictions.append(model.predict(X[time:time + window_size,np.newaxis]))\n",
        "\n",
        "predictions = predictions[split_time-window_size:]\n",
        "results = np.array(predictions)[:, 0, 0]\n",
        "print(results)\n",
        "\n",
        "plt.figure(figsize=(10, 6))\n",
        "\n",
        "plot_series(time_valid, x_test)\n",
        "plot_series(time_valid, results)\n"
      ],
      "execution_count": 22,
      "outputs": [
        {
          "output_type": "stream",
          "text": [
            "[-4.4083123   6.7708864  -4.402801    6.7739153   6.7708397  -4.204411\n",
            "  0.8320054  -4.416849    6.771126   -4.4168773  -0.614437    6.770841\n",
            " -4.076473    6.790949   -4.415309   -4.415009    6.6890225   6.7750573\n",
            "  6.7260394  -2.510657    6.770841    5.266554    6.7807546   6.387354\n",
            "  0.23112865  0.47065383]\n"
          ],
          "name": "stdout"
        },
        {
          "output_type": "display_data",
          "data": {
            "image/png": "[encoded data removed]",
            "text/plain": [
              "<Figure size 720x432 with 1 Axes>"
            ]
          },
          "metadata": {
            "tags": [],
            "needs_background": "light"
          }
        }
      ]
    }
  ]
}