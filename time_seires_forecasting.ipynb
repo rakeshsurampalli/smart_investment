{
  "nbformat": 4,
  "nbformat_minor": 0,
  "metadata": {
    "colab": {
      "name": "time seires forecasting.ipynb",
      "provenance": [],
      "authorship_tag": "ABX9TyMOfZ7A3sn2KK26FQ9f+Pe0",
      "include_colab_link": true
    },
    "kernelspec": {
      "name": "python3",
      "display_name": "Python 3"
    }
  },
  "cells": [
    {
      "cell_type": "markdown",
      "metadata": {
        "id": "view-in-github",
        "colab_type": "text"
      },
      "source": [
        "<a href=\"https://colab.research.google.com/github/rakeshsurampalli/smart_investment/blob/master/time_seires_forecasting.ipynb\" target=\"_parent\"><img src=\"https://colab.research.google.com/assets/colab-badge.svg\" alt=\"Open In Colab\"/></a>"
      ]
    },
    {
      "cell_type": "code",
      "metadata": {
        "id": "9KtDyPerC3wG",
        "colab_type": "code",
        "colab": {}
      },
      "source": [
        "import pandas as pd\n",
        "from google.colab import files\n",
        "from pandas import datetime\n",
        "import matplotlib.pyplot as plt\n"
      ],
      "execution_count": 0,
      "outputs": []
    },
    {
      "cell_type": "code",
      "metadata": {
        "id": "iJEln4e8HBjA",
        "colab_type": "code",
        "outputId": "cbd64317-ec71-4cad-f1ed-10ad717c71d3",
        "colab": {
          "resources": {
            "http://localhost:8080/nbextensions/google.colab/files.js": {
              "data": "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",
              "ok": true,
              "headers": [
                [
                  "content-type",
                  "application/javascript"
                ]
              ],
              "status": 200,
              "status_text": ""
            }
          },
          "base_uri": "https://localhost:8080/",
          "height": 75
        }
      },
      "source": [
        "uploaded = files.upload()"
      ],
      "execution_count": 0,
      "outputs": [
        {
          "output_type": "display_data",
          "data": {
            "text/html": [
              "\n",
              "     <input type=\"file\" id=\"files-47a54cc3-f3ea-4142-b9ee-ad838d26c565\" name=\"files[]\" multiple disabled />\n",
              "     <output id=\"result-47a54cc3-f3ea-4142-b9ee-ad838d26c565\">\n",
              "      Upload widget is only available when the cell has been executed in the\n",
              "      current browser session. Please rerun this cell to enable.\n",
              "      </output>\n",
              "      <script src=\"/nbextensions/google.colab/files.js\"></script> "
            ],
            "text/plain": [
              "<IPython.core.display.HTML object>"
            ]
          },
          "metadata": {
            "tags": []
          }
        },
        {
          "output_type": "stream",
          "text": [
            "Saving reliance12.csv to reliance12.csv\n"
          ],
          "name": "stdout"
        }
      ]
    },
    {
      "cell_type": "code",
      "metadata": {
        "id": "h-mNiS_ZIYzt",
        "colab_type": "code",
        "outputId": "7a496432-ca9c-43f3-88e6-db69a8023650",
        "colab": {
          "base_uri": "https://localhost:8080/",
          "height": 34
        }
      },
      "source": [
        "for fn in uploaded.keys():\n",
        "  print('User uploaded file \"{name}\" with length {length} bytes'.format(\n",
        "      name=fn, length=len(uploaded[fn])))"
      ],
      "execution_count": 0,
      "outputs": [
        {
          "output_type": "stream",
          "text": [
            "User uploaded file \"reliance12.csv\" with length 743 bytes\n"
          ],
          "name": "stdout"
        }
      ]
    },
    {
      "cell_type": "code",
      "metadata": {
        "id": "zLfbhOZnKmyG",
        "colab_type": "code",
        "colab": {}
      },
      "source": [
        "import io"
      ],
      "execution_count": 0,
      "outputs": []
    },
    {
      "cell_type": "code",
      "metadata": {
        "id": "ovDqLQ4wLEqJ",
        "colab_type": "code",
        "outputId": "b8d3d451-08f5-4cb7-e5d9-8a26bcbbb0a9",
        "colab": {
          "base_uri": "https://localhost:8080/",
          "height": 71
        }
      },
      "source": [
        "def parser(x):\n",
        "  return datetime.strptime(x,'%d/%m/%y')\n",
        "\n",
        "sales = pd.read_csv(io.StringIO(uploaded['reliance12.csv'].decode('utf-8')),index_col=0,parse_dates=[0],date_parser=parser)"
      ],
      "execution_count": 0,
      "outputs": [
        {
          "output_type": "stream",
          "text": [
            "/usr/local/lib/python3.6/dist-packages/ipykernel_launcher.py:2: FutureWarning: The pandas.datetime class is deprecated and will be removed from pandas in a future version. Import from datetime instead.\n",
            "  \n"
          ],
          "name": "stderr"
        }
      ]
    },
    {
      "cell_type": "code",
      "metadata": {
        "id": "H3bY7WryLj6u",
        "colab_type": "code",
        "outputId": "84675889-915b-4a66-d493-ea9ce0ab0465",
        "colab": {
          "base_uri": "https://localhost:8080/",
          "height": 235
        }
      },
      "source": [
        "sales.head()"
      ],
      "execution_count": 0,
      "outputs": [
        {
          "output_type": "execute_result",
          "data": {
            "text/html": [
              "<div>\n",
              "<style scoped>\n",
              "    .dataframe tbody tr th:only-of-type {\n",
              "        vertical-align: middle;\n",
              "    }\n",
              "\n",
              "    .dataframe tbody tr th {\n",
              "        vertical-align: top;\n",
              "    }\n",
              "\n",
              "    .dataframe thead th {\n",
              "        text-align: right;\n",
              "    }\n",
              "</style>\n",
              "<table border=\"1\" class=\"dataframe\">\n",
              "  <thead>\n",
              "    <tr style=\"text-align: right;\">\n",
              "      <th></th>\n",
              "      <th>Close</th>\n",
              "    </tr>\n",
              "    <tr>\n",
              "      <th>Date</th>\n",
              "      <th></th>\n",
              "    </tr>\n",
              "  </thead>\n",
              "  <tbody>\n",
              "    <tr>\n",
              "      <th>2019-04-18</th>\n",
              "      <td>1385.949951</td>\n",
              "    </tr>\n",
              "    <tr>\n",
              "      <th>2019-04-22</th>\n",
              "      <td>1345.349976</td>\n",
              "    </tr>\n",
              "    <tr>\n",
              "      <th>2019-04-23</th>\n",
              "      <td>1363.849976</td>\n",
              "    </tr>\n",
              "    <tr>\n",
              "      <th>2019-04-24</th>\n",
              "      <td>1389.500000</td>\n",
              "    </tr>\n",
              "    <tr>\n",
              "      <th>2019-04-25</th>\n",
              "      <td>1372.400024</td>\n",
              "    </tr>\n",
              "  </tbody>\n",
              "</table>\n",
              "</div>"
            ],
            "text/plain": [
              "                  Close\n",
              "Date                   \n",
              "2019-04-18  1385.949951\n",
              "2019-04-22  1345.349976\n",
              "2019-04-23  1363.849976\n",
              "2019-04-24  1389.500000\n",
              "2019-04-25  1372.400024"
            ]
          },
          "metadata": {
            "tags": []
          },
          "execution_count": 64
        }
      ]
    },
    {
      "cell_type": "code",
      "metadata": {
        "id": "0Qiq1hVSLuZH",
        "colab_type": "code",
        "outputId": "536aa1a5-6e7b-42d8-d240-1f59c415e13f",
        "colab": {
          "base_uri": "https://localhost:8080/",
          "height": 629
        }
      },
      "source": [
        "sales.Close"
      ],
      "execution_count": 0,
      "outputs": [
        {
          "output_type": "execute_result",
          "data": {
            "text/plain": [
              "Date\n",
              "2019-04-18    1385.949951\n",
              "2019-04-22    1345.349976\n",
              "2019-04-23    1363.849976\n",
              "2019-04-24    1389.500000\n",
              "2019-04-25    1372.400024\n",
              "2019-04-26    1392.800049\n",
              "2019-04-30    1392.800049\n",
              "2019-05-02    1405.050049\n",
              "2019-05-03    1408.849976\n",
              "2019-05-06    1384.900024\n",
              "2019-05-07    1343.500000\n",
              "2019-05-08    1299.449951\n",
              "2019-05-09    1256.449951\n",
              "2019-05-10    1251.150024\n",
              "2019-05-13    1232.050049\n",
              "2019-05-14    1260.449951\n",
              "2019-05-15    1256.900024\n",
              "2019-05-16    1265.349976\n",
              "2019-05-17    1267.400024\n",
              "2019-05-20    1325.900024\n",
              "2019-05-21    1339.800049\n",
              "2019-05-22    1340.400024\n",
              "2019-05-23    1333.900024\n",
              "2019-05-24    1336.849976\n",
              "2019-05-27    1310.650024\n",
              "2019-05-28    1323.750000\n",
              "2019-05-29    1313.050049\n",
              "2019-05-30    1329.750000\n",
              "2019-05-31    1330.150024\n",
              "2019-06-03    1360.199951\n",
              "2019-06-04    1351.650024\n",
              "2019-06-06    1327.349976\n",
              "2019-06-07    1314.900024\n",
              "2019-06-10    1319.150024\n",
              "Name: Close, dtype: float64"
            ]
          },
          "metadata": {
            "tags": []
          },
          "execution_count": 65
        }
      ]
    },
    {
      "cell_type": "code",
      "metadata": {
        "id": "CZO9nG_JOsFo",
        "colab_type": "code",
        "outputId": "e8a90df8-d522-4ee2-8d23-28b0ea3f7385",
        "colab": {
          "base_uri": "https://localhost:8080/",
          "height": 302
        }
      },
      "source": [
        "sales.plot()"
      ],
      "execution_count": 0,
      "outputs": [
        {
          "output_type": "execute_result",
          "data": {
            "text/plain": [
              "<matplotlib.axes._subplots.AxesSubplot at 0x7f3db3177630>"
            ]
          },
          "metadata": {
            "tags": []
          },
          "execution_count": 66
        },
        {
          "output_type": "display_data",
          "data": {
            "image/png": "[encoded data removed]",
            "text/plain": [
              "<Figure size 432x288 with 1 Axes>"
            ]
          },
          "metadata": {
            "tags": [],
            "needs_background": "light"
          }
        }
      ]
    },
    {
      "cell_type": "markdown",
      "metadata": {
        "id": "aJWKkcLOTWG7",
        "colab_type": "text"
      },
      "source": [
        "auto correlation function"
      ]
    },
    {
      "cell_type": "code",
      "metadata": {
        "id": "RASLK50jTTfe",
        "colab_type": "code",
        "outputId": "4591b876-2d7e-46e3-fa7a-a5514125b9c2",
        "colab": {
          "base_uri": "https://localhost:8080/",
          "height": 545
        }
      },
      "source": [
        "from statsmodels.graphics.tsaplots import plot_acf\n",
        "plot_acf(sales)"
      ],
      "execution_count": 0,
      "outputs": [
        {
          "output_type": "execute_result",
          "data": {
            "image/png": "[encoded data removed]",
            "text/plain": [
              "<Figure size 432x288 with 1 Axes>"
            ]
          },
          "metadata": {
            "tags": []
          },
          "execution_count": 67
        },
        {
          "output_type": "display_data",
          "data": {
            "image/png": "[encoded data removed]",
            "text/plain": [
              "<Figure size 432x288 with 1 Axes>"
            ]
          },
          "metadata": {
            "tags": [],
            "needs_background": "light"
          }
        }
      ]
    },
    {
      "cell_type": "code",
      "metadata": {
        "id": "M7QFRB97TTj1",
        "colab_type": "code",
        "colab": {}
      },
      "source": [
        ""
      ],
      "execution_count": 0,
      "outputs": []
    },
    {
      "cell_type": "code",
      "metadata": {
        "id": "ZbnLqjZ0TTww",
        "colab_type": "code",
        "colab": {}
      },
      "source": [
        ""
      ],
      "execution_count": 0,
      "outputs": []
    },
    {
      "cell_type": "markdown",
      "metadata": {
        "id": "JyAfA5_YS8YV",
        "colab_type": "text"
      },
      "source": [
        "stationarity\n"
      ]
    },
    {
      "cell_type": "code",
      "metadata": {
        "id": "vOInOyK3SwCr",
        "colab_type": "code",
        "colab": {}
      },
      "source": [
        "sales_diff = sales.diff(periods=1)\n"
      ],
      "execution_count": 0,
      "outputs": []
    },
    {
      "cell_type": "code",
      "metadata": {
        "id": "vsbO-m35S525",
        "colab_type": "code",
        "outputId": "87730d75-1504-4f21-ab44-c20cb4ad0b93",
        "colab": {
          "base_uri": "https://localhost:8080/",
          "height": 235
        }
      },
      "source": [
        "sales_diff = sales_diff[1:]\n",
        "sales_diff.head()"
      ],
      "execution_count": 0,
      "outputs": [
        {
          "output_type": "execute_result",
          "data": {
            "text/html": [
              "<div>\n",
              "<style scoped>\n",
              "    .dataframe tbody tr th:only-of-type {\n",
              "        vertical-align: middle;\n",
              "    }\n",
              "\n",
              "    .dataframe tbody tr th {\n",
              "        vertical-align: top;\n",
              "    }\n",
              "\n",
              "    .dataframe thead th {\n",
              "        text-align: right;\n",
              "    }\n",
              "</style>\n",
              "<table border=\"1\" class=\"dataframe\">\n",
              "  <thead>\n",
              "    <tr style=\"text-align: right;\">\n",
              "      <th></th>\n",
              "      <th>Close</th>\n",
              "    </tr>\n",
              "    <tr>\n",
              "      <th>Date</th>\n",
              "      <th></th>\n",
              "    </tr>\n",
              "  </thead>\n",
              "  <tbody>\n",
              "    <tr>\n",
              "      <th>2019-04-22</th>\n",
              "      <td>-40.599975</td>\n",
              "    </tr>\n",
              "    <tr>\n",
              "      <th>2019-04-23</th>\n",
              "      <td>18.500000</td>\n",
              "    </tr>\n",
              "    <tr>\n",
              "      <th>2019-04-24</th>\n",
              "      <td>25.650024</td>\n",
              "    </tr>\n",
              "    <tr>\n",
              "      <th>2019-04-25</th>\n",
              "      <td>-17.099976</td>\n",
              "    </tr>\n",
              "    <tr>\n",
              "      <th>2019-04-26</th>\n",
              "      <td>20.400025</td>\n",
              "    </tr>\n",
              "  </tbody>\n",
              "</table>\n",
              "</div>"
            ],
            "text/plain": [
              "                Close\n",
              "Date                 \n",
              "2019-04-22 -40.599975\n",
              "2019-04-23  18.500000\n",
              "2019-04-24  25.650024\n",
              "2019-04-25 -17.099976\n",
              "2019-04-26  20.400025"
            ]
          },
          "metadata": {
            "tags": []
          },
          "execution_count": 69
        }
      ]
    },
    {
      "cell_type": "code",
      "metadata": {
        "id": "P_xHu9LPWCjn",
        "colab_type": "code",
        "outputId": "c7262497-1659-4738-8e8d-399b6b74d834",
        "colab": {
          "base_uri": "https://localhost:8080/",
          "height": 545
        }
      },
      "source": [
        "plot_acf(sales_diff)"
      ],
      "execution_count": 0,
      "outputs": [
        {
          "output_type": "execute_result",
          "data": {
            "image/png": "[encoded data removed]",
            "text/plain": [
              "<Figure size 432x288 with 1 Axes>"
            ]
          },
          "metadata": {
            "tags": []
          },
          "execution_count": 70
        },
        {
          "output_type": "display_data",
          "data": {
            "image/png": "[encoded data removed]",
            "text/plain": [
              "<Figure size 432x288 with 1 Axes>"
            ]
          },
          "metadata": {
            "tags": [],
            "needs_background": "light"
          }
        }
      ]
    },
    {
      "cell_type": "code",
      "metadata": {
        "id": "JEev-0pDWORO",
        "colab_type": "code",
        "outputId": "2ef27faf-c734-4a65-84c0-be4869e34831",
        "colab": {
          "base_uri": "https://localhost:8080/",
          "height": 302
        }
      },
      "source": [
        "sales_diff.plot()"
      ],
      "execution_count": 0,
      "outputs": [
        {
          "output_type": "execute_result",
          "data": {
            "text/plain": [
              "<matplotlib.axes._subplots.AxesSubplot at 0x7f3db304c0f0>"
            ]
          },
          "metadata": {
            "tags": []
          },
          "execution_count": 71
        },
        {
          "output_type": "display_data",
          "data": {
            "image/png": "[encoded data removed]",
            "text/plain": [
              "<Figure size 432x288 with 1 Axes>"
            ]
          },
          "metadata": {
            "tags": [],
            "needs_background": "light"
          }
        }
      ]
    },
    {
      "cell_type": "code",
      "metadata": {
        "id": "VsBZto3bW95Z",
        "colab_type": "code",
        "outputId": "ba894bab-42c0-4959-e84b-c98ed58b57a5",
        "colab": {
          "base_uri": "https://localhost:8080/",
          "height": 629
        }
      },
      "source": [
        "X = sales.Close\n",
        "print(X)\n",
        "X.size\n",
        "train = X[0:25]#25\n",
        "test = X[25:] #9\n",
        "predictions = []"
      ],
      "execution_count": 0,
      "outputs": [
        {
          "output_type": "stream",
          "text": [
            "Date\n",
            "2019-04-18    1385.949951\n",
            "2019-04-22    1345.349976\n",
            "2019-04-23    1363.849976\n",
            "2019-04-24    1389.500000\n",
            "2019-04-25    1372.400024\n",
            "2019-04-26    1392.800049\n",
            "2019-04-30    1392.800049\n",
            "2019-05-02    1405.050049\n",
            "2019-05-03    1408.849976\n",
            "2019-05-06    1384.900024\n",
            "2019-05-07    1343.500000\n",
            "2019-05-08    1299.449951\n",
            "2019-05-09    1256.449951\n",
            "2019-05-10    1251.150024\n",
            "2019-05-13    1232.050049\n",
            "2019-05-14    1260.449951\n",
            "2019-05-15    1256.900024\n",
            "2019-05-16    1265.349976\n",
            "2019-05-17    1267.400024\n",
            "2019-05-20    1325.900024\n",
            "2019-05-21    1339.800049\n",
            "2019-05-22    1340.400024\n",
            "2019-05-23    1333.900024\n",
            "2019-05-24    1336.849976\n",
            "2019-05-27    1310.650024\n",
            "2019-05-28    1323.750000\n",
            "2019-05-29    1313.050049\n",
            "2019-05-30    1329.750000\n",
            "2019-05-31    1330.150024\n",
            "2019-06-03    1360.199951\n",
            "2019-06-04    1351.650024\n",
            "2019-06-06    1327.349976\n",
            "2019-06-07    1314.900024\n",
            "2019-06-10    1319.150024\n",
            "Name: Close, dtype: float64\n"
          ],
          "name": "stdout"
        }
      ]
    },
    {
      "cell_type": "code",
      "metadata": {
        "id": "XLGGFEMwXgGg",
        "colab_type": "code",
        "outputId": "d3da72a3-d1d4-43a5-e99c-50ac1ec2a5c3",
        "colab": {
          "base_uri": "https://localhost:8080/",
          "height": 34
        }
      },
      "source": [
        "test.size\n"
      ],
      "execution_count": 0,
      "outputs": [
        {
          "output_type": "execute_result",
          "data": {
            "text/plain": [
              "7"
            ]
          },
          "metadata": {
            "tags": []
          },
          "execution_count": 74
        }
      ]
    },
    {
      "cell_type": "markdown",
      "metadata": {
        "id": "wmbtsHjZS16u",
        "colab_type": "text"
      },
      "source": [
        "AR MODEL"
      ]
    },
    {
      "cell_type": "code",
      "metadata": {
        "id": "k4lypxtKWj6q",
        "colab_type": "code",
        "outputId": "04c487e6-d49d-445e-eb45-fe98a90a9ff1",
        "colab": {
          "base_uri": "https://localhost:8080/",
          "height": 71
        }
      },
      "source": [
        "from statsmodels.tsa.ar_model import AR\n",
        "from sklearn.metrics import mean_squared_error\n",
        "\n",
        "model_ar = AR(train)\n",
        "model_ar_fit = model_ar.fit()\n"
      ],
      "execution_count": 0,
      "outputs": [
        {
          "output_type": "stream",
          "text": [
            "/usr/local/lib/python3.6/dist-packages/statsmodels/tsa/base/tsa_model.py:219: ValueWarning: A date index has been provided, but it has no associated frequency information and so will be ignored when e.g. forecasting.\n",
            "  ' ignored when e.g. forecasting.', ValueWarning)\n"
          ],
          "name": "stderr"
        }
      ]
    },
    {
      "cell_type": "code",
      "metadata": {
        "id": "_aHoWb1bRa_1",
        "colab_type": "code",
        "outputId": "666df497-39ec-418c-bf41-1bf4ac489147",
        "colab": {
          "base_uri": "https://localhost:8080/",
          "height": 336
        }
      },
      "source": [
        "predictions = model_ar_fit.predict(start=25,end=35)\n",
        "plt.plot(predictions,color=\"red\")"
      ],
      "execution_count": 0,
      "outputs": [
        {
          "output_type": "stream",
          "text": [
            "/usr/local/lib/python3.6/dist-packages/statsmodels/tsa/base/tsa_model.py:576: ValueWarning: No supported index is available. Prediction results will be given with an integer index beginning at `start`.\n",
            "  ValueWarning)\n"
          ],
          "name": "stderr"
        },
        {
          "output_type": "execute_result",
          "data": {
            "text/plain": [
              "[<matplotlib.lines.Line2D at 0x7f3db12afd30>]"
            ]
          },
          "metadata": {
            "tags": []
          },
          "execution_count": 82
        },
        {
          "output_type": "display_data",
          "data": {
            "image/png": "[encoded data removed]",
            "text/plain": [
              "<Figure size 432x288 with 1 Axes>"
            ]
          },
          "metadata": {
            "tags": [],
            "needs_background": "light"
          }
        }
      ]
    },
    {
      "cell_type": "markdown",
      "metadata": {
        "id": "cMtg5YmxS0au",
        "colab_type": "text"
      },
      "source": [
        ""
      ]
    },
    {
      "cell_type": "code",
      "metadata": {
        "id": "g4l-MSWVRy8u",
        "colab_type": "code",
        "outputId": "1332f13e-11e6-4354-b716-148abba9628b",
        "colab": {
          "base_uri": "https://localhost:8080/",
          "height": 204
        }
      },
      "source": [
        "test\n"
      ],
      "execution_count": 0,
      "outputs": [
        {
          "output_type": "execute_result",
          "data": {
            "text/plain": [
              "Date\n",
              "2019-05-28    1323.750000\n",
              "2019-05-29    1313.050049\n",
              "2019-05-30    1329.750000\n",
              "2019-05-31    1330.150024\n",
              "2019-06-03    1360.199951\n",
              "2019-06-04    1351.650024\n",
              "2019-06-06    1327.349976\n",
              "2019-06-07    1314.900024\n",
              "2019-06-10    1319.150024\n",
              "Name: Close, dtype: float64"
            ]
          },
          "metadata": {
            "tags": []
          },
          "execution_count": 83
        }
      ]
    },
    {
      "cell_type": "code",
      "metadata": {
        "id": "axqwXYHmR25k",
        "colab_type": "code",
        "outputId": "7d022b21-8808-473e-8801-afa7f1f8e1eb",
        "colab": {
          "base_uri": "https://localhost:8080/",
          "height": 282
        }
      },
      "source": [
        "plt.plot(test)\n"
      ],
      "execution_count": 0,
      "outputs": [
        {
          "output_type": "execute_result",
          "data": {
            "text/plain": [
              "[<matplotlib.lines.Line2D at 0x7f3db1221710>]"
            ]
          },
          "metadata": {
            "tags": []
          },
          "execution_count": 85
        },
        {
          "output_type": "display_data",
          "data": {
            "image/png": "[encoded data removed]",
            "text/plain": [
              "<Figure size 432x288 with 1 Axes>"
            ]
          },
          "metadata": {
            "tags": [],
            "needs_background": "light"
          }
        }
      ]
    },
    {
      "cell_type": "code",
      "metadata": {
        "id": "dmQixyzxSeyR",
        "colab_type": "code",
        "outputId": "7b40cc44-ef24-4d75-93d5-b3fbbf14793e",
        "colab": {
          "base_uri": "https://localhost:8080/",
          "height": 282
        }
      },
      "source": [
        "plt.plot(predictions,color=\"red\")"
      ],
      "execution_count": 0,
      "outputs": [
        {
          "output_type": "execute_result",
          "data": {
            "text/plain": [
              "[<matplotlib.lines.Line2D at 0x7f3db11a89b0>]"
            ]
          },
          "metadata": {
            "tags": []
          },
          "execution_count": 86
        },
        {
          "output_type": "display_data",
          "data": {
            "image/png": "[encoded data removed]",
            "text/plain": [
              "<Figure size 432x288 with 1 Axes>"
            ]
          },
          "metadata": {
            "tags": [],
            "needs_background": "light"
          }
        }
      ]
    },
    {
      "cell_type": "markdown",
      "metadata": {
        "id": "Gs6oTxXhTJuB",
        "colab_type": "text"
      },
      "source": [
        "ARIMA MODEL"
      ]
    },
    {
      "cell_type": "code",
      "metadata": {
        "id": "Y36oWsPITHoJ",
        "colab_type": "code",
        "colab": {}
      },
      "source": [
        "from statsmodels.tsa.arima_model import ARIMA"
      ],
      "execution_count": 0,
      "outputs": []
    },
    {
      "cell_type": "code",
      "metadata": {
        "id": "rW9xIAeVTShT",
        "colab_type": "code",
        "colab": {}
      },
      "source": [
        "#p,d,q\n",
        "\n",
        "model_arima = ARIMA(train,order=(7,2,1))\n",
        "model_arima_fit = model_arima.fit()\n"
      ],
      "execution_count": 0,
      "outputs": []
    },
    {
      "cell_type": "code",
      "metadata": {
        "id": "PGz4vlMwT00r",
        "colab_type": "code",
        "outputId": "a3067926-f495-4e38-e772-72446331b4de",
        "colab": {
          "base_uri": "https://localhost:8080/",
          "height": 68
        }
      },
      "source": [
        "predictions = model_arima_fit.forecast(steps=9)[0]\n",
        "predictions"
      ],
      "execution_count": 139,
      "outputs": [
        {
          "output_type": "execute_result",
          "data": {
            "text/plain": [
              "array([1306.98197523, 1283.46810382, 1281.9028533 , 1288.68241976,\n",
              "       1308.55292028, 1323.10857189, 1355.04648582, 1375.77557382,\n",
              "       1404.04190841])"
            ]
          },
          "metadata": {
            "tags": []
          },
          "execution_count": 139
        }
      ]
    },
    {
      "cell_type": "code",
      "metadata": {
        "id": "ZcaDphPjUj1O",
        "colab_type": "code",
        "colab": {
          "base_uri": "https://localhost:8080/",
          "height": 282
        },
        "outputId": "d80656f6-679d-4391-c6ce-6456c6b266d1"
      },
      "source": [
        "plt.plot(test)\n"
      ],
      "execution_count": 93,
      "outputs": [
        {
          "output_type": "execute_result",
          "data": {
            "text/plain": [
              "[<matplotlib.lines.Line2D at 0x7f3db10cefd0>]"
            ]
          },
          "metadata": {
            "tags": []
          },
          "execution_count": 93
        },
        {
          "output_type": "display_data",
          "data": {
            "image/png": "[encoded data removed]",
            "text/plain": [
              "<Figure size 432x288 with 1 Axes>"
            ]
          },
          "metadata": {
            "tags": [],
            "needs_background": "light"
          }
        }
      ]
    },
    {
      "cell_type": "code",
      "metadata": {
        "id": "i-jcaopPUqcz",
        "colab_type": "code",
        "colab": {
          "base_uri": "https://localhost:8080/",
          "height": 282
        },
        "outputId": "0d46f126-e731-4168-a9c8-33686f511f78"
      },
      "source": [
        "plt.plot(predictions,color=\"red\")"
      ],
      "execution_count": 140,
      "outputs": [
        {
          "output_type": "execute_result",
          "data": {
            "text/plain": [
              "[<matplotlib.lines.Line2D at 0x7f3db0b8cbe0>]"
            ]
          },
          "metadata": {
            "tags": []
          },
          "execution_count": 140
        },
        {
          "output_type": "display_data",
          "data": {
            "image/png": "[encoded data removed]",
            "text/plain": [
              "<Figure size 432x288 with 1 Axes>"
            ]
          },
          "metadata": {
            "tags": [],
            "needs_background": "light"
          }
        }
      ]
    },
    {
      "cell_type": "code",
      "metadata": {
        "id": "0Mkk-vh3Ysq2",
        "colab_type": "code",
        "colab": {
          "base_uri": "https://localhost:8080/",
          "height": 34
        },
        "outputId": "3ff58fd8-b834-403d-f700-0ce423c2d4ca"
      },
      "source": [
        "mean_squared_error(test,predictions)"
      ],
      "execution_count": 141,
      "outputs": [
        {
          "output_type": "execute_result",
          "data": {
            "text/plain": [
              "2258.5290348643002"
            ]
          },
          "metadata": {
            "tags": []
          },
          "execution_count": 141
        }
      ]
    },
    {
      "cell_type": "code",
      "metadata": {
        "id": "RE6-eMUdWCgw",
        "colab_type": "code",
        "colab": {
          "base_uri": "https://localhost:8080/",
          "height": 1000
        },
        "outputId": "c329a631-81df-4694-c769-f7d493309657"
      },
      "source": [
        "import itertools\n",
        "p=d=q=range(0,7)\n",
        "pdq = list(itertools.product(p,d,q))\n",
        "pdq"
      ],
      "execution_count": 128,
      "outputs": [
        {
          "output_type": "execute_result",
          "data": {
            "text/plain": [
              "[(0, 0, 0),\n",
              " (0, 0, 1),\n",
              " (0, 0, 2),\n",
              " (0, 0, 3),\n",
              " (0, 0, 4),\n",
              " (0, 0, 5),\n",
              " (0, 0, 6),\n",
              " (0, 1, 0),\n",
              " (0, 1, 1),\n",
              " (0, 1, 2),\n",
              " (0, 1, 3),\n",
              " (0, 1, 4),\n",
              " (0, 1, 5),\n",
              " (0, 1, 6),\n",
              " (0, 2, 0),\n",
              " (0, 2, 1),\n",
              " (0, 2, 2),\n",
              " (0, 2, 3),\n",
              " (0, 2, 4),\n",
              " (0, 2, 5),\n",
              " (0, 2, 6),\n",
              " (0, 3, 0),\n",
              " (0, 3, 1),\n",
              " (0, 3, 2),\n",
              " (0, 3, 3),\n",
              " (0, 3, 4),\n",
              " (0, 3, 5),\n",
              " (0, 3, 6),\n",
              " (0, 4, 0),\n",
              " (0, 4, 1),\n",
              " (0, 4, 2),\n",
              " (0, 4, 3),\n",
              " (0, 4, 4),\n",
              " (0, 4, 5),\n",
              " (0, 4, 6),\n",
              " (0, 5, 0),\n",
              " (0, 5, 1),\n",
              " (0, 5, 2),\n",
              " (0, 5, 3),\n",
              " (0, 5, 4),\n",
              " (0, 5, 5),\n",
              " (0, 5, 6),\n",
              " (0, 6, 0),\n",
              " (0, 6, 1),\n",
              " (0, 6, 2),\n",
              " (0, 6, 3),\n",
              " (0, 6, 4),\n",
              " (0, 6, 5),\n",
              " (0, 6, 6),\n",
              " (1, 0, 0),\n",
              " (1, 0, 1),\n",
              " (1, 0, 2),\n",
              " (1, 0, 3),\n",
              " (1, 0, 4),\n",
              " (1, 0, 5),\n",
              " (1, 0, 6),\n",
              " (1, 1, 0),\n",
              " (1, 1, 1),\n",
              " (1, 1, 2),\n",
              " (1, 1, 3),\n",
              " (1, 1, 4),\n",
              " (1, 1, 5),\n",
              " (1, 1, 6),\n",
              " (1, 2, 0),\n",
              " (1, 2, 1),\n",
              " (1, 2, 2),\n",
              " (1, 2, 3),\n",
              " (1, 2, 4),\n",
              " (1, 2, 5),\n",
              " (1, 2, 6),\n",
              " (1, 3, 0),\n",
              " (1, 3, 1),\n",
              " (1, 3, 2),\n",
              " (1, 3, 3),\n",
              " (1, 3, 4),\n",
              " (1, 3, 5),\n",
              " (1, 3, 6),\n",
              " (1, 4, 0),\n",
              " (1, 4, 1),\n",
              " (1, 4, 2),\n",
              " (1, 4, 3),\n",
              " (1, 4, 4),\n",
              " (1, 4, 5),\n",
              " (1, 4, 6),\n",
              " (1, 5, 0),\n",
              " (1, 5, 1),\n",
              " (1, 5, 2),\n",
              " (1, 5, 3),\n",
              " (1, 5, 4),\n",
              " (1, 5, 5),\n",
              " (1, 5, 6),\n",
              " (1, 6, 0),\n",
              " (1, 6, 1),\n",
              " (1, 6, 2),\n",
              " (1, 6, 3),\n",
              " (1, 6, 4),\n",
              " (1, 6, 5),\n",
              " (1, 6, 6),\n",
              " (2, 0, 0),\n",
              " (2, 0, 1),\n",
              " (2, 0, 2),\n",
              " (2, 0, 3),\n",
              " (2, 0, 4),\n",
              " (2, 0, 5),\n",
              " (2, 0, 6),\n",
              " (2, 1, 0),\n",
              " (2, 1, 1),\n",
              " (2, 1, 2),\n",
              " (2, 1, 3),\n",
              " (2, 1, 4),\n",
              " (2, 1, 5),\n",
              " (2, 1, 6),\n",
              " (2, 2, 0),\n",
              " (2, 2, 1),\n",
              " (2, 2, 2),\n",
              " (2, 2, 3),\n",
              " (2, 2, 4),\n",
              " (2, 2, 5),\n",
              " (2, 2, 6),\n",
              " (2, 3, 0),\n",
              " (2, 3, 1),\n",
              " (2, 3, 2),\n",
              " (2, 3, 3),\n",
              " (2, 3, 4),\n",
              " (2, 3, 5),\n",
              " (2, 3, 6),\n",
              " (2, 4, 0),\n",
              " (2, 4, 1),\n",
              " (2, 4, 2),\n",
              " (2, 4, 3),\n",
              " (2, 4, 4),\n",
              " (2, 4, 5),\n",
              " (2, 4, 6),\n",
              " (2, 5, 0),\n",
              " (2, 5, 1),\n",
              " (2, 5, 2),\n",
              " (2, 5, 3),\n",
              " (2, 5, 4),\n",
              " (2, 5, 5),\n",
              " (2, 5, 6),\n",
              " (2, 6, 0),\n",
              " (2, 6, 1),\n",
              " (2, 6, 2),\n",
              " (2, 6, 3),\n",
              " (2, 6, 4),\n",
              " (2, 6, 5),\n",
              " (2, 6, 6),\n",
              " (3, 0, 0),\n",
              " (3, 0, 1),\n",
              " (3, 0, 2),\n",
              " (3, 0, 3),\n",
              " (3, 0, 4),\n",
              " (3, 0, 5),\n",
              " (3, 0, 6),\n",
              " (3, 1, 0),\n",
              " (3, 1, 1),\n",
              " (3, 1, 2),\n",
              " (3, 1, 3),\n",
              " (3, 1, 4),\n",
              " (3, 1, 5),\n",
              " (3, 1, 6),\n",
              " (3, 2, 0),\n",
              " (3, 2, 1),\n",
              " (3, 2, 2),\n",
              " (3, 2, 3),\n",
              " (3, 2, 4),\n",
              " (3, 2, 5),\n",
              " (3, 2, 6),\n",
              " (3, 3, 0),\n",
              " (3, 3, 1),\n",
              " (3, 3, 2),\n",
              " (3, 3, 3),\n",
              " (3, 3, 4),\n",
              " (3, 3, 5),\n",
              " (3, 3, 6),\n",
              " (3, 4, 0),\n",
              " (3, 4, 1),\n",
              " (3, 4, 2),\n",
              " (3, 4, 3),\n",
              " (3, 4, 4),\n",
              " (3, 4, 5),\n",
              " (3, 4, 6),\n",
              " (3, 5, 0),\n",
              " (3, 5, 1),\n",
              " (3, 5, 2),\n",
              " (3, 5, 3),\n",
              " (3, 5, 4),\n",
              " (3, 5, 5),\n",
              " (3, 5, 6),\n",
              " (3, 6, 0),\n",
              " (3, 6, 1),\n",
              " (3, 6, 2),\n",
              " (3, 6, 3),\n",
              " (3, 6, 4),\n",
              " (3, 6, 5),\n",
              " (3, 6, 6),\n",
              " (4, 0, 0),\n",
              " (4, 0, 1),\n",
              " (4, 0, 2),\n",
              " (4, 0, 3),\n",
              " (4, 0, 4),\n",
              " (4, 0, 5),\n",
              " (4, 0, 6),\n",
              " (4, 1, 0),\n",
              " (4, 1, 1),\n",
              " (4, 1, 2),\n",
              " (4, 1, 3),\n",
              " (4, 1, 4),\n",
              " (4, 1, 5),\n",
              " (4, 1, 6),\n",
              " (4, 2, 0),\n",
              " (4, 2, 1),\n",
              " (4, 2, 2),\n",
              " (4, 2, 3),\n",
              " (4, 2, 4),\n",
              " (4, 2, 5),\n",
              " (4, 2, 6),\n",
              " (4, 3, 0),\n",
              " (4, 3, 1),\n",
              " (4, 3, 2),\n",
              " (4, 3, 3),\n",
              " (4, 3, 4),\n",
              " (4, 3, 5),\n",
              " (4, 3, 6),\n",
              " (4, 4, 0),\n",
              " (4, 4, 1),\n",
              " (4, 4, 2),\n",
              " (4, 4, 3),\n",
              " (4, 4, 4),\n",
              " (4, 4, 5),\n",
              " (4, 4, 6),\n",
              " (4, 5, 0),\n",
              " (4, 5, 1),\n",
              " (4, 5, 2),\n",
              " (4, 5, 3),\n",
              " (4, 5, 4),\n",
              " (4, 5, 5),\n",
              " (4, 5, 6),\n",
              " (4, 6, 0),\n",
              " (4, 6, 1),\n",
              " (4, 6, 2),\n",
              " (4, 6, 3),\n",
              " (4, 6, 4),\n",
              " (4, 6, 5),\n",
              " (4, 6, 6),\n",
              " (5, 0, 0),\n",
              " (5, 0, 1),\n",
              " (5, 0, 2),\n",
              " (5, 0, 3),\n",
              " (5, 0, 4),\n",
              " (5, 0, 5),\n",
              " (5, 0, 6),\n",
              " (5, 1, 0),\n",
              " (5, 1, 1),\n",
              " (5, 1, 2),\n",
              " (5, 1, 3),\n",
              " (5, 1, 4),\n",
              " (5, 1, 5),\n",
              " (5, 1, 6),\n",
              " (5, 2, 0),\n",
              " (5, 2, 1),\n",
              " (5, 2, 2),\n",
              " (5, 2, 3),\n",
              " (5, 2, 4),\n",
              " (5, 2, 5),\n",
              " (5, 2, 6),\n",
              " (5, 3, 0),\n",
              " (5, 3, 1),\n",
              " (5, 3, 2),\n",
              " (5, 3, 3),\n",
              " (5, 3, 4),\n",
              " (5, 3, 5),\n",
              " (5, 3, 6),\n",
              " (5, 4, 0),\n",
              " (5, 4, 1),\n",
              " (5, 4, 2),\n",
              " (5, 4, 3),\n",
              " (5, 4, 4),\n",
              " (5, 4, 5),\n",
              " (5, 4, 6),\n",
              " (5, 5, 0),\n",
              " (5, 5, 1),\n",
              " (5, 5, 2),\n",
              " (5, 5, 3),\n",
              " (5, 5, 4),\n",
              " (5, 5, 5),\n",
              " (5, 5, 6),\n",
              " (5, 6, 0),\n",
              " (5, 6, 1),\n",
              " (5, 6, 2),\n",
              " (5, 6, 3),\n",
              " (5, 6, 4),\n",
              " (5, 6, 5),\n",
              " (5, 6, 6),\n",
              " (6, 0, 0),\n",
              " (6, 0, 1),\n",
              " (6, 0, 2),\n",
              " (6, 0, 3),\n",
              " (6, 0, 4),\n",
              " (6, 0, 5),\n",
              " (6, 0, 6),\n",
              " (6, 1, 0),\n",
              " (6, 1, 1),\n",
              " (6, 1, 2),\n",
              " (6, 1, 3),\n",
              " (6, 1, 4),\n",
              " (6, 1, 5),\n",
              " (6, 1, 6),\n",
              " (6, 2, 0),\n",
              " (6, 2, 1),\n",
              " (6, 2, 2),\n",
              " (6, 2, 3),\n",
              " (6, 2, 4),\n",
              " (6, 2, 5),\n",
              " (6, 2, 6),\n",
              " (6, 3, 0),\n",
              " (6, 3, 1),\n",
              " (6, 3, 2),\n",
              " (6, 3, 3),\n",
              " (6, 3, 4),\n",
              " (6, 3, 5),\n",
              " (6, 3, 6),\n",
              " (6, 4, 0),\n",
              " (6, 4, 1),\n",
              " (6, 4, 2),\n",
              " (6, 4, 3),\n",
              " (6, 4, 4),\n",
              " (6, 4, 5),\n",
              " (6, 4, 6),\n",
              " (6, 5, 0),\n",
              " (6, 5, 1),\n",
              " (6, 5, 2),\n",
              " (6, 5, 3),\n",
              " (6, 5, 4),\n",
              " (6, 5, 5),\n",
              " (6, 5, 6),\n",
              " (6, 6, 0),\n",
              " (6, 6, 1),\n",
              " (6, 6, 2),\n",
              " (6, 6, 3),\n",
              " (6, 6, 4),\n",
              " (6, 6, 5),\n",
              " (6, 6, 6)]"
            ]
          },
          "metadata": {
            "tags": []
          },
          "execution_count": 128
        }
      ]
    },
    {
      "cell_type": "code",
      "metadata": {
        "id": "JB5p9DgBW0Z0",
        "colab_type": "code",
        "colab": {
          "base_uri": "https://localhost:8080/",
          "height": 1000
        },
        "outputId": "b945d221-2467-4ef5-8fb2-038fd1637a9e"
      },
      "source": [
        "import warnings\n",
        "warnings.filterwarnings(\"ignore\") \n",
        "for param in pdq:\n",
        "  try:\n",
        "    model_arima = ARIMA(train,order=param)\n",
        "    model_arima_fit = model_arima.fit()\n",
        "    print(param,model_arima_fit.aic)\n",
        "  except:\n",
        "    continue\n"
      ],
      "execution_count": 129,
      "outputs": [
        {
          "output_type": "stream",
          "text": [
            "(0, 0, 0) 274.7263785856866\n",
            "(0, 0, 1) 257.0022406926338\n",
            "(0, 0, 4) 239.65393588098976\n",
            "(0, 0, 5) 241.48581245276932\n",
            "(0, 1, 0) 226.62019104090123\n",
            "(0, 1, 1) 227.19522713136402\n",
            "(0, 1, 2) 227.88433581019444\n",
            "(0, 1, 3) 229.77062125783138\n",
            "(0, 1, 4) 231.56226412358978\n",
            "(0, 1, 5) 231.01347708797437\n",
            "(0, 1, 6) 232.87194448963788\n",
            "(0, 2, 0) 224.82532060156657\n",
            "(0, 2, 1) 222.38821725206714\n",
            "(0, 2, 2) 224.35403087575946\n",
            "(0, 2, 3) 223.9138949227181\n",
            "(0, 2, 4) 225.70161075079898\n",
            "(0, 2, 5) 227.3179298421257\n",
            "(0, 2, 6) 227.67587161449939\n",
            "(1, 0, 0) 238.04980328903224\n",
            "(1, 0, 1) 238.3775624055168\n",
            "(1, 0, 2) 238.68723577374024\n",
            "(1, 0, 3) 240.09124592320146\n",
            "(1, 0, 4) 241.3569828905623\n",
            "(1, 0, 5) 244.53493199898267\n",
            "(1, 1, 0) 226.5667092965279\n",
            "(1, 1, 1) 228.29922972206484\n",
            "(1, 1, 2) 229.7476992405336\n",
            "(1, 2, 0) 222.48861186439564\n",
            "(1, 2, 1) 224.2882127451178\n",
            "(2, 0, 0) 237.19849169034381\n",
            "(2, 0, 1) 237.62100825593242\n",
            "(2, 0, 2) 239.09185377229832\n",
            "(2, 0, 3) 240.75663352288313\n",
            "(2, 0, 4) 242.80199472745645\n",
            "(2, 1, 0) 227.97357906228603\n",
            "(2, 1, 1) 228.87344778426913\n",
            "(2, 1, 2) 225.65535311724585\n",
            "(2, 2, 0) 224.3718152097493\n",
            "(2, 2, 1) 226.7069434023203\n",
            "(2, 2, 2) 230.62278624981013\n",
            "(3, 0, 0) 237.28251602683548\n",
            "(3, 0, 1) 239.35373169280626\n",
            "(3, 1, 0) 229.6151824633047\n",
            "(3, 1, 1) 234.69593115886073\n",
            "(3, 1, 2) 234.3458027272167\n",
            "(3, 1, 3) 236.14747655474068\n",
            "(3, 2, 0) 226.10825420736808\n",
            "(3, 2, 1) 228.37697418118375\n",
            "(3, 2, 2) 231.7955635133659\n",
            "(3, 2, 3) 229.31552411446444\n",
            "(4, 0, 0) 239.16206455017257\n",
            "(4, 0, 2) 245.54338930106516\n",
            "(4, 1, 0) 231.40553527748472\n",
            "(4, 1, 1) 232.84775213743885\n",
            "(4, 1, 2) 231.5313175323753\n",
            "(4, 1, 3) 234.87166014437946\n",
            "(4, 2, 0) 228.02711561613006\n",
            "(4, 2, 1) 228.90356635580707\n",
            "(4, 2, 2) 229.23058984731887\n",
            "(4, 2, 3) 231.66248942615198\n",
            "(4, 2, 4) 241.86096329483064\n",
            "(4, 2, 5) 234.41003243465173\n",
            "(5, 0, 0) 241.11538815260488\n",
            "(5, 0, 2) 250.69122882946144\n",
            "(5, 1, 0) 231.46371917226952\n",
            "(5, 1, 1) 229.02270408057058\n",
            "(5, 1, 2) 232.7768159617954\n",
            "(5, 1, 3) 235.34535520853427\n",
            "(5, 1, 4) 233.3857039730201\n",
            "(5, 2, 0) 229.44974174746636\n",
            "(5, 2, 1) 227.60423239547373\n",
            "(5, 2, 2) 234.00715380084614\n",
            "(5, 2, 3) 229.89872123818304\n",
            "(5, 2, 5) 234.85930672674078\n",
            "(6, 0, 0) 242.7376082576665\n",
            "(6, 0, 1) 246.5287753835887\n",
            "(6, 1, 0) 232.89345124892645\n",
            "(6, 1, 1) 259.7377714792383\n",
            "(6, 1, 2) 266.7810729970966\n",
            "(6, 1, 3) 234.70612693984714\n",
            "(6, 2, 0) 231.44854503928758\n",
            "(6, 2, 1) 229.2428990194582\n",
            "(6, 2, 3) 233.27129444007562\n",
            "(6, 2, 5) 236.64351294479866\n"
          ],
          "name": "stdout"
        }
      ]
    },
    {
      "cell_type": "code",
      "metadata": {
        "id": "vqXHuFIFXweC",
        "colab_type": "code",
        "colab": {}
      },
      "source": [
        ""
      ],
      "execution_count": 0,
      "outputs": []
    }
  ]
}