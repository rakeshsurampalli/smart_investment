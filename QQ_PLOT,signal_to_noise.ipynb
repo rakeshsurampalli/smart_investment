{
  "nbformat": 4,
  "nbformat_minor": 0,
  "metadata": {
    "colab": {
      "name": "QQ PLOT,signal to noise.ipynb",
      "provenance": [],
      "authorship_tag": "ABX9TyN4UoFT1Sw5EbgzXeqvhgSA",
      "include_colab_link": true
    },
    "kernelspec": {
      "name": "python3",
      "display_name": "Python 3"
    }
  },
  "cells": [
    {
      "cell_type": "markdown",
      "metadata": {
        "id": "view-in-github",
        "colab_type": "text"
      },
      "source": [
        "<a href=\"https://colab.research.google.com/github/rakeshsurampalli/smart_investment/blob/master/QQ_PLOT%2Csignal_to_noise.ipynb\" target=\"_parent\"><img src=\"https://colab.research.google.com/assets/colab-badge.svg\" alt=\"Open In Colab\"/></a>"
      ]
    },
    {
      "cell_type": "code",
      "metadata": {
        "id": "nhWn5z3ZZgQo",
        "colab_type": "code",
        "colab": {}
      },
      "source": [
        "import numpy as np\n",
        "import pylab\n",
        "import scipy.stats as stats"
      ],
      "execution_count": 0,
      "outputs": []
    },
    {
      "cell_type": "markdown",
      "metadata": {
        "id": "TI1D1j1ltXYe",
        "colab_type": "text"
      },
      "source": [
        "QQ PLOT"
      ]
    },
    {
      "cell_type": "code",
      "metadata": {
        "id": "V8STiuSIZ92q",
        "colab_type": "code",
        "colab": {
          "base_uri": "https://localhost:8080/",
          "height": 295
        },
        "outputId": "ccdaef7c-43bb-452a-ee0a-f750e4a28148"
      },
      "source": [
        "x = np.random.normal(loc = 20, scale = 5, size=100)\n",
        "stats.probplot(x,dist=\"norm\",plot=pylab)\n",
        "pylab.show()"
      ],
      "execution_count": 6,
      "outputs": [
        {
          "output_type": "display_data",
          "data": {
            "image/png": "[encoded data removed]",
            "text/plain": [
              "<Figure size 432x288 with 1 Axes>"
            ]
          },
          "metadata": {
            "tags": []
          }
        }
      ]
    },
    {
      "cell_type": "markdown",
      "metadata": {
        "id": "T5BwJBEOtaPX",
        "colab_type": "text"
      },
      "source": [
        "signal to noise"
      ]
    },
    {
      "cell_type": "code",
      "metadata": {
        "id": "BxD8dQBrc_9R",
        "colab_type": "code",
        "colab": {}
      },
      "source": [
        "from scipy import stats"
      ],
      "execution_count": 0,
      "outputs": []
    },
    {
      "cell_type": "code",
      "metadata": {
        "id": "FQZpkoeRtg1U",
        "colab_type": "code",
        "colab": {
          "base_uri": "https://localhost:8080/",
          "height": 187
        },
        "outputId": "386b5386-f60b-4af5-d921-b0900611bf22"
      },
      "source": [
        "def signaltonoise(a, axis, ddof): \n",
        "    a = np.asanyarray(a) \n",
        "    m = a.mean(axis) \n",
        "    sd = a.std(axis = axis, ddof = ddof) \n",
        "    return np.where(sd == 0, 0, m / sd) \n",
        "\n",
        "\n",
        "\n",
        "arr1 = [[20, 2, 7, 1, 34], \n",
        "        [50, 12, 12, 34, 4]] \n",
        "  \n",
        "arr2 = [50, 12, 12, 34, 4] \n",
        "\n",
        "print (\"\\narr1 : \", arr1) \n",
        "print (\"\\narr2 : \", arr2) \n",
        "  \n",
        "print (\"\\nsignaltonoise ratio for arr1 : \", signaltonoise(arr1,axis = 0,ddof=0)) \n",
        "  \n",
        "print(\"\\nsignaltonoise ratio for arr1 : \", signaltonoise(arr1, axis = 1, ddof = 0)) \n",
        "  \n",
        "print (\"\\nsignaltonoise ratio for arr1 : \",  \n",
        "       signaltonoise(arr2, axis = 0, ddof = 0))"
      ],
      "execution_count": 18,
      "outputs": [
        {
          "output_type": "stream",
          "text": [
            "\n",
            "arr1 :  [[20, 2, 7, 1, 34], [50, 12, 12, 34, 4]]\n",
            "\n",
            "arr2 :  [50, 12, 12, 34, 4]\n",
            "\n",
            "signaltonoise ratio for arr1 :  [2.33333333 1.4        3.8        1.06060606 1.26666667]\n",
            "\n",
            "signaltonoise ratio for arr1 :  [1.01779811 1.31482934]\n",
            "\n",
            "signaltonoise ratio for arr1 :  1.3148293369202024\n"
          ],
          "name": "stdout"
        }
      ]
    }
  ]
}