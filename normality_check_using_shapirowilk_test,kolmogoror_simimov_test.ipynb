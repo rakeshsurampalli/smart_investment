{
  "nbformat": 4,
  "nbformat_minor": 0,
  "metadata": {
    "colab": {
      "name": "normality check using shapirowilk test,kolmogoror simimov test.ipynb",
      "provenance": [],
      "authorship_tag": "ABX9TyOVq9Szl5Qx6i5aOcNQI0VG",
      "include_colab_link": true
    },
    "kernelspec": {
      "name": "python3",
      "display_name": "Python 3"
    }
  },
  "cells": [
    {
      "cell_type": "markdown",
      "metadata": {
        "id": "view-in-github",
        "colab_type": "text"
      },
      "source": [
        "<a href=\"https://colab.research.google.com/github/rakeshsurampalli/smart_investment/blob/master/normality_check_using_shapirowilk_test%2Ckolmogoror_simimov_test.ipynb\" target=\"_parent\"><img src=\"https://colab.research.google.com/assets/colab-badge.svg\" alt=\"Open In Colab\"/></a>"
      ]
    },
    {
      "cell_type": "code",
      "metadata": {
        "id": "dqNb7wHD4U3O",
        "colab_type": "code",
        "colab": {}
      },
      "source": [
        "import numpy as np\n",
        "import pandas as pd\n",
        "import scipy.stats as stats\n",
        "import matplotlib.pyplot as plt\n",
        "\n",
        "%matplotlib inline\n",
        "plt.rc('figure', figsize=(16, 9))"
      ],
      "execution_count": 0,
      "outputs": []
    },
    {
      "cell_type": "markdown",
      "metadata": {
        "id": "ua8hSUWu5Z9i",
        "colab_type": "text"
      },
      "source": [
        "creating normal and non normal distribution"
      ]
    },
    {
      "cell_type": "code",
      "metadata": {
        "id": "tMQ4xjKq5Sow",
        "colab_type": "code",
        "colab": {}
      },
      "source": [
        "# Sample A: Normal distribution\n",
        "sample_a = stats.norm.rvs(loc=0.0, scale=1.0, size=(1000,))\n",
        "\n",
        "# Sample B: Non-normal distribution\n",
        "sample_b = stats.lognorm.rvs(s=0.5, loc=0.0, scale=1.0, size=(1000,))"
      ],
      "execution_count": 0,
      "outputs": []
    },
    {
      "cell_type": "code",
      "metadata": {
        "id": "3ywuCFS05egV",
        "colab_type": "code",
        "colab": {
          "base_uri": "https://localhost:8080/",
          "height": 119
        },
        "outputId": "253b8c08-c8cd-4aa5-9250-1ab5e857ab64"
      },
      "source": [
        "def is_normal(sample, test=stats.shapiro, p_level=0.05, **kwargs):\n",
        "    \"\"\"Apply a normality test to check if sample is normally distributed.\"\"\"\n",
        "    t_stat, p_value = test(sample, **kwargs)\n",
        "    print(\"Test statistic: {}, p-value: {}\".format(t_stat, p_value))\n",
        "    print(\"Is the distribution Likely Normal? {}\".format(p_value > p_level))\n",
        "    return p_value > p_level\n",
        "\n",
        "# Using Shapiro-Wilk test (default)\n",
        "print(\"Sample A:-\"); is_normal(sample_a);\n",
        "print(\"Sample B:-\"); is_normal(sample_b);"
      ],
      "execution_count": 5,
      "outputs": [
        {
          "output_type": "stream",
          "text": [
            "Sample A:-\n",
            "Test statistic: 0.9987215995788574, p-value: 0.7030794620513916\n",
            "Is the distribution Likely Normal? True\n",
            "Sample B:-\n",
            "Test statistic: 0.864892840385437, p-value: 1.7485407224119912e-28\n",
            "Is the distribution Likely Normal? False\n"
          ],
          "name": "stdout"
        }
      ]
    },
    {
      "cell_type": "markdown",
      "metadata": {
        "id": "DNTXbpQi6LQb",
        "colab_type": "text"
      },
      "source": [
        "kolmogoror simimov test"
      ]
    },
    {
      "cell_type": "code",
      "metadata": {
        "id": "i8MHumqR6JVd",
        "colab_type": "code",
        "colab": {
          "base_uri": "https://localhost:8080/",
          "height": 119
        },
        "outputId": "8f2730a5-1bf4-43fd-9e28-dc28ae2fedc1"
      },
      "source": [
        "def is_normal_ks(sample, test=stats.kstest, p_level=0.05, **kwargs):    \n",
        "    \"\"\"\n",
        "    sample: a sample distribution\n",
        "    test: a function that tests for normality\n",
        "    p_level: if the test returns a p-value > than p_level, assume normality\n",
        "    \n",
        "    return: True if distribution is normal, False otherwise\n",
        "    \"\"\"\n",
        "    normal_args = (np.mean(sample),np.std(sample))\n",
        "    \n",
        "    t_stat, p_value = test(sample, 'norm', normal_args, **kwargs)\n",
        "    print(\"Test statistic: {}, p-value: {}\".format(t_stat, p_value))\n",
        "    print(\"Is the distribution Likely Normal? {}\".format(p_value > p_level))\n",
        "    return p_value > p_level\n",
        "\n",
        "\n",
        "\n",
        "# Using Kolmogorov-Smirnov test\n",
        "print(\"Sample A:-\"); is_normal_ks(sample_a);\n",
        "print(\"Sample B:-\"); is_normal_ks(sample_b);"
      ],
      "execution_count": 7,
      "outputs": [
        {
          "output_type": "stream",
          "text": [
            "Sample A:-\n",
            "Test statistic: 0.014286390061398868, p-value: 0.9868462972513035\n",
            "Is the distribution Likely Normal? True\n",
            "Sample B:-\n",
            "Test statistic: 0.10347141154686357, p-value: 8.941238970195636e-10\n",
            "Is the distribution Likely Normal? False\n"
          ],
          "name": "stdout"
        }
      ]
    }
  ]
}